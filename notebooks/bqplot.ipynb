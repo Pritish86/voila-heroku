{
 "cells": [
  {
   "cell_type": "markdown",
   "metadata": {},
   "source": [
    "<font color='Brown'><b> \n",
    "\n",
    "#  COVID-19  Dashboard\n",
    "\n",
    "\n",
    "<i><font color='red'><b> Real World Covid Data Analysis<br> </font> \n",
    "<font color='Brown'><b> \n",
    "\n",
    "## What is COVID-19?\n",
    "\n",
    "<font color='Brown'><b>\n",
    "    \n",
    "### Coronavirus disease 2019 (COVID-19)\n",
    "\n",
    "<font color='blue'><b>\n",
    "is an infectious disease caused by severe acute respiratory  syndrome coronavirus 2 (SARS-CoV-2).The disease was first identified in December 2019 in Wuhan, the capital of China's Hubei province, and has since spread globally, resulting in the ongoing 2019â€“20 coronavirus pandemic. As of 1 May 2020, more than 3.3 million cases have been reported across 187 countries and territories, resulting in more than 235,000 deaths. More than 1.03 million people have recovered.\n",
    " <br> </font> \n",
    "    \n",
    "<font color='Brown'><b>\n",
    "       \n",
    "### Common symptoms:\n",
    " \n",
    "<font color='blue'><b>\n",
    "include fever, cough, fatigue, shortness of breath, and both loss of smell and taste.While the majority of cases result in mild symptoms, some progress to viral pneumonia, multi-organ failure, or cytokine storm.The time from exposure to onset of symptoms is typically around five days but may range from two to fourteen days.\n",
    "<br> </font> "
   ]
  },
  {
   "cell_type": "code",
   "execution_count": 14,
   "metadata": {
    "scrolled": true
   },
   "outputs": [],
   "source": [
    "# from IPython.display import Image\n",
    "# Image(filename='covid19.jpg')"
   ]
  },
  {
   "cell_type": "code",
   "execution_count": 15,
   "metadata": {
    "scrolled": true
   },
   "outputs": [
    {
     "name": "stderr",
     "output_type": "stream",
     "text": [
      "C:\\Users\\Pritish\\anaconda3\\lib\\site-packages\\IPython\\core\\display.py:701: UserWarning: Consider using IPython.display.IFrame instead\n",
      "  warnings.warn(\"Consider using IPython.display.IFrame instead\")\n"
     ]
    },
    {
     "data": {
      "text/html": [
       "<iframe width=\"960\" height=\"315\" src=\"https://www.youtube.com/embed/rAj38E7vrS8?rel=0&amp;controls=0&amp;showinfo=0\" frameborder=\"0\" allowfullscreen></iframe>"
      ],
      "text/plain": [
       "<IPython.core.display.HTML object>"
      ]
     },
     "execution_count": 15,
     "metadata": {},
     "output_type": "execute_result"
    }
   ],
   "source": [
    "from IPython.display import HTML\n",
    "\n",
    "# Youtube\n",
    "HTML('<iframe width=\"960\" height=\"315\" src=\"https://www.youtube.com/embed/rAj38E7vrS8?rel=0&amp;controls=0&amp;showinfo=0\" frameborder=\"0\" allowfullscreen></iframe>')\n"
   ]
  },
  {
   "cell_type": "code",
   "execution_count": 16,
   "metadata": {},
   "outputs": [
    {
     "data": {
      "text/html": [
       "<div style = 'background-color: Yellow; padding: 4px '><span style='color: bLACK; font-size:20px;'> Video Reference: https://www.youtube.com/watch?time_continue=7&v=rAj38E7vrS8</span></div>"
      ],
      "text/plain": [
       "<IPython.core.display.HTML object>"
      ]
     },
     "metadata": {},
     "output_type": "display_data"
    }
   ],
   "source": [
    "display(HTML(\"<div style = 'background-color: Yellow; padding: 4px '>\" +\n",
    "             \"<span style='color: bLACK; font-size:20px;'> Video Reference: \"  + \"https://www.youtube.com/watch?time_continue=7&v=rAj38E7vrS8\" +\"</span>\" +   \n",
    "             \"</div>\")\n",
    "       )"
   ]
  },
  {
   "cell_type": "code",
   "execution_count": 17,
   "metadata": {},
   "outputs": [
    {
     "data": {
      "text/html": [
       "<div style = 'background-color: PINK; padding: 10px '><span style='color: bLACK; font-size:20px;'> Data Source: COVID-19 Data Repository by the Center for Systems Science and Engineering (CSSE) at Johns Hopkins University</span></div>"
      ],
      "text/plain": [
       "<IPython.core.display.HTML object>"
      ]
     },
     "metadata": {},
     "output_type": "display_data"
    }
   ],
   "source": [
    "## Data Source: \n",
    "\n",
    "display(HTML(\"<div style = 'background-color: PINK; padding: 10px '>\" +\n",
    "             \"<span style='color: bLACK; font-size:20px;'> Data Source: \"  + \"COVID-19 Data Repository by the Center for Systems Science and Engineering (CSSE) at Johns Hopkins University\" +\"</span>\" +   \n",
    "             \"</div>\")\n",
    "       )\n",
    "       "
   ]
  },
  {
   "cell_type": "code",
   "execution_count": 18,
   "metadata": {},
   "outputs": [],
   "source": [
    "#Import \n",
    "# Use iPY widgets\n",
    "from __future__ import print_function\n",
    "from ipywidgets import interact, interactive, fixed, interact_manual\n",
    "from IPython.core.display import display, HTML\n",
    "\n",
    "import numpy as np\n",
    "import pandas as pd\n",
    "import matplotlib.pyplot as plt\n",
    "import plotly.express as px\n",
    "import folium\n",
    "import plotly.graph_objects as go\n",
    "import seaborn as sns\n",
    "import ipywidgets as widgets"
   ]
  },
  {
   "cell_type": "code",
   "execution_count": 57,
   "metadata": {},
   "outputs": [],
   "source": [
    "death_df = pd.read_csv(\"https://raw.githubusercontent.com/CSSEGISandData/COVID-19/master/csse_covid_19_data/csse_covid_19_time_series/time_series_covid19_deaths_global.csv\")\n",
    "confirmed_df= pd.read_csv(\"https://raw.githubusercontent.com/CSSEGISandData/COVID-19/master/csse_covid_19_data/csse_covid_19_time_series/time_series_covid19_confirmed_global.csv\")\n",
    "recovered_df = pd.read_csv(\"https://raw.githubusercontent.com/CSSEGISandData/COVID-19/master/csse_covid_19_data/csse_covid_19_time_series/time_series_covid19_recovered_global.csv\")\n",
    "country_df = pd.read_csv(\"https://raw.githubusercontent.com/CSSEGISandData/COVID-19/web-data/data/cases_country.csv\")\n"
   ]
  },
  {
   "cell_type": "code",
   "execution_count": 20,
   "metadata": {},
   "outputs": [],
   "source": [
    "#death_df.head()"
   ]
  },
  {
   "cell_type": "code",
   "execution_count": 21,
   "metadata": {},
   "outputs": [],
   "source": [
    "#confirmed_df.head()"
   ]
  },
  {
   "cell_type": "code",
   "execution_count": 22,
   "metadata": {},
   "outputs": [],
   "source": [
    "#recovered_df.head()"
   ]
  },
  {
   "cell_type": "code",
   "execution_count": 23,
   "metadata": {},
   "outputs": [],
   "source": [
    "#country_df.head()"
   ]
  },
  {
   "cell_type": "code",
   "execution_count": 24,
   "metadata": {},
   "outputs": [],
   "source": [
    "# Data Cleaning\n",
    "#convert columns into lowercase\n",
    "\n",
    "country_df.columns = map(str.lower, country_df.columns)\n",
    "death_df.columns = map(str.lower, death_df.columns)\n",
    "confirmed_df.columns = map(str.lower, confirmed_df.columns)\n",
    "recovered_df.columns = map(str.lower, recovered_df.columns)\n"
   ]
  },
  {
   "cell_type": "code",
   "execution_count": 25,
   "metadata": {},
   "outputs": [],
   "source": [
    "country_df=country_df.rename(columns={'province/state': 'state', 'country_region':'country'})\n",
    "death_df=death_df.rename(columns={'province/state': 'state', 'country/region':'country'})\n",
    "confirmed_df=confirmed_df.rename(columns={'province/state': 'state', 'country/region':'country'})\n",
    "recovered_df=recovered_df.rename(columns={'province/state': 'state', 'country/region':'country'})\n",
    "\n",
    "confirmed_df_latest=confirmed_df.iloc[:,-1:]"
   ]
  },
  {
   "cell_type": "code",
   "execution_count": 26,
   "metadata": {},
   "outputs": [],
   "source": [
    "# total number of confirmed, death and recovered cases\n",
    "confirmed_total = int(country_df['confirmed'].sum())\n",
    "deaths_total = int(country_df['deaths'].sum())\n",
    "recovered_total = int(country_df['recovered'].sum())\n",
    "active_total = int(country_df['active'].sum())"
   ]
  },
  {
   "cell_type": "code",
   "execution_count": 72,
   "metadata": {
    "scrolled": true
   },
   "outputs": [
    {
     "data": {
      "text/html": [
       "<div style = 'background-color: olive; padding: 45px '><span style='color: black; font-size:35px;text-align: center'><b>World Wide Statistics </span> <marquee width:50%;scrolldelay:150 ><span style='color: blue; font-size:20px;margin-right:20px;'> As on: 5/17/20</span><span style='color: yellow; font-size:20px;margin-left:20px;'> Confirmed: 4758937</span><span style='color: red; font-size:20px;margin-left:20px;'> Deaths: 316277</span><span style='color: lightgreen; font-size:20px; margin-left:20px;'> Recovered: 1754891</span></marquee></div>"
      ],
      "text/plain": [
       "<IPython.core.display.HTML object>"
      ]
     },
     "metadata": {},
     "output_type": "display_data"
    }
   ],
   "source": [
    "# displaying the total stats\n",
    "\n",
    "display(HTML( \"<div style = 'background-color: olive; padding: 45px '>\" +\n",
    "              \"<span style='color: black; font-size:35px;text-align: center'><b>World Wide Statistics </span>\" + \n",
    "              \" <marquee width:50%;scrolldelay:150 >\"+\n",
    "              \"<span style='color: blue; font-size:20px;margin-right:20px;'> As on: \"  + str(confirmed_df_latest.columns.values[0])  +\"</span>\" +\n",
    "              \"<span style='color: yellow; font-size:20px;margin-left:20px;'> Confirmed: \"  + str(confirmed_total) +\"</span>\" +\n",
    "              \"<span style='color: red; font-size:20px;margin-left:20px;'> Deaths: \" + str(deaths_total) + \"</span>\"+\n",
    "             \"<span style='color: lightgreen; font-size:20px; margin-left:20px;'> Recovered: \" + str(recovered_total) + \"</span>\"+\n",
    "              \"</marquee>\"\n",
    "             \"</div>\")\n",
    "       )"
   ]
  },
  {
   "cell_type": "code",
   "execution_count": 45,
   "metadata": {},
   "outputs": [],
   "source": [
    "#see worst country\n",
    "sorted_country_df = country_df.sort_values('confirmed', ascending=False)\n"
   ]
  },
  {
   "cell_type": "code",
   "execution_count": 46,
   "metadata": {},
   "outputs": [],
   "source": [
    "sorted_country_df1=sorted_country_df[['country','confirmed','deaths','recovered','active','mortality_rate']]\n",
    "#sorted_country_df1"
   ]
  },
  {
   "cell_type": "markdown",
   "metadata": {},
   "source": [
    "<font color='Brown'><b> \n",
    "   \n",
    "## COVID-19 Confirmed/Death/Recovered/Active cases by countries--By Most Cases"
   ]
  },
  {
   "cell_type": "code",
   "execution_count": 47,
   "metadata": {},
   "outputs": [
    {
     "data": {
      "application/vnd.jupyter.widget-view+json": {
       "model_id": "8fce881a850441d8bda49db03127b645",
       "version_major": 2,
       "version_minor": 0
      },
      "text/plain": [
       "interactive(children=(Text(value='10', description='n'), Output()), _dom_classes=('widget-interact',))"
      ]
     },
     "metadata": {},
     "output_type": "display_data"
    },
    {
     "data": {
      "application/vnd.jupyter.widget-view+json": {
       "model_id": "6ffda21f971f40e4b7ca42e085129204",
       "version_major": 2,
       "version_minor": 0
      },
      "text/plain": [
       "VBox(children=(FigureWidget({\n",
       "    'data': [], 'layout': {'template': '...'}\n",
       "}),), layout=Layout(border='solid â€¦"
      ]
     },
     "metadata": {},
     "output_type": "display_data"
    }
   ],
   "source": [
    "# sorting the values by confirmed descednding order\n",
    "# country_df.sort_values('confirmed', ascending= False).head(10).style.background_gradient(cmap='copper')\n",
    "fig = go.FigureWidget( layout=go.Layout() )\n",
    "def highlight_col(x):\n",
    "    r = 'background-color: red'\n",
    "    y = 'background-color: yellow'\n",
    "    g = 'background-color: green'\n",
    "    gr = 'background-color: grey'\n",
    "    o = 'background-color: orange'\n",
    "    df1 = pd.DataFrame('', index=x.index, columns=x.columns)\n",
    "    df1.iloc[:, 1] = y\n",
    "    df1.iloc[:, 2] = r\n",
    "    df1.iloc[:, 3] = g\n",
    "    df1.iloc[:, 4] = gr\n",
    "    df1.iloc[:, 5] = o\n",
    "    \n",
    "    return df1\n",
    "\n",
    "def show_latest_cases(n):\n",
    "    n = int(n)\n",
    "    sorted_country_df1.reset_index(drop=True, inplace=True)\n",
    "    return sorted_country_df1.sort_values('confirmed', ascending= False).head(n).style.apply(highlight_col, axis=None)\n",
    "     # apply style on the columns\n",
    "   \n",
    "  \n",
    "  \n",
    "interact(show_latest_cases, n='10')\n",
    "\n",
    "ipywLayout = widgets.Layout(border='solid 2px green')\n",
    "ipywLayout.display='none' # uncomment this, run cell again - then the graph/figure disappears\n",
    "widgets.VBox([fig], layout=ipywLayout)\n",
    "\n",
    "\n",
    "    "
   ]
  },
  {
   "cell_type": "markdown",
   "metadata": {},
   "source": [
    "<font color='Brown'><b> \n",
    "    \n",
    "## Confirmed cases"
   ]
  },
  {
   "cell_type": "code",
   "execution_count": 48,
   "metadata": {},
   "outputs": [
    {
     "data": {
      "application/vnd.jupyter.widget-view+json": {
       "model_id": "49dffc829e5b451fb2053b7f717ab10a",
       "version_major": 2,
       "version_minor": 0
      },
      "text/plain": [
       "interactive(children=(IntSlider(value=30, description='n', max=90, min=-30), Output()), _dom_classes=('widget-â€¦"
      ]
     },
     "metadata": {},
     "output_type": "display_data"
    },
    {
     "data": {
      "application/vnd.jupyter.widget-view+json": {
       "model_id": "e73ab14d24024f99ae9de1b27ddf22ef",
       "version_major": 2,
       "version_minor": 0
      },
      "text/plain": [
       "VBox(children=(FigureWidget({\n",
       "    'data': [], 'layout': {'autosize': True, 'template': '...'}\n",
       "}),), layout=Layâ€¦"
      ]
     },
     "metadata": {},
     "output_type": "display_data"
    }
   ],
   "source": [
    "def bar_chart(n):\n",
    "    fig=px.bar(\n",
    "        sorted_country_df1.head(n),\n",
    "        x = \"country\",\n",
    "        y = \"confirmed\",\n",
    "        title= \"Top \" + str(n) + \" worst affected countries\", # the axis names\n",
    "        color='country', \n",
    "        height=500,\n",
    "        width=800,\n",
    "        labels={'country':'Country', 'confirmed': 'Confirmed Cases'}\n",
    "        )\n",
    "    fig.show();\n",
    "\n",
    "interact(bar_chart, n=30)\n",
    "\n",
    "ipywLayout = widgets.Layout(border='solid 2px green')\n",
    "ipywLayout.display='none'\n",
    "widgets.VBox([fig], layout=ipywLayout)"
   ]
  },
  {
   "cell_type": "markdown",
   "metadata": {},
   "source": [
    "<font color='Brown'><b> \n",
    "\n",
    "## Death cases"
   ]
  },
  {
   "cell_type": "code",
   "execution_count": 50,
   "metadata": {
    "scrolled": true
   },
   "outputs": [
    {
     "data": {
      "application/vnd.jupyter.widget-view+json": {
       "model_id": "60d3b88c22e647c0ac137e1de53e61cc",
       "version_major": 2,
       "version_minor": 0
      },
      "text/plain": [
       "interactive(children=(IntSlider(value=30, description='n', max=90, min=-30), Output()), _dom_classes=('widget-â€¦"
      ]
     },
     "metadata": {},
     "output_type": "display_data"
    },
    {
     "data": {
      "application/vnd.jupyter.widget-view+json": {
       "model_id": "3302a4abea1a4e52ba8e33bfaaeca027",
       "version_major": 2,
       "version_minor": 0
      },
      "text/plain": [
       "VBox(children=(FigureWidget({\n",
       "    'data': [], 'layout': {'autosize': True, 'template': '...'}\n",
       "}),), layout=Layâ€¦"
      ]
     },
     "metadata": {},
     "output_type": "display_data"
    }
   ],
   "source": [
    "def bar_chart(n):\n",
    "    fig=px.pie(\n",
    "        sorted_country_df1.head(n),\n",
    "        names = \"country\",\n",
    "        values = \"deaths\",\n",
    "        title= \"Top \" + str(n) + \" worst affected countries\", # the axis names\n",
    "        color='country', \n",
    "        height=500,\n",
    "        width=800,\n",
    "        labels={'country':'Country', 'deaths': 'Mortality'}\n",
    "        )\n",
    "    fig.show();\n",
    "\n",
    "interact(bar_chart, n=30)\n",
    "\n",
    "ipywLayout = widgets.Layout(border='solid 2px green')\n",
    "ipywLayout.display='none'\n",
    "widgets.VBox([fig], layout=ipywLayout)"
   ]
  },
  {
   "cell_type": "markdown",
   "metadata": {},
   "source": [
    "<font color='Brown'><b> \n",
    "    \n",
    "## 3D visualization of Confirmed and Death Cases"
   ]
  },
  {
   "cell_type": "code",
   "execution_count": 51,
   "metadata": {},
   "outputs": [
    {
     "data": {
      "application/vnd.jupyter.widget-view+json": {
       "model_id": "92392abfbfac43b082c7dcd379e320c7",
       "version_major": 2,
       "version_minor": 0
      },
      "text/plain": [
       "interactive(children=(IntSlider(value=30, description='n', max=90, min=-30), Output()), _dom_classes=('widget-â€¦"
      ]
     },
     "metadata": {},
     "output_type": "display_data"
    },
    {
     "data": {
      "application/vnd.jupyter.widget-view+json": {
       "model_id": "f538631914fa404daf363cf0b03266ff",
       "version_major": 2,
       "version_minor": 0
      },
      "text/plain": [
       "VBox(children=(FigureWidget({\n",
       "    'data': [], 'layout': {'autosize': True, 'template': '...'}\n",
       "}),), layout=Layâ€¦"
      ]
     },
     "metadata": {},
     "output_type": "display_data"
    }
   ],
   "source": [
    "def bar_chart(n):\n",
    "    fig=px.scatter_3d(\n",
    "        sorted_country_df1.head(n),\n",
    "        x = \"country\",\n",
    "        y='confirmed',\n",
    "        z='deaths',\n",
    "        title= \"Top \" + str(n) + \" worst affected countries\", # the axis names\n",
    "        color='country', \n",
    "        height=500,\n",
    "        width=800,\n",
    "        labels={'country':'Country', 'confirmed': 'Confirmed Cases', 'deaths': 'Death Cases'}\n",
    "        )\n",
    "    fig.show();\n",
    "\n",
    "interact(bar_chart, n=30)\n",
    "\n",
    "ipywLayout = widgets.Layout(border='solid 2px green')\n",
    "ipywLayout.display='none'\n",
    "widgets.VBox([fig], layout=ipywLayout)\n",
    "\n",
    "\n",
    "\n",
    "\n",
    "# fig = px.scatter_3d(sorted_country_df1, x='country', y='confirmed', z='deaths',\n",
    "#               color='country')\n",
    "# fig.show()"
   ]
  },
  {
   "cell_type": "markdown",
   "metadata": {},
   "source": [
    "<font color='Brown'><b> \n",
    "    \n",
    "## Slidebar  to check for the worst hit countries"
   ]
  },
  {
   "cell_type": "code",
   "execution_count": 52,
   "metadata": {},
   "outputs": [
    {
     "data": {
      "application/vnd.jupyter.widget-view+json": {
       "model_id": "ace4a758a8d7467a93247438fc2f301a",
       "version_major": 2,
       "version_minor": 0
      },
      "text/plain": [
       "interactive(children=(IntSlider(value=30, description='n', max=90, min=-30), Output()), _dom_classes=('widget-â€¦"
      ]
     },
     "metadata": {},
     "output_type": "display_data"
    },
    {
     "data": {
      "application/vnd.jupyter.widget-view+json": {
       "model_id": "181fec7492894b55b707bea82306786d",
       "version_major": 2,
       "version_minor": 0
      },
      "text/plain": [
       "VBox(children=(FigureWidget({\n",
       "    'data': [], 'layout': {'autosize': True, 'template': '...'}\n",
       "}),), layout=Layâ€¦"
      ]
     },
     "metadata": {},
     "output_type": "display_data"
    }
   ],
   "source": [
    "# # plotting the 20 worst hit countries\n",
    "\n",
    "def bubble_chart(n):\n",
    "    fig = px.scatter(sorted_country_df.head(n), x=\"country\", y=\"confirmed\", size=\"confirmed\", color=\"country\",\n",
    "               hover_name=\"country\", size_max=60)\n",
    "    fig.update_layout(\n",
    "    title=str(n) +\" Worst hit countries\",\n",
    "    xaxis_title=\"Countries\",\n",
    "    yaxis_title=\"Confirmed Cases\",\n",
    "    width = 700\n",
    "    )\n",
    "    fig.show();\n",
    "\n",
    "interact(bubble_chart, n=30)\n",
    "\n",
    "ipywLayout = widgets.Layout(border='solid 2px green')\n",
    "ipywLayout.display='none'\n",
    "widgets.VBox([fig], layout=ipywLayout)\n"
   ]
  },
  {
   "cell_type": "markdown",
   "metadata": {},
   "source": [
    "<font color='Brown'><b> \n",
    "    \n",
    "## Chose a country of interest OR view the world-wide cases\n",
    "#### Enter the name of your country(in capitalized format(e.g. Italy)) and world for total cases"
   ]
  },
  {
   "cell_type": "code",
   "execution_count": 53,
   "metadata": {},
   "outputs": [],
   "source": [
    "def plot_cases_of_a_country(country):\n",
    "    labels = ['confirmed', 'deaths', 'recovered']\n",
    "    colors = ['yellow', 'red', 'blue']\n",
    "    mode_size = [6, 8,10]\n",
    "    line_size = [4, 5,6]\n",
    "    \n",
    "    df_list = [confirmed_df, death_df, recovered_df]\n",
    "    \n",
    "    fig = go.Figure();\n",
    "    \n",
    "    for i, df in enumerate(df_list):\n",
    "        if country == 'World' or country == 'world':\n",
    "            x_data = np.array(list(df.iloc[:, 20:].columns))\n",
    "            y_data = np.sum(np.asarray(df.iloc[:,4:]),axis = 0)\n",
    "            \n",
    "        else:    \n",
    "            x_data = np.array(list(df.iloc[:, 20:].columns))\n",
    "            y_data = np.sum(np.asarray(df[df['country'] == country].iloc[:,20:]),axis = 0)\n",
    "            \n",
    "        fig.add_trace(go.Scatter(x=x_data, y=y_data, mode='lines+markers',\n",
    "        name=labels[i],\n",
    "        line=dict(color=colors[i], width=line_size[i]),\n",
    "        connectgaps=True,\n",
    "        text = \"Total \" + str(labels[i]) +\": \"+ str(y_data[-1])\n",
    "        ));\n",
    "    \n",
    "    fig.update_layout(\n",
    "        title=\"One Month COVID 19 cases of \" + country,\n",
    "        xaxis_title='Date',\n",
    "        yaxis_title='No. of Confirmed Cases',\n",
    "        margin=dict(l=20, r=20, t=40, b=20),\n",
    "        paper_bgcolor=\"lightgrey\",\n",
    "        width = 800,\n",
    "        \n",
    "    );\n",
    "    \n",
    "    fig.update_yaxes(type=\"linear\")\n",
    "    fig.show();"
   ]
  },
  {
   "cell_type": "code",
   "execution_count": 54,
   "metadata": {},
   "outputs": [
    {
     "data": {
      "application/vnd.jupyter.widget-view+json": {
       "model_id": "3d9a06782b444c219a2f5500adc58d1d",
       "version_major": 2,
       "version_minor": 0
      },
      "text/plain": [
       "interactive(children=(Text(value='World', description='country'), Output()), _dom_classes=('widget-interact',)â€¦"
      ]
     },
     "metadata": {},
     "output_type": "display_data"
    },
    {
     "data": {
      "application/vnd.jupyter.widget-view+json": {
       "model_id": "c9204afcbfee475185892bc9b5319e13",
       "version_major": 2,
       "version_minor": 0
      },
      "text/plain": [
       "VBox(children=(FigureWidget({\n",
       "    'data': [], 'layout': {'autosize': True, 'template': '...'}\n",
       "}),), layout=Layâ€¦"
      ]
     },
     "metadata": {},
     "output_type": "display_data"
    }
   ],
   "source": [
    "interact(plot_cases_of_a_country, country='World')\n",
    "\n",
    "ipywLayout = widgets.Layout(border='solid 2px green')\n",
    "ipywLayout.display='none' # uncomment this, run cell again - then the graph/figure disappears\n",
    "widgets.VBox([fig], layout=ipywLayout)"
   ]
  },
  {
   "cell_type": "markdown",
   "metadata": {},
   "source": [
    "<font color='Brown'><b> \n",
    "    \n",
    "## Top 20 Countries in terms of number of Patients Recovered"
   ]
  },
  {
   "cell_type": "code",
   "execution_count": 55,
   "metadata": {},
   "outputs": [
    {
     "data": {
      "application/vnd.jupyter.widget-view+json": {
       "model_id": "583cfb69aee9444aba6746d05b98cab5",
       "version_major": 2,
       "version_minor": 0
      },
      "text/plain": [
       "FigureWidget({\n",
       "    'data': [{'marker': {'color': [#a3a7e4, #a3a7e4, #a3a7e4, #a3a7e4, #a3a7e4,\n",
       "               â€¦"
      ]
     },
     "metadata": {},
     "output_type": "display_data"
    }
   ],
   "source": [
    "x = sorted_country_df1.head(20)[\"country\"]\n",
    "y = sorted_country_df1.head(20)[\"recovered\"]\n",
    "\n",
    "f = go.FigureWidget([go.Scatter(x=x, y=y, mode='markers')])\n",
    "\n",
    "scatter = f.data[0]\n",
    "colors = ['#a3a7e4'] * 100\n",
    "scatter.marker.color = colors\n",
    "scatter.marker.size = [10] * 100\n",
    "f.layout.hovermode = 'closest'\n",
    "f.update_layout(\n",
    "        title=\"Patient Recovery Report\",\n",
    "        yaxis_title='Recovered Cases',\n",
    "        \n",
    "    );\n",
    "\n",
    "# create our callback function\n",
    "def update_point(trace, points, selector):\n",
    "    c = list(scatter.marker.color)\n",
    "    s = list(scatter.marker.size)\n",
    "    for i in points.point_inds:\n",
    "        c[i] = '#bae2be'\n",
    "        s[i] = 20\n",
    "        with f.batch_update():\n",
    "            scatter.marker.color = c\n",
    "            scatter.marker.size = s\n",
    "\n",
    "\n",
    "scatter.on_click(update_point)\n",
    "f\n"
   ]
  },
  {
   "cell_type": "markdown",
   "metadata": {},
   "source": [
    "<!-- <font color='Brown'><b> \n",
    "  \n",
    "# World View of Covid Spread -->"
   ]
  },
  {
   "cell_type": "code",
   "execution_count": 29,
   "metadata": {
    "scrolled": true
   },
   "outputs": [],
   "source": [
    "# world_map = folium.Map(location=[11,0], tiles=\"cartodbpositron\", zoom_start=2, max_zoom = 6, min_zoom = 2)\n",
    "\n",
    "\n",
    "# for i in range(0,len(confirmed_df)):\n",
    "#     folium.Circle(\n",
    "#         location=[confirmed_df.iloc[i]['lat'], confirmed_df.iloc[i]['long']],\n",
    "#         fill=True,\n",
    "#         radius=(int((np.log(confirmed_df.iloc[i,-1]+1.00001)))+0.2)*50000,\n",
    "#         color='red',\n",
    "#         fill_color='green',\n",
    "#         tooltip = \"<div style='margin: 0; background-color: black; color: white;'>\"+\n",
    "#                     \"<h4 style='text-align:center;font-weight: bold'>\"+confirmed_df.iloc[i]['country'] + \"</h4>\"\n",
    "#                     \"<hr style='margin:10px;color: white;'>\"+\n",
    "#                     \"<ul style='color: white;;list-style-type:circle;align-item:left;padding-left:20px;padding-right:20px'>\"+\n",
    "#                         \"<li>Confirmed: \"+str(confirmed_df.iloc[i,-1])+\"</li>\"+\n",
    "#                         \"<li>Deaths:   \"+str(death_df.iloc[i,-1])+\"</li>\"+\n",
    "#                         \"<li>Death Rate: \"+ str(np.round(death_df.iloc[i,-1]/(confirmed_df.iloc[i,-1]+1.00001)*100,2))+ \"</li>\"+\n",
    "#                     \"</ul></div>\",\n",
    "#         ).add_to(world_map)\n",
    "\n",
    "# world_map\n",
    "\n"
   ]
  },
  {
   "cell_type": "markdown",
   "metadata": {},
   "source": [
    "<font color='Brown'><b> \n",
    "    \n",
    "# A Spatial View of World Mortality Rate"
   ]
  },
  {
   "cell_type": "code",
   "execution_count": 56,
   "metadata": {},
   "outputs": [
    {
     "data": {
      "application/vnd.plotly.v1+json": {
       "config": {
        "plotlyServerURL": "https://plot.ly"
       },
       "data": [
        {
         "autocolorscale": false,
         "colorbar": {
          "title": {
           "text": "Mortality"
          }
         },
         "colorscale": [
          [
           0,
           "rgb(247,251,255)"
          ],
          [
           0.125,
           "rgb(222,235,247)"
          ],
          [
           0.25,
           "rgb(198,219,239)"
          ],
          [
           0.375,
           "rgb(158,202,225)"
          ],
          [
           0.5,
           "rgb(107,174,214)"
          ],
          [
           0.625,
           "rgb(66,146,198)"
          ],
          [
           0.75,
           "rgb(33,113,181)"
          ],
          [
           0.875,
           "rgb(8,81,156)"
          ],
          [
           1,
           "rgb(8,48,107)"
          ]
         ],
         "hoverinfo": "location+z",
         "locationmode": "country names",
         "locations": [
          "US",
          "Russia",
          "United Kingdom",
          "Brazil",
          "Spain",
          "Italy",
          "France",
          "Germany",
          "Turkey",
          "Iran",
          "India",
          "Peru",
          "China",
          "Canada",
          "Saudi Arabia",
          "Belgium",
          "Mexico",
          "Chile",
          "Netherlands",
          "Pakistan",
          "Qatar",
          "Ecuador",
          "Switzerland",
          "Belarus",
          "Sweden",
          "Portugal",
          "Singapore",
          "Ireland",
          "Bangladesh",
          "United Arab Emirates",
          "Poland",
          "Ukraine",
          "Indonesia",
          "Romania",
          "Israel",
          "Japan",
          "Austria",
          "Kuwait",
          "Colombia",
          "South Africa",
          "Dominican Republic",
          "Philippines",
          "Egypt",
          "Denmark",
          "Korea, South",
          "Serbia",
          "Panama",
          "Czechia",
          "Norway",
          "Argentina",
          "Algeria",
          "Bahrain",
          "Afghanistan",
          "Australia",
          "Malaysia",
          "Morocco",
          "Kazakhstan",
          "Finland",
          "Moldova",
          "Nigeria",
          "Ghana",
          "Oman",
          "Armenia",
          "Bolivia",
          "Luxembourg",
          "Iraq",
          "Hungary",
          "Azerbaijan",
          "Cameroon",
          "Thailand",
          "Greece",
          "Uzbekistan",
          "Guinea",
          "Honduras",
          "Sudan",
          "Senegal",
          "Bosnia and Herzegovina",
          "Bulgaria",
          "Croatia",
          "Cote d'Ivoire",
          "Guatemala",
          "Cuba",
          "North Macedonia",
          "Iceland",
          "Estonia",
          "Tajikistan",
          "Lithuania",
          "Djibouti",
          "New Zealand",
          "Slovakia",
          "Slovenia",
          "Congo (Kinshasa)",
          "Somalia",
          "El Salvador",
          "Gabon",
          "Kyrgyzstan",
          "Maldives",
          "Tunisia",
          "Latvia",
          "Guinea-Bissau",
          "Sri Lanka",
          "Kosovo",
          "Albania",
          "Lebanon",
          "Cyprus",
          "Kenya",
          "Niger",
          "Mali",
          "Costa Rica",
          "Burkina Faso",
          "Paraguay",
          "Zambia",
          "Andorra",
          "Uruguay",
          "Diamond Princess",
          "Georgia",
          "San Marino",
          "Jordan",
          "Equatorial Guinea",
          "Malta",
          "Venezuela",
          "Jamaica",
          "Tanzania",
          "Sierra Leone",
          "Chad",
          "Haiti",
          "Taiwan*",
          "Congo (Brazzaville)",
          "West Bank and Gaza",
          "Nepal",
          "Ethiopia",
          "Benin",
          "Mauritius",
          "Cabo Verde",
          "Central African Republic",
          "Vietnam",
          "Montenegro",
          "Madagascar",
          "Togo",
          "Rwanda",
          "South Sudan",
          "Uganda",
          "Sao Tome and Principe",
          "Liberia",
          "Eswatini",
          "Burma",
          "Mozambique",
          "Brunei",
          "Mongolia",
          "Yemen",
          "Cambodia",
          "Guyana",
          "Trinidad and Tobago",
          "Bahamas",
          "Monaco",
          "Barbados",
          "Liechtenstein",
          "Malawi",
          "Libya",
          "Mauritania",
          "Syria",
          "Angola",
          "Zimbabwe",
          "Burundi",
          "Eritrea",
          "Nicaragua",
          "Botswana",
          "Antigua and Barbuda",
          "Timor-Leste",
          "Gambia",
          "Grenada",
          "Bhutan",
          "Laos",
          "Saint Lucia",
          "Belize",
          "Fiji",
          "Saint Vincent and the Grenadines",
          "Dominica",
          "Namibia",
          "Saint Kitts and Nevis",
          "Holy See",
          "Comoros",
          "Suriname",
          "Seychelles",
          "MS Zaandam",
          "Papua New Guinea",
          "Western Sahara",
          "Lesotho"
         ],
         "marker": {
          "line": {
           "color": "darkgray",
           "width": 0.5
          }
         },
         "reversescale": true,
         "text": [
          "US",
          "Russia",
          "United Kingdom",
          "Brazil",
          "Spain",
          "Italy",
          "France",
          "Germany",
          "Turkey",
          "Iran",
          "India",
          "Peru",
          "China",
          "Canada",
          "Saudi Arabia",
          "Belgium",
          "Mexico",
          "Chile",
          "Netherlands",
          "Pakistan",
          "Qatar",
          "Ecuador",
          "Switzerland",
          "Belarus",
          "Sweden",
          "Portugal",
          "Singapore",
          "Ireland",
          "Bangladesh",
          "United Arab Emirates",
          "Poland",
          "Ukraine",
          "Indonesia",
          "Romania",
          "Israel",
          "Japan",
          "Austria",
          "Kuwait",
          "Colombia",
          "South Africa",
          "Dominican Republic",
          "Philippines",
          "Egypt",
          "Denmark",
          "Korea, South",
          "Serbia",
          "Panama",
          "Czechia",
          "Norway",
          "Argentina",
          "Algeria",
          "Bahrain",
          "Afghanistan",
          "Australia",
          "Malaysia",
          "Morocco",
          "Kazakhstan",
          "Finland",
          "Moldova",
          "Nigeria",
          "Ghana",
          "Oman",
          "Armenia",
          "Bolivia",
          "Luxembourg",
          "Iraq",
          "Hungary",
          "Azerbaijan",
          "Cameroon",
          "Thailand",
          "Greece",
          "Uzbekistan",
          "Guinea",
          "Honduras",
          "Sudan",
          "Senegal",
          "Bosnia and Herzegovina",
          "Bulgaria",
          "Croatia",
          "Cote d'Ivoire",
          "Guatemala",
          "Cuba",
          "North Macedonia",
          "Iceland",
          "Estonia",
          "Tajikistan",
          "Lithuania",
          "Djibouti",
          "New Zealand",
          "Slovakia",
          "Slovenia",
          "Congo (Kinshasa)",
          "Somalia",
          "El Salvador",
          "Gabon",
          "Kyrgyzstan",
          "Maldives",
          "Tunisia",
          "Latvia",
          "Guinea-Bissau",
          "Sri Lanka",
          "Kosovo",
          "Albania",
          "Lebanon",
          "Cyprus",
          "Kenya",
          "Niger",
          "Mali",
          "Costa Rica",
          "Burkina Faso",
          "Paraguay",
          "Zambia",
          "Andorra",
          "Uruguay",
          "Diamond Princess",
          "Georgia",
          "San Marino",
          "Jordan",
          "Equatorial Guinea",
          "Malta",
          "Venezuela",
          "Jamaica",
          "Tanzania",
          "Sierra Leone",
          "Chad",
          "Haiti",
          "Taiwan*",
          "Congo (Brazzaville)",
          "West Bank and Gaza",
          "Nepal",
          "Ethiopia",
          "Benin",
          "Mauritius",
          "Cabo Verde",
          "Central African Republic",
          "Vietnam",
          "Montenegro",
          "Madagascar",
          "Togo",
          "Rwanda",
          "South Sudan",
          "Uganda",
          "Sao Tome and Principe",
          "Liberia",
          "Eswatini",
          "Burma",
          "Mozambique",
          "Brunei",
          "Mongolia",
          "Yemen",
          "Cambodia",
          "Guyana",
          "Trinidad and Tobago",
          "Bahamas",
          "Monaco",
          "Barbados",
          "Liechtenstein",
          "Malawi",
          "Libya",
          "Mauritania",
          "Syria",
          "Angola",
          "Zimbabwe",
          "Burundi",
          "Eritrea",
          "Nicaragua",
          "Botswana",
          "Antigua and Barbuda",
          "Timor-Leste",
          "Gambia",
          "Grenada",
          "Bhutan",
          "Laos",
          "Saint Lucia",
          "Belize",
          "Fiji",
          "Saint Vincent and the Grenadines",
          "Dominica",
          "Namibia",
          "Saint Kitts and Nevis",
          "Holy See",
          "Comoros",
          "Suriname",
          "Seychelles",
          "MS Zaandam",
          "Papua New Guinea",
          "Western Sahara",
          "Lesotho"
         ],
         "type": "choropleth",
         "z": [
          6.011610763857927,
          0.9364313776756412,
          14.079594357827425,
          6.636901714215496,
          11.947654509358554,
          14.169536846019671,
          15.643903769206364,
          4.5244716824033855,
          2.7704353063204743,
          5.761192567677889,
          3.138946296462695,
          2.8697452125757263,
          5.517881361981583,
          7.532795671481803,
          0.5580259830848374,
          16.342986734822446,
          10.518295780084928,
          1.0377993443192428,
          12.884238064094179,
          2.143620178041543,
          0.04415790868144485,
          8.245434271593032,
          6.164003006830735,
          0.5593353395263639,
          12.173684037265035,
          4.214454448971208,
          0.07762057650919098,
          6.399303251493032,
          1.462086300795978,
          0.9418614607415018,
          4.956314535345513,
          2.873871938117748,
          6.612992781787896,
          6.4980042263442135,
          1.6364839660670236,
          4.568621430764507,
          3.8662486938349008,
          0.7520234529348034,
          3.68562989598048,
          1.7015791169835643,
          3.4106090373280944,
          6.534046233684544,
          5.1516886090440765,
          4.907755686906682,
          2.3768639855399907,
          2.159080287877372,
          2.86279408702894,
          3.4947812829834644,
          2.8218481288603607,
          4.635597421913734,
          7.707262880155535,
          0.16769144773616546,
          2.446266968325792,
          1.4022662889518414,
          1.6280074917158909,
          2.7705627705627704,
          0.5434782608695652,
          4.702194357366771,
          3.5353535353535355,
          3.0542037254572922,
          0.5056669572798606,
          0.4647704034207102,
          1.2647729628861704,
          4.134050880626223,
          2.712294043092522,
          3.5734383792909403,
          13.069306930693068,
          1.18098612341305,
          4.508856682769727,
          1.8475750577367205,
          5.818053596614949,
          0.4677941705649514,
          0.6019563581640331,
          5.366591080876796,
          4.052489386337322,
          1.0220125786163523,
          5.7725694444444455,
          4.921700223713646,
          4.26391382405745,
          1.2802275960170697,
          1.830543933054393,
          4.1998936735778845,
          5.723720418271878,
          0.5549389567147613,
          3.5874439461883414,
          2.371312897628687,
          3.8138332255979317,
          0.4611330698287221,
          1.400933955970647,
          1.872909698996656,
          7.094133697135061,
          4.1924398625429555,
          3.9408866995073883,
          2.123142250530785,
          0.8333333333333334,
          1.1513157894736843,
          0.3656307129798903,
          4.339440694310511,
          1.883052527254708,
          0.404040404040404,
          0.9127789046653144,
          3.0366492146596857,
          3.270042194092827,
          2.7926960257787323,
          1.8538713195201744,
          5.482456140350879,
          5.9734513274336285,
          5.949656750572082,
          1.1587485515643106,
          6.407035175879398,
          1.3994910941475829,
          0.9198423127463864,
          6.7017082785808135,
          2.724795640326976,
          1.8258426966292127,
          1.7118402282453635,
          6.269113149847095,
          1.468189233278956,
          1.1784511784511784,
          1.075268817204301,
          1.8484288354898333,
          1.7307692307692308,
          4.12573673870334,
          6.336633663366338,
          10.536779324055669,
          4.385964912280701,
          1.5909090909090908,
          3.836317135549872,
          0.5181347150259067,
          0.5602240896358543,
          1.4204545454545454,
          0.5899705014749262,
          3.0120481927710845,
          0.9146341463414634,
          0,
          0,
          2.7777777777777777,
          0.3105590062111801,
          3.654485049833887,
          0,
          1.3793103448275863,
          0,
          2.9787234042553186,
          9.60698689956332,
          0.9852216748768472,
          3.2085561497326203,
          0,
          0.7092198581560284,
          0,
          15.625,
          0,
          8.547008547008549,
          6.896551724137932,
          11.458333333333336,
          4.166666666666667,
          7.954545454545454,
          1.2195121951219512,
          4.285714285714286,
          4.615384615384615,
          6.451612903225808,
          5.172413793103448,
          4.166666666666667,
          9.090909090909092,
          2.380952380952381,
          0,
          32,
          4,
          12,
          0,
          4.3478260869565215,
          0,
          0,
          0,
          0,
          11.111111111111107,
          0,
          0,
          0,
          0,
          0,
          0,
          9.090909090909092,
          9.090909090909092,
          0,
          22.222222222222214,
          0,
          0,
          0
         ]
        }
       ],
       "layout": {
        "geo": {
         "projection": {
          "type": "orthographic"
         },
         "showcoastlines": false,
         "showframe": false
        },
        "template": {
         "data": {
          "bar": [
           {
            "error_x": {
             "color": "#2a3f5f"
            },
            "error_y": {
             "color": "#2a3f5f"
            },
            "marker": {
             "line": {
              "color": "#E5ECF6",
              "width": 0.5
             }
            },
            "type": "bar"
           }
          ],
          "barpolar": [
           {
            "marker": {
             "line": {
              "color": "#E5ECF6",
              "width": 0.5
             }
            },
            "type": "barpolar"
           }
          ],
          "carpet": [
           {
            "aaxis": {
             "endlinecolor": "#2a3f5f",
             "gridcolor": "white",
             "linecolor": "white",
             "minorgridcolor": "white",
             "startlinecolor": "#2a3f5f"
            },
            "baxis": {
             "endlinecolor": "#2a3f5f",
             "gridcolor": "white",
             "linecolor": "white",
             "minorgridcolor": "white",
             "startlinecolor": "#2a3f5f"
            },
            "type": "carpet"
           }
          ],
          "choropleth": [
           {
            "colorbar": {
             "outlinewidth": 0,
             "ticks": ""
            },
            "type": "choropleth"
           }
          ],
          "contour": [
           {
            "colorbar": {
             "outlinewidth": 0,
             "ticks": ""
            },
            "colorscale": [
             [
              0,
              "#0d0887"
             ],
             [
              0.1111111111111111,
              "#46039f"
             ],
             [
              0.2222222222222222,
              "#7201a8"
             ],
             [
              0.3333333333333333,
              "#9c179e"
             ],
             [
              0.4444444444444444,
              "#bd3786"
             ],
             [
              0.5555555555555556,
              "#d8576b"
             ],
             [
              0.6666666666666666,
              "#ed7953"
             ],
             [
              0.7777777777777778,
              "#fb9f3a"
             ],
             [
              0.8888888888888888,
              "#fdca26"
             ],
             [
              1,
              "#f0f921"
             ]
            ],
            "type": "contour"
           }
          ],
          "contourcarpet": [
           {
            "colorbar": {
             "outlinewidth": 0,
             "ticks": ""
            },
            "type": "contourcarpet"
           }
          ],
          "heatmap": [
           {
            "colorbar": {
             "outlinewidth": 0,
             "ticks": ""
            },
            "colorscale": [
             [
              0,
              "#0d0887"
             ],
             [
              0.1111111111111111,
              "#46039f"
             ],
             [
              0.2222222222222222,
              "#7201a8"
             ],
             [
              0.3333333333333333,
              "#9c179e"
             ],
             [
              0.4444444444444444,
              "#bd3786"
             ],
             [
              0.5555555555555556,
              "#d8576b"
             ],
             [
              0.6666666666666666,
              "#ed7953"
             ],
             [
              0.7777777777777778,
              "#fb9f3a"
             ],
             [
              0.8888888888888888,
              "#fdca26"
             ],
             [
              1,
              "#f0f921"
             ]
            ],
            "type": "heatmap"
           }
          ],
          "heatmapgl": [
           {
            "colorbar": {
             "outlinewidth": 0,
             "ticks": ""
            },
            "colorscale": [
             [
              0,
              "#0d0887"
             ],
             [
              0.1111111111111111,
              "#46039f"
             ],
             [
              0.2222222222222222,
              "#7201a8"
             ],
             [
              0.3333333333333333,
              "#9c179e"
             ],
             [
              0.4444444444444444,
              "#bd3786"
             ],
             [
              0.5555555555555556,
              "#d8576b"
             ],
             [
              0.6666666666666666,
              "#ed7953"
             ],
             [
              0.7777777777777778,
              "#fb9f3a"
             ],
             [
              0.8888888888888888,
              "#fdca26"
             ],
             [
              1,
              "#f0f921"
             ]
            ],
            "type": "heatmapgl"
           }
          ],
          "histogram": [
           {
            "marker": {
             "colorbar": {
              "outlinewidth": 0,
              "ticks": ""
             }
            },
            "type": "histogram"
           }
          ],
          "histogram2d": [
           {
            "colorbar": {
             "outlinewidth": 0,
             "ticks": ""
            },
            "colorscale": [
             [
              0,
              "#0d0887"
             ],
             [
              0.1111111111111111,
              "#46039f"
             ],
             [
              0.2222222222222222,
              "#7201a8"
             ],
             [
              0.3333333333333333,
              "#9c179e"
             ],
             [
              0.4444444444444444,
              "#bd3786"
             ],
             [
              0.5555555555555556,
              "#d8576b"
             ],
             [
              0.6666666666666666,
              "#ed7953"
             ],
             [
              0.7777777777777778,
              "#fb9f3a"
             ],
             [
              0.8888888888888888,
              "#fdca26"
             ],
             [
              1,
              "#f0f921"
             ]
            ],
            "type": "histogram2d"
           }
          ],
          "histogram2dcontour": [
           {
            "colorbar": {
             "outlinewidth": 0,
             "ticks": ""
            },
            "colorscale": [
             [
              0,
              "#0d0887"
             ],
             [
              0.1111111111111111,
              "#46039f"
             ],
             [
              0.2222222222222222,
              "#7201a8"
             ],
             [
              0.3333333333333333,
              "#9c179e"
             ],
             [
              0.4444444444444444,
              "#bd3786"
             ],
             [
              0.5555555555555556,
              "#d8576b"
             ],
             [
              0.6666666666666666,
              "#ed7953"
             ],
             [
              0.7777777777777778,
              "#fb9f3a"
             ],
             [
              0.8888888888888888,
              "#fdca26"
             ],
             [
              1,
              "#f0f921"
             ]
            ],
            "type": "histogram2dcontour"
           }
          ],
          "mesh3d": [
           {
            "colorbar": {
             "outlinewidth": 0,
             "ticks": ""
            },
            "type": "mesh3d"
           }
          ],
          "parcoords": [
           {
            "line": {
             "colorbar": {
              "outlinewidth": 0,
              "ticks": ""
             }
            },
            "type": "parcoords"
           }
          ],
          "pie": [
           {
            "automargin": true,
            "type": "pie"
           }
          ],
          "scatter": [
           {
            "marker": {
             "colorbar": {
              "outlinewidth": 0,
              "ticks": ""
             }
            },
            "type": "scatter"
           }
          ],
          "scatter3d": [
           {
            "line": {
             "colorbar": {
              "outlinewidth": 0,
              "ticks": ""
             }
            },
            "marker": {
             "colorbar": {
              "outlinewidth": 0,
              "ticks": ""
             }
            },
            "type": "scatter3d"
           }
          ],
          "scattercarpet": [
           {
            "marker": {
             "colorbar": {
              "outlinewidth": 0,
              "ticks": ""
             }
            },
            "type": "scattercarpet"
           }
          ],
          "scattergeo": [
           {
            "marker": {
             "colorbar": {
              "outlinewidth": 0,
              "ticks": ""
             }
            },
            "type": "scattergeo"
           }
          ],
          "scattergl": [
           {
            "marker": {
             "colorbar": {
              "outlinewidth": 0,
              "ticks": ""
             }
            },
            "type": "scattergl"
           }
          ],
          "scattermapbox": [
           {
            "marker": {
             "colorbar": {
              "outlinewidth": 0,
              "ticks": ""
             }
            },
            "type": "scattermapbox"
           }
          ],
          "scatterpolar": [
           {
            "marker": {
             "colorbar": {
              "outlinewidth": 0,
              "ticks": ""
             }
            },
            "type": "scatterpolar"
           }
          ],
          "scatterpolargl": [
           {
            "marker": {
             "colorbar": {
              "outlinewidth": 0,
              "ticks": ""
             }
            },
            "type": "scatterpolargl"
           }
          ],
          "scatterternary": [
           {
            "marker": {
             "colorbar": {
              "outlinewidth": 0,
              "ticks": ""
             }
            },
            "type": "scatterternary"
           }
          ],
          "surface": [
           {
            "colorbar": {
             "outlinewidth": 0,
             "ticks": ""
            },
            "colorscale": [
             [
              0,
              "#0d0887"
             ],
             [
              0.1111111111111111,
              "#46039f"
             ],
             [
              0.2222222222222222,
              "#7201a8"
             ],
             [
              0.3333333333333333,
              "#9c179e"
             ],
             [
              0.4444444444444444,
              "#bd3786"
             ],
             [
              0.5555555555555556,
              "#d8576b"
             ],
             [
              0.6666666666666666,
              "#ed7953"
             ],
             [
              0.7777777777777778,
              "#fb9f3a"
             ],
             [
              0.8888888888888888,
              "#fdca26"
             ],
             [
              1,
              "#f0f921"
             ]
            ],
            "type": "surface"
           }
          ],
          "table": [
           {
            "cells": {
             "fill": {
              "color": "#EBF0F8"
             },
             "line": {
              "color": "white"
             }
            },
            "header": {
             "fill": {
              "color": "#C8D4E3"
             },
             "line": {
              "color": "white"
             }
            },
            "type": "table"
           }
          ]
         },
         "layout": {
          "annotationdefaults": {
           "arrowcolor": "#2a3f5f",
           "arrowhead": 0,
           "arrowwidth": 1
          },
          "coloraxis": {
           "colorbar": {
            "outlinewidth": 0,
            "ticks": ""
           }
          },
          "colorscale": {
           "diverging": [
            [
             0,
             "#8e0152"
            ],
            [
             0.1,
             "#c51b7d"
            ],
            [
             0.2,
             "#de77ae"
            ],
            [
             0.3,
             "#f1b6da"
            ],
            [
             0.4,
             "#fde0ef"
            ],
            [
             0.5,
             "#f7f7f7"
            ],
            [
             0.6,
             "#e6f5d0"
            ],
            [
             0.7,
             "#b8e186"
            ],
            [
             0.8,
             "#7fbc41"
            ],
            [
             0.9,
             "#4d9221"
            ],
            [
             1,
             "#276419"
            ]
           ],
           "sequential": [
            [
             0,
             "#0d0887"
            ],
            [
             0.1111111111111111,
             "#46039f"
            ],
            [
             0.2222222222222222,
             "#7201a8"
            ],
            [
             0.3333333333333333,
             "#9c179e"
            ],
            [
             0.4444444444444444,
             "#bd3786"
            ],
            [
             0.5555555555555556,
             "#d8576b"
            ],
            [
             0.6666666666666666,
             "#ed7953"
            ],
            [
             0.7777777777777778,
             "#fb9f3a"
            ],
            [
             0.8888888888888888,
             "#fdca26"
            ],
            [
             1,
             "#f0f921"
            ]
           ],
           "sequentialminus": [
            [
             0,
             "#0d0887"
            ],
            [
             0.1111111111111111,
             "#46039f"
            ],
            [
             0.2222222222222222,
             "#7201a8"
            ],
            [
             0.3333333333333333,
             "#9c179e"
            ],
            [
             0.4444444444444444,
             "#bd3786"
            ],
            [
             0.5555555555555556,
             "#d8576b"
            ],
            [
             0.6666666666666666,
             "#ed7953"
            ],
            [
             0.7777777777777778,
             "#fb9f3a"
            ],
            [
             0.8888888888888888,
             "#fdca26"
            ],
            [
             1,
             "#f0f921"
            ]
           ]
          },
          "colorway": [
           "#636efa",
           "#EF553B",
           "#00cc96",
           "#ab63fa",
           "#FFA15A",
           "#19d3f3",
           "#FF6692",
           "#B6E880",
           "#FF97FF",
           "#FECB52"
          ],
          "font": {
           "color": "#2a3f5f"
          },
          "geo": {
           "bgcolor": "white",
           "lakecolor": "white",
           "landcolor": "#E5ECF6",
           "showlakes": true,
           "showland": true,
           "subunitcolor": "white"
          },
          "hoverlabel": {
           "align": "left"
          },
          "hovermode": "closest",
          "mapbox": {
           "style": "light"
          },
          "paper_bgcolor": "white",
          "plot_bgcolor": "#E5ECF6",
          "polar": {
           "angularaxis": {
            "gridcolor": "white",
            "linecolor": "white",
            "ticks": ""
           },
           "bgcolor": "#E5ECF6",
           "radialaxis": {
            "gridcolor": "white",
            "linecolor": "white",
            "ticks": ""
           }
          },
          "scene": {
           "xaxis": {
            "backgroundcolor": "#E5ECF6",
            "gridcolor": "white",
            "gridwidth": 2,
            "linecolor": "white",
            "showbackground": true,
            "ticks": "",
            "zerolinecolor": "white"
           },
           "yaxis": {
            "backgroundcolor": "#E5ECF6",
            "gridcolor": "white",
            "gridwidth": 2,
            "linecolor": "white",
            "showbackground": true,
            "ticks": "",
            "zerolinecolor": "white"
           },
           "zaxis": {
            "backgroundcolor": "#E5ECF6",
            "gridcolor": "white",
            "gridwidth": 2,
            "linecolor": "white",
            "showbackground": true,
            "ticks": "",
            "zerolinecolor": "white"
           }
          },
          "shapedefaults": {
           "line": {
            "color": "#2a3f5f"
           }
          },
          "ternary": {
           "aaxis": {
            "gridcolor": "white",
            "linecolor": "white",
            "ticks": ""
           },
           "baxis": {
            "gridcolor": "white",
            "linecolor": "white",
            "ticks": ""
           },
           "bgcolor": "#E5ECF6",
           "caxis": {
            "gridcolor": "white",
            "linecolor": "white",
            "ticks": ""
           }
          },
          "title": {
           "x": 0.05
          },
          "xaxis": {
           "automargin": true,
           "gridcolor": "white",
           "linecolor": "white",
           "ticks": "",
           "title": {
            "standoff": 15
           },
           "zerolinecolor": "white",
           "zerolinewidth": 2
          },
          "yaxis": {
           "automargin": true,
           "gridcolor": "white",
           "linecolor": "white",
           "ticks": "",
           "title": {
            "standoff": 15
           },
           "zerolinecolor": "white",
           "zerolinewidth": 2
          }
         }
        },
        "title": {
         "text": "<b>3D View Of World &nbsp;Mortality Rate</b>"
        }
       }
      },
      "text/html": [
       "<div>\n",
       "        \n",
       "        \n",
       "            <div id=\"d59352fa-4302-44b7-83a1-b00e96745934\" class=\"plotly-graph-div\" style=\"height:525px; width:100%;\"></div>\n",
       "            <script type=\"text/javascript\">\n",
       "                require([\"plotly\"], function(Plotly) {\n",
       "                    window.PLOTLYENV=window.PLOTLYENV || {};\n",
       "                    \n",
       "                if (document.getElementById(\"d59352fa-4302-44b7-83a1-b00e96745934\")) {\n",
       "                    Plotly.newPlot(\n",
       "                        'd59352fa-4302-44b7-83a1-b00e96745934',\n",
       "                        [{\"autocolorscale\": false, \"colorbar\": {\"title\": {\"text\": \"Mortality\"}}, \"colorscale\": [[0.0, \"rgb(247,251,255)\"], [0.125, \"rgb(222,235,247)\"], [0.25, \"rgb(198,219,239)\"], [0.375, \"rgb(158,202,225)\"], [0.5, \"rgb(107,174,214)\"], [0.625, \"rgb(66,146,198)\"], [0.75, \"rgb(33,113,181)\"], [0.875, \"rgb(8,81,156)\"], [1.0, \"rgb(8,48,107)\"]], \"hoverinfo\": \"location+z\", \"locationmode\": \"country names\", \"locations\": [\"US\", \"Russia\", \"United Kingdom\", \"Brazil\", \"Spain\", \"Italy\", \"France\", \"Germany\", \"Turkey\", \"Iran\", \"India\", \"Peru\", \"China\", \"Canada\", \"Saudi Arabia\", \"Belgium\", \"Mexico\", \"Chile\", \"Netherlands\", \"Pakistan\", \"Qatar\", \"Ecuador\", \"Switzerland\", \"Belarus\", \"Sweden\", \"Portugal\", \"Singapore\", \"Ireland\", \"Bangladesh\", \"United Arab Emirates\", \"Poland\", \"Ukraine\", \"Indonesia\", \"Romania\", \"Israel\", \"Japan\", \"Austria\", \"Kuwait\", \"Colombia\", \"South Africa\", \"Dominican Republic\", \"Philippines\", \"Egypt\", \"Denmark\", \"Korea, South\", \"Serbia\", \"Panama\", \"Czechia\", \"Norway\", \"Argentina\", \"Algeria\", \"Bahrain\", \"Afghanistan\", \"Australia\", \"Malaysia\", \"Morocco\", \"Kazakhstan\", \"Finland\", \"Moldova\", \"Nigeria\", \"Ghana\", \"Oman\", \"Armenia\", \"Bolivia\", \"Luxembourg\", \"Iraq\", \"Hungary\", \"Azerbaijan\", \"Cameroon\", \"Thailand\", \"Greece\", \"Uzbekistan\", \"Guinea\", \"Honduras\", \"Sudan\", \"Senegal\", \"Bosnia and Herzegovina\", \"Bulgaria\", \"Croatia\", \"Cote d'Ivoire\", \"Guatemala\", \"Cuba\", \"North Macedonia\", \"Iceland\", \"Estonia\", \"Tajikistan\", \"Lithuania\", \"Djibouti\", \"New Zealand\", \"Slovakia\", \"Slovenia\", \"Congo (Kinshasa)\", \"Somalia\", \"El Salvador\", \"Gabon\", \"Kyrgyzstan\", \"Maldives\", \"Tunisia\", \"Latvia\", \"Guinea-Bissau\", \"Sri Lanka\", \"Kosovo\", \"Albania\", \"Lebanon\", \"Cyprus\", \"Kenya\", \"Niger\", \"Mali\", \"Costa Rica\", \"Burkina Faso\", \"Paraguay\", \"Zambia\", \"Andorra\", \"Uruguay\", \"Diamond Princess\", \"Georgia\", \"San Marino\", \"Jordan\", \"Equatorial Guinea\", \"Malta\", \"Venezuela\", \"Jamaica\", \"Tanzania\", \"Sierra Leone\", \"Chad\", \"Haiti\", \"Taiwan*\", \"Congo (Brazzaville)\", \"West Bank and Gaza\", \"Nepal\", \"Ethiopia\", \"Benin\", \"Mauritius\", \"Cabo Verde\", \"Central African Republic\", \"Vietnam\", \"Montenegro\", \"Madagascar\", \"Togo\", \"Rwanda\", \"South Sudan\", \"Uganda\", \"Sao Tome and Principe\", \"Liberia\", \"Eswatini\", \"Burma\", \"Mozambique\", \"Brunei\", \"Mongolia\", \"Yemen\", \"Cambodia\", \"Guyana\", \"Trinidad and Tobago\", \"Bahamas\", \"Monaco\", \"Barbados\", \"Liechtenstein\", \"Malawi\", \"Libya\", \"Mauritania\", \"Syria\", \"Angola\", \"Zimbabwe\", \"Burundi\", \"Eritrea\", \"Nicaragua\", \"Botswana\", \"Antigua and Barbuda\", \"Timor-Leste\", \"Gambia\", \"Grenada\", \"Bhutan\", \"Laos\", \"Saint Lucia\", \"Belize\", \"Fiji\", \"Saint Vincent and the Grenadines\", \"Dominica\", \"Namibia\", \"Saint Kitts and Nevis\", \"Holy See\", \"Comoros\", \"Suriname\", \"Seychelles\", \"MS Zaandam\", \"Papua New Guinea\", \"Western Sahara\", \"Lesotho\"], \"marker\": {\"line\": {\"color\": \"darkgray\", \"width\": 0.5}}, \"reversescale\": true, \"text\": [\"US\", \"Russia\", \"United Kingdom\", \"Brazil\", \"Spain\", \"Italy\", \"France\", \"Germany\", \"Turkey\", \"Iran\", \"India\", \"Peru\", \"China\", \"Canada\", \"Saudi Arabia\", \"Belgium\", \"Mexico\", \"Chile\", \"Netherlands\", \"Pakistan\", \"Qatar\", \"Ecuador\", \"Switzerland\", \"Belarus\", \"Sweden\", \"Portugal\", \"Singapore\", \"Ireland\", \"Bangladesh\", \"United Arab Emirates\", \"Poland\", \"Ukraine\", \"Indonesia\", \"Romania\", \"Israel\", \"Japan\", \"Austria\", \"Kuwait\", \"Colombia\", \"South Africa\", \"Dominican Republic\", \"Philippines\", \"Egypt\", \"Denmark\", \"Korea, South\", \"Serbia\", \"Panama\", \"Czechia\", \"Norway\", \"Argentina\", \"Algeria\", \"Bahrain\", \"Afghanistan\", \"Australia\", \"Malaysia\", \"Morocco\", \"Kazakhstan\", \"Finland\", \"Moldova\", \"Nigeria\", \"Ghana\", \"Oman\", \"Armenia\", \"Bolivia\", \"Luxembourg\", \"Iraq\", \"Hungary\", \"Azerbaijan\", \"Cameroon\", \"Thailand\", \"Greece\", \"Uzbekistan\", \"Guinea\", \"Honduras\", \"Sudan\", \"Senegal\", \"Bosnia and Herzegovina\", \"Bulgaria\", \"Croatia\", \"Cote d'Ivoire\", \"Guatemala\", \"Cuba\", \"North Macedonia\", \"Iceland\", \"Estonia\", \"Tajikistan\", \"Lithuania\", \"Djibouti\", \"New Zealand\", \"Slovakia\", \"Slovenia\", \"Congo (Kinshasa)\", \"Somalia\", \"El Salvador\", \"Gabon\", \"Kyrgyzstan\", \"Maldives\", \"Tunisia\", \"Latvia\", \"Guinea-Bissau\", \"Sri Lanka\", \"Kosovo\", \"Albania\", \"Lebanon\", \"Cyprus\", \"Kenya\", \"Niger\", \"Mali\", \"Costa Rica\", \"Burkina Faso\", \"Paraguay\", \"Zambia\", \"Andorra\", \"Uruguay\", \"Diamond Princess\", \"Georgia\", \"San Marino\", \"Jordan\", \"Equatorial Guinea\", \"Malta\", \"Venezuela\", \"Jamaica\", \"Tanzania\", \"Sierra Leone\", \"Chad\", \"Haiti\", \"Taiwan*\", \"Congo (Brazzaville)\", \"West Bank and Gaza\", \"Nepal\", \"Ethiopia\", \"Benin\", \"Mauritius\", \"Cabo Verde\", \"Central African Republic\", \"Vietnam\", \"Montenegro\", \"Madagascar\", \"Togo\", \"Rwanda\", \"South Sudan\", \"Uganda\", \"Sao Tome and Principe\", \"Liberia\", \"Eswatini\", \"Burma\", \"Mozambique\", \"Brunei\", \"Mongolia\", \"Yemen\", \"Cambodia\", \"Guyana\", \"Trinidad and Tobago\", \"Bahamas\", \"Monaco\", \"Barbados\", \"Liechtenstein\", \"Malawi\", \"Libya\", \"Mauritania\", \"Syria\", \"Angola\", \"Zimbabwe\", \"Burundi\", \"Eritrea\", \"Nicaragua\", \"Botswana\", \"Antigua and Barbuda\", \"Timor-Leste\", \"Gambia\", \"Grenada\", \"Bhutan\", \"Laos\", \"Saint Lucia\", \"Belize\", \"Fiji\", \"Saint Vincent and the Grenadines\", \"Dominica\", \"Namibia\", \"Saint Kitts and Nevis\", \"Holy See\", \"Comoros\", \"Suriname\", \"Seychelles\", \"MS Zaandam\", \"Papua New Guinea\", \"Western Sahara\", \"Lesotho\"], \"type\": \"choropleth\", \"z\": [6.011610763857927, 0.9364313776756412, 14.079594357827425, 6.636901714215496, 11.947654509358554, 14.169536846019671, 15.643903769206364, 4.5244716824033855, 2.7704353063204743, 5.761192567677889, 3.138946296462695, 2.8697452125757263, 5.517881361981583, 7.532795671481803, 0.5580259830848374, 16.342986734822446, 10.518295780084928, 1.0377993443192428, 12.884238064094179, 2.143620178041543, 0.04415790868144485, 8.245434271593032, 6.164003006830735, 0.5593353395263639, 12.173684037265035, 4.214454448971208, 0.07762057650919098, 6.399303251493032, 1.462086300795978, 0.9418614607415018, 4.956314535345513, 2.873871938117748, 6.612992781787896, 6.4980042263442135, 1.6364839660670236, 4.568621430764507, 3.8662486938349008, 0.7520234529348034, 3.68562989598048, 1.7015791169835643, 3.4106090373280944, 6.534046233684544, 5.1516886090440765, 4.907755686906682, 2.3768639855399907, 2.159080287877372, 2.86279408702894, 3.4947812829834644, 2.8218481288603607, 4.635597421913734, 7.707262880155535, 0.16769144773616546, 2.446266968325792, 1.4022662889518414, 1.6280074917158909, 2.7705627705627704, 0.5434782608695652, 4.702194357366771, 3.5353535353535355, 3.0542037254572922, 0.5056669572798606, 0.4647704034207102, 1.2647729628861704, 4.134050880626223, 2.712294043092522, 3.5734383792909403, 13.069306930693068, 1.18098612341305, 4.508856682769727, 1.8475750577367205, 5.818053596614949, 0.4677941705649514, 0.6019563581640331, 5.366591080876796, 4.052489386337322, 1.0220125786163523, 5.7725694444444455, 4.921700223713646, 4.26391382405745, 1.2802275960170697, 1.830543933054393, 4.1998936735778845, 5.723720418271878, 0.5549389567147613, 3.5874439461883414, 2.371312897628687, 3.8138332255979317, 0.4611330698287221, 1.400933955970647, 1.872909698996656, 7.094133697135061, 4.1924398625429555, 3.9408866995073883, 2.123142250530785, 0.8333333333333334, 1.1513157894736843, 0.3656307129798903, 4.339440694310511, 1.883052527254708, 0.404040404040404, 0.9127789046653144, 3.0366492146596857, 3.270042194092827, 2.7926960257787323, 1.8538713195201744, 5.482456140350879, 5.9734513274336285, 5.949656750572082, 1.1587485515643106, 6.407035175879398, 1.3994910941475829, 0.9198423127463864, 6.7017082785808135, 2.724795640326976, 1.8258426966292127, 1.7118402282453635, 6.269113149847095, 1.468189233278956, 1.1784511784511784, 1.075268817204301, 1.8484288354898333, 1.7307692307692308, 4.12573673870334, 6.336633663366338, 10.536779324055669, 4.385964912280701, 1.5909090909090908, 3.836317135549872, 0.5181347150259067, 0.5602240896358543, 1.4204545454545454, 0.5899705014749262, 3.0120481927710845, 0.9146341463414634, 0.0, 0.0, 2.7777777777777777, 0.3105590062111801, 3.654485049833887, 0.0, 1.3793103448275863, 0.0, 2.9787234042553186, 9.60698689956332, 0.9852216748768472, 3.2085561497326203, 0.0, 0.7092198581560284, 0.0, 15.625, 0.0, 8.547008547008549, 6.896551724137932, 11.458333333333336, 4.166666666666667, 7.954545454545454, 1.2195121951219512, 4.285714285714286, 4.615384615384615, 6.451612903225808, 5.172413793103448, 4.166666666666667, 9.090909090909092, 2.380952380952381, 0.0, 32.0, 4.0, 12.0, 0.0, 4.3478260869565215, 0.0, 0.0, 0.0, 0.0, 11.111111111111107, 0.0, 0.0, 0.0, 0.0, 0.0, 0.0, 9.090909090909092, 9.090909090909092, 0.0, 22.222222222222214, 0.0, 0.0, 0.0]}],\n",
       "                        {\"geo\": {\"projection\": {\"type\": \"orthographic\"}, \"showcoastlines\": false, \"showframe\": false}, \"template\": {\"data\": {\"bar\": [{\"error_x\": {\"color\": \"#2a3f5f\"}, \"error_y\": {\"color\": \"#2a3f5f\"}, \"marker\": {\"line\": {\"color\": \"#E5ECF6\", \"width\": 0.5}}, \"type\": \"bar\"}], \"barpolar\": [{\"marker\": {\"line\": {\"color\": \"#E5ECF6\", \"width\": 0.5}}, \"type\": \"barpolar\"}], \"carpet\": [{\"aaxis\": {\"endlinecolor\": \"#2a3f5f\", \"gridcolor\": \"white\", \"linecolor\": \"white\", \"minorgridcolor\": \"white\", \"startlinecolor\": \"#2a3f5f\"}, \"baxis\": {\"endlinecolor\": \"#2a3f5f\", \"gridcolor\": \"white\", \"linecolor\": \"white\", \"minorgridcolor\": \"white\", \"startlinecolor\": \"#2a3f5f\"}, \"type\": \"carpet\"}], \"choropleth\": [{\"colorbar\": {\"outlinewidth\": 0, \"ticks\": \"\"}, \"type\": \"choropleth\"}], \"contour\": [{\"colorbar\": {\"outlinewidth\": 0, \"ticks\": \"\"}, \"colorscale\": [[0.0, \"#0d0887\"], [0.1111111111111111, \"#46039f\"], [0.2222222222222222, \"#7201a8\"], [0.3333333333333333, \"#9c179e\"], [0.4444444444444444, \"#bd3786\"], [0.5555555555555556, \"#d8576b\"], [0.6666666666666666, \"#ed7953\"], [0.7777777777777778, \"#fb9f3a\"], [0.8888888888888888, \"#fdca26\"], [1.0, \"#f0f921\"]], \"type\": \"contour\"}], \"contourcarpet\": [{\"colorbar\": {\"outlinewidth\": 0, \"ticks\": \"\"}, \"type\": \"contourcarpet\"}], \"heatmap\": [{\"colorbar\": {\"outlinewidth\": 0, \"ticks\": \"\"}, \"colorscale\": [[0.0, \"#0d0887\"], [0.1111111111111111, \"#46039f\"], [0.2222222222222222, \"#7201a8\"], [0.3333333333333333, \"#9c179e\"], [0.4444444444444444, \"#bd3786\"], [0.5555555555555556, \"#d8576b\"], [0.6666666666666666, \"#ed7953\"], [0.7777777777777778, \"#fb9f3a\"], [0.8888888888888888, \"#fdca26\"], [1.0, \"#f0f921\"]], \"type\": \"heatmap\"}], \"heatmapgl\": [{\"colorbar\": {\"outlinewidth\": 0, \"ticks\": \"\"}, \"colorscale\": [[0.0, \"#0d0887\"], [0.1111111111111111, \"#46039f\"], [0.2222222222222222, \"#7201a8\"], [0.3333333333333333, \"#9c179e\"], [0.4444444444444444, \"#bd3786\"], [0.5555555555555556, \"#d8576b\"], [0.6666666666666666, \"#ed7953\"], [0.7777777777777778, \"#fb9f3a\"], [0.8888888888888888, \"#fdca26\"], [1.0, \"#f0f921\"]], \"type\": \"heatmapgl\"}], \"histogram\": [{\"marker\": {\"colorbar\": {\"outlinewidth\": 0, \"ticks\": \"\"}}, \"type\": \"histogram\"}], \"histogram2d\": [{\"colorbar\": {\"outlinewidth\": 0, \"ticks\": \"\"}, \"colorscale\": [[0.0, \"#0d0887\"], [0.1111111111111111, \"#46039f\"], [0.2222222222222222, \"#7201a8\"], [0.3333333333333333, \"#9c179e\"], [0.4444444444444444, \"#bd3786\"], [0.5555555555555556, \"#d8576b\"], [0.6666666666666666, \"#ed7953\"], [0.7777777777777778, \"#fb9f3a\"], [0.8888888888888888, \"#fdca26\"], [1.0, \"#f0f921\"]], \"type\": \"histogram2d\"}], \"histogram2dcontour\": [{\"colorbar\": {\"outlinewidth\": 0, \"ticks\": \"\"}, \"colorscale\": [[0.0, \"#0d0887\"], [0.1111111111111111, \"#46039f\"], [0.2222222222222222, \"#7201a8\"], [0.3333333333333333, \"#9c179e\"], [0.4444444444444444, \"#bd3786\"], [0.5555555555555556, \"#d8576b\"], [0.6666666666666666, \"#ed7953\"], [0.7777777777777778, \"#fb9f3a\"], [0.8888888888888888, \"#fdca26\"], [1.0, \"#f0f921\"]], \"type\": \"histogram2dcontour\"}], \"mesh3d\": [{\"colorbar\": {\"outlinewidth\": 0, \"ticks\": \"\"}, \"type\": \"mesh3d\"}], \"parcoords\": [{\"line\": {\"colorbar\": {\"outlinewidth\": 0, \"ticks\": \"\"}}, \"type\": \"parcoords\"}], \"pie\": [{\"automargin\": true, \"type\": \"pie\"}], \"scatter\": [{\"marker\": {\"colorbar\": {\"outlinewidth\": 0, \"ticks\": \"\"}}, \"type\": \"scatter\"}], \"scatter3d\": [{\"line\": {\"colorbar\": {\"outlinewidth\": 0, \"ticks\": \"\"}}, \"marker\": {\"colorbar\": {\"outlinewidth\": 0, \"ticks\": \"\"}}, \"type\": \"scatter3d\"}], \"scattercarpet\": [{\"marker\": {\"colorbar\": {\"outlinewidth\": 0, \"ticks\": \"\"}}, \"type\": \"scattercarpet\"}], \"scattergeo\": [{\"marker\": {\"colorbar\": {\"outlinewidth\": 0, \"ticks\": \"\"}}, \"type\": \"scattergeo\"}], \"scattergl\": [{\"marker\": {\"colorbar\": {\"outlinewidth\": 0, \"ticks\": \"\"}}, \"type\": \"scattergl\"}], \"scattermapbox\": [{\"marker\": {\"colorbar\": {\"outlinewidth\": 0, \"ticks\": \"\"}}, \"type\": \"scattermapbox\"}], \"scatterpolar\": [{\"marker\": {\"colorbar\": {\"outlinewidth\": 0, \"ticks\": \"\"}}, \"type\": \"scatterpolar\"}], \"scatterpolargl\": [{\"marker\": {\"colorbar\": {\"outlinewidth\": 0, \"ticks\": \"\"}}, \"type\": \"scatterpolargl\"}], \"scatterternary\": [{\"marker\": {\"colorbar\": {\"outlinewidth\": 0, \"ticks\": \"\"}}, \"type\": \"scatterternary\"}], \"surface\": [{\"colorbar\": {\"outlinewidth\": 0, \"ticks\": \"\"}, \"colorscale\": [[0.0, \"#0d0887\"], [0.1111111111111111, \"#46039f\"], [0.2222222222222222, \"#7201a8\"], [0.3333333333333333, \"#9c179e\"], [0.4444444444444444, \"#bd3786\"], [0.5555555555555556, \"#d8576b\"], [0.6666666666666666, \"#ed7953\"], [0.7777777777777778, \"#fb9f3a\"], [0.8888888888888888, \"#fdca26\"], [1.0, \"#f0f921\"]], \"type\": \"surface\"}], \"table\": [{\"cells\": {\"fill\": {\"color\": \"#EBF0F8\"}, \"line\": {\"color\": \"white\"}}, \"header\": {\"fill\": {\"color\": \"#C8D4E3\"}, \"line\": {\"color\": \"white\"}}, \"type\": \"table\"}]}, \"layout\": {\"annotationdefaults\": {\"arrowcolor\": \"#2a3f5f\", \"arrowhead\": 0, \"arrowwidth\": 1}, \"coloraxis\": {\"colorbar\": {\"outlinewidth\": 0, \"ticks\": \"\"}}, \"colorscale\": {\"diverging\": [[0, \"#8e0152\"], [0.1, \"#c51b7d\"], [0.2, \"#de77ae\"], [0.3, \"#f1b6da\"], [0.4, \"#fde0ef\"], [0.5, \"#f7f7f7\"], [0.6, \"#e6f5d0\"], [0.7, \"#b8e186\"], [0.8, \"#7fbc41\"], [0.9, \"#4d9221\"], [1, \"#276419\"]], \"sequential\": [[0.0, \"#0d0887\"], [0.1111111111111111, \"#46039f\"], [0.2222222222222222, \"#7201a8\"], [0.3333333333333333, \"#9c179e\"], [0.4444444444444444, \"#bd3786\"], [0.5555555555555556, \"#d8576b\"], [0.6666666666666666, \"#ed7953\"], [0.7777777777777778, \"#fb9f3a\"], [0.8888888888888888, \"#fdca26\"], [1.0, \"#f0f921\"]], \"sequentialminus\": [[0.0, \"#0d0887\"], [0.1111111111111111, \"#46039f\"], [0.2222222222222222, \"#7201a8\"], [0.3333333333333333, \"#9c179e\"], [0.4444444444444444, \"#bd3786\"], [0.5555555555555556, \"#d8576b\"], [0.6666666666666666, \"#ed7953\"], [0.7777777777777778, \"#fb9f3a\"], [0.8888888888888888, \"#fdca26\"], [1.0, \"#f0f921\"]]}, \"colorway\": [\"#636efa\", \"#EF553B\", \"#00cc96\", \"#ab63fa\", \"#FFA15A\", \"#19d3f3\", \"#FF6692\", \"#B6E880\", \"#FF97FF\", \"#FECB52\"], \"font\": {\"color\": \"#2a3f5f\"}, \"geo\": {\"bgcolor\": \"white\", \"lakecolor\": \"white\", \"landcolor\": \"#E5ECF6\", \"showlakes\": true, \"showland\": true, \"subunitcolor\": \"white\"}, \"hoverlabel\": {\"align\": \"left\"}, \"hovermode\": \"closest\", \"mapbox\": {\"style\": \"light\"}, \"paper_bgcolor\": \"white\", \"plot_bgcolor\": \"#E5ECF6\", \"polar\": {\"angularaxis\": {\"gridcolor\": \"white\", \"linecolor\": \"white\", \"ticks\": \"\"}, \"bgcolor\": \"#E5ECF6\", \"radialaxis\": {\"gridcolor\": \"white\", \"linecolor\": \"white\", \"ticks\": \"\"}}, \"scene\": {\"xaxis\": {\"backgroundcolor\": \"#E5ECF6\", \"gridcolor\": \"white\", \"gridwidth\": 2, \"linecolor\": \"white\", \"showbackground\": true, \"ticks\": \"\", \"zerolinecolor\": \"white\"}, \"yaxis\": {\"backgroundcolor\": \"#E5ECF6\", \"gridcolor\": \"white\", \"gridwidth\": 2, \"linecolor\": \"white\", \"showbackground\": true, \"ticks\": \"\", \"zerolinecolor\": \"white\"}, \"zaxis\": {\"backgroundcolor\": \"#E5ECF6\", \"gridcolor\": \"white\", \"gridwidth\": 2, \"linecolor\": \"white\", \"showbackground\": true, \"ticks\": \"\", \"zerolinecolor\": \"white\"}}, \"shapedefaults\": {\"line\": {\"color\": \"#2a3f5f\"}}, \"ternary\": {\"aaxis\": {\"gridcolor\": \"white\", \"linecolor\": \"white\", \"ticks\": \"\"}, \"baxis\": {\"gridcolor\": \"white\", \"linecolor\": \"white\", \"ticks\": \"\"}, \"bgcolor\": \"#E5ECF6\", \"caxis\": {\"gridcolor\": \"white\", \"linecolor\": \"white\", \"ticks\": \"\"}}, \"title\": {\"x\": 0.05}, \"xaxis\": {\"automargin\": true, \"gridcolor\": \"white\", \"linecolor\": \"white\", \"ticks\": \"\", \"title\": {\"standoff\": 15}, \"zerolinecolor\": \"white\", \"zerolinewidth\": 2}, \"yaxis\": {\"automargin\": true, \"gridcolor\": \"white\", \"linecolor\": \"white\", \"ticks\": \"\", \"title\": {\"standoff\": 15}, \"zerolinecolor\": \"white\", \"zerolinewidth\": 2}}}, \"title\": {\"text\": \"<b>3D View Of World &nbsp;Mortality Rate</b>\"}},\n",
       "                        {\"responsive\": true}\n",
       "                    ).then(function(){\n",
       "                            \n",
       "var gd = document.getElementById('d59352fa-4302-44b7-83a1-b00e96745934');\n",
       "var x = new MutationObserver(function (mutations, observer) {{\n",
       "        var display = window.getComputedStyle(gd).display;\n",
       "        if (!display || display === 'none') {{\n",
       "            console.log([gd, 'removed!']);\n",
       "            Plotly.purge(gd);\n",
       "            observer.disconnect();\n",
       "        }}\n",
       "}});\n",
       "\n",
       "// Listen for the removal of the full notebook cells\n",
       "var notebookContainer = gd.closest('#notebook-container');\n",
       "if (notebookContainer) {{\n",
       "    x.observe(notebookContainer, {childList: true});\n",
       "}}\n",
       "\n",
       "// Listen for the clearing of the current output cell\n",
       "var outputEl = gd.closest('.output');\n",
       "if (outputEl) {{\n",
       "    x.observe(outputEl, {childList: true});\n",
       "}}\n",
       "\n",
       "                        })\n",
       "                };\n",
       "                });\n",
       "            </script>\n",
       "        </div>"
      ]
     },
     "metadata": {},
     "output_type": "display_data"
    }
   ],
   "source": [
    "import plotly.graph_objects as go\n",
    "\n",
    "df = sorted_country_df1\n",
    "\n",
    "\n",
    "fig = go.Figure(data=go.Choropleth(\n",
    "    locations = df['country'],\n",
    "    z = df['mortality_rate'],\n",
    "    text = df['country'],\n",
    "    colorscale = 'Blues',\n",
    "    autocolorscale=False,\n",
    "    reversescale=True,\n",
    "    marker_line_color='darkgray',\n",
    "    marker_line_width=0.5,\n",
    "    colorbar = {\"title\": {\n",
    "      \"font\": {\"family\": \"Roboto\"}, \n",
    "      \"text\": \"<b>3D View Of World &nbsp;Mortality Rate<br>&nbsp; Rate</b>\"\n",
    "    }}, \n",
    "    colorbar_title = 'Mortality',\n",
    "    hoverinfo= \"location+z\", \n",
    "    locationmode= \"country names\",  \n",
    "    \n",
    "))\n",
    "\n",
    "fig.update_layout(\n",
    "    title_text='<b>3D View Of World &nbsp;Mortality Rate</b>',\n",
    "    geo=dict(\n",
    "        showframe=False,\n",
    "        showcoastlines=False,\n",
    "        projection_type='orthographic'\n",
    "    ),\n",
    "#     annotations = [dict(\n",
    "#         x=0.55,\n",
    "#         y=0.1,\n",
    "#         xref='paper',\n",
    "#         yref='paper',\n",
    "#         text='Source: <a href=\"https://www.cia.gov/library/publications/the-world-factbook/fields/2195.html\">\\\n",
    "#             CIA World Factbook</a>',\n",
    "#         showarrow = False\n",
    "#     )]\n",
    ")\n",
    "\n",
    "fig.show()"
   ]
  },
  {
   "cell_type": "markdown",
   "metadata": {},
   "source": [
    "<font color='Brown'><b> \n",
    "\n",
    "## References:\n",
    "\n",
    "### https://github.com/\n",
    "### https://www.arcgis.com/apps/opsdashboard/index.html#/bda7594740fd40299423467b48e9ecf6\n",
    "### https://plotly.com/python/\n",
    "### https://www.who.int/gho/database/en/\n",
    "### https://towardsdatascience.com/building-your-own-covid-19-epidemic-simple-model-using-python-e39788fbda55\n"
   ]
  },
  {
   "cell_type": "markdown",
   "metadata": {},
   "source": [
    "<font color='Brown'><b> \n",
    "\n",
    "## More Info on COVID-19:\n",
    "\n",
    "### https://www.who.int/health-topics/coronavirus\n",
    "### https://www.mygov.in/covid-19\n",
    "### https://www.who.int/gho/database/en/\n"
   ]
  }
 ],
 "metadata": {
  "kernelspec": {
   "display_name": "Python 3",
   "language": "python",
   "name": "python3"
  },
  "language_info": {
   "codemirror_mode": {
    "name": "ipython",
    "version": 3
   },
   "file_extension": ".py",
   "mimetype": "text/x-python",
   "name": "python",
   "nbconvert_exporter": "python",
   "pygments_lexer": "ipython3",
   "version": "3.7.6"
  }
 },
 "nbformat": 4,
 "nbformat_minor": 4
}
