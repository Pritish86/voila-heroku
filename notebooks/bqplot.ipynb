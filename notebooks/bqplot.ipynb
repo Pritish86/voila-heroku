{
 "cells": [
  {
   "cell_type": "markdown",
   "metadata": {},
   "source": [
    "<font color='Brown'><b> \n",
    "\n",
    "#  COVID-19  Dashboard\n",
    "\n",
    "\n",
    "<i><font color='red'><b> Real World Covid Data Analysis<br> </font> \n",
    "<font color='Brown'><b> \n",
    "\n",
    "## What is COVID-19?\n",
    "\n",
    "<font color='Brown'><b>\n",
    "    \n",
    "### Coronavirus disease 2019 (COVID-19)\n",
    "\n",
    "<font color='blue'><b>\n",
    "is an infectious disease caused by severe acute respiratory  syndrome coronavirus 2 (SARS-CoV-2).The disease was first identified in December 2019 in Wuhan, the capital of China's Hubei province, and has since spread globally, resulting in the ongoing 2019â€“20 coronavirus pandemic. As of 1 May 2020, more than 3.3 million cases have been reported across 187 countries and territories, resulting in more than 235,000 deaths. More than 1.03 million people have recovered.\n",
    " <br> </font> \n",
    "    \n",
    "<font color='Brown'><b>\n",
    "       \n",
    "### Common symptoms:\n",
    " \n",
    "<font color='blue'><b>\n",
    "include fever, cough, fatigue, shortness of breath, and both loss of smell and taste.While the majority of cases result in mild symptoms, some progress to viral pneumonia, multi-organ failure, or cytokine storm.The time from exposure to onset of symptoms is typically around five days but may range from two to fourteen days.\n",
    "<br> </font> "
   ]
  },
  {
   "cell_type": "code",
   "execution_count": 1,
   "metadata": {
    "scrolled": true
   },
   "outputs": [],
   "source": [
    "# from IPython.display import Image\n",
    "# Image(filename='covid19.jpg')"
   ]
  },
  {
   "cell_type": "code",
   "execution_count": 2,
   "metadata": {
    "scrolled": true
   },
   "outputs": [
    {
     "name": "stderr",
     "output_type": "stream",
     "text": [
      "C:\\Users\\Pritish\\anaconda3\\lib\\site-packages\\IPython\\core\\display.py:701: UserWarning: Consider using IPython.display.IFrame instead\n",
      "  warnings.warn(\"Consider using IPython.display.IFrame instead\")\n"
     ]
    },
    {
     "data": {
      "text/html": [
       "<iframe width=\"960\" height=\"315\" src=\"https://www.youtube.com/embed/rAj38E7vrS8?rel=0&amp;controls=0&amp;showinfo=0\" frameborder=\"0\" allowfullscreen></iframe>"
      ],
      "text/plain": [
       "<IPython.core.display.HTML object>"
      ]
     },
     "execution_count": 2,
     "metadata": {},
     "output_type": "execute_result"
    }
   ],
   "source": [
    "from IPython.display import HTML\n",
    "\n",
    "# Youtube\n",
    "HTML('<iframe width=\"960\" height=\"315\" src=\"https://www.youtube.com/embed/rAj38E7vrS8?rel=0&amp;controls=0&amp;showinfo=0\" frameborder=\"0\" allowfullscreen></iframe>')\n"
   ]
  },
  {
   "cell_type": "code",
   "execution_count": 3,
   "metadata": {},
   "outputs": [
    {
     "data": {
      "text/html": [
       "<div style = 'background-color: Yellow; padding: 4px '><span style='color: bLACK; font-size:20px;'> Video Reference: https://www.youtube.com/watch?time_continue=7&v=rAj38E7vrS8</span></div>"
      ],
      "text/plain": [
       "<IPython.core.display.HTML object>"
      ]
     },
     "metadata": {},
     "output_type": "display_data"
    }
   ],
   "source": [
    "display(HTML(\"<div style = 'background-color: Yellow; padding: 4px '>\" +\n",
    "             \"<span style='color: bLACK; font-size:20px;'> Video Reference: \"  + \"https://www.youtube.com/watch?time_continue=7&v=rAj38E7vrS8\" +\"</span>\" +   \n",
    "             \"</div>\")\n",
    "       )"
   ]
  },
  {
   "cell_type": "code",
   "execution_count": 4,
   "metadata": {},
   "outputs": [
    {
     "data": {
      "text/html": [
       "<div style = 'background-color: PINK; padding: 10px '><span style='color: bLACK; font-size:20px;'> Data Source: COVID-19 Data Repository by the Center for Systems Science and Engineering (CSSE) at Johns Hopkins University</span></div>"
      ],
      "text/plain": [
       "<IPython.core.display.HTML object>"
      ]
     },
     "metadata": {},
     "output_type": "display_data"
    }
   ],
   "source": [
    "## Data Source: \n",
    "\n",
    "display(HTML(\"<div style = 'background-color: PINK; padding: 10px '>\" +\n",
    "             \"<span style='color: bLACK; font-size:20px;'> Data Source: \"  + \"COVID-19 Data Repository by the Center for Systems Science and Engineering (CSSE) at Johns Hopkins University\" +\"</span>\" +   \n",
    "             \"</div>\")\n",
    "       )\n",
    "       "
   ]
  },
  {
   "cell_type": "code",
   "execution_count": 5,
   "metadata": {},
   "outputs": [],
   "source": [
    "#Import \n",
    "# Use iPY widgets\n",
    "from __future__ import print_function\n",
    "from ipywidgets import interact, interactive, fixed, interact_manual\n",
    "from IPython.core.display import display, HTML\n",
    "\n",
    "import numpy as np\n",
    "import pandas as pd\n",
    "import matplotlib.pyplot as plt\n",
    "import plotly.express as px\n",
    "import folium\n",
    "import plotly.graph_objects as go\n",
    "import seaborn as sns\n",
    "import ipywidgets as widgets"
   ]
  },
  {
   "cell_type": "code",
   "execution_count": 8,
   "metadata": {},
   "outputs": [],
   "source": [
    "death_df = pd.read_csv(\"https://raw.githubusercontent.com/CSSEGISandData/COVID-19/master/csse_covid_19_data/csse_covid_19_time_series/time_series_covid19_deaths_global.csv\")\n",
    "confirmed_df= pd.read_csv(\"https://raw.githubusercontent.com/CSSEGISandData/COVID-19/master/csse_covid_19_data/csse_covid_19_time_series/time_series_covid19_confirmed_global.csv\")\n",
    "recovered_df = pd.read_csv(\"https://raw.githubusercontent.com/CSSEGISandData/COVID-19/master/csse_covid_19_data/csse_covid_19_time_series/time_series_covid19_recovered_global.csv\")\n",
    "country_df = pd.read_csv(\"https://raw.githubusercontent.com/CSSEGISandData/COVID-19/web-data/data/cases_country.csv\")\n"
   ]
  },
  {
   "cell_type": "code",
   "execution_count": 7,
   "metadata": {},
   "outputs": [],
   "source": [
    "#death_df.head()"
   ]
  },
  {
   "cell_type": "code",
   "execution_count": 8,
   "metadata": {},
   "outputs": [],
   "source": [
    "#confirmed_df.head()"
   ]
  },
  {
   "cell_type": "code",
   "execution_count": 9,
   "metadata": {},
   "outputs": [],
   "source": [
    "#recovered_df.head()"
   ]
  },
  {
   "cell_type": "code",
   "execution_count": 10,
   "metadata": {},
   "outputs": [],
   "source": [
    "#country_df.head()"
   ]
  },
  {
   "cell_type": "code",
   "execution_count": 9,
   "metadata": {},
   "outputs": [],
   "source": [
    "# Data Cleaning\n",
    "#convert columns into lowercase\n",
    "\n",
    "country_df.columns = map(str.lower, country_df.columns)\n",
    "death_df.columns = map(str.lower, death_df.columns)\n",
    "confirmed_df.columns = map(str.lower, confirmed_df.columns)\n",
    "recovered_df.columns = map(str.lower, recovered_df.columns)\n"
   ]
  },
  {
   "cell_type": "code",
   "execution_count": 10,
   "metadata": {},
   "outputs": [],
   "source": [
    "country_df=country_df.rename(columns={'province/state': 'state', 'country_region':'country'})\n",
    "death_df=death_df.rename(columns={'province/state': 'state', 'country/region':'country'})\n",
    "confirmed_df=confirmed_df.rename(columns={'province/state': 'state', 'country/region':'country'})\n",
    "recovered_df=recovered_df.rename(columns={'province/state': 'state', 'country/region':'country'})\n",
    "\n",
    "confirmed_df_latest=confirmed_df.iloc[:,-1:]"
   ]
  },
  {
   "cell_type": "code",
   "execution_count": 11,
   "metadata": {},
   "outputs": [],
   "source": [
    "# total number of confirmed, death and recovered cases\n",
    "confirmed_total = int(country_df['confirmed'].sum())\n",
    "deaths_total = int(country_df['deaths'].sum())\n",
    "recovered_total = int(country_df['recovered'].sum())\n",
    "active_total = int(country_df['active'].sum())"
   ]
  },
  {
   "cell_type": "code",
   "execution_count": 12,
   "metadata": {},
   "outputs": [
    {
     "data": {
      "text/html": [
       "<div style = 'background-color: olive; padding: 45px '><span style='color: black; font-size:35px;text-align: center'><b>World Wide Statistics </span> <marquee><span style='color: blue; font-size:20px;margin-right:20px;'> As on: 5/17/20</span><span style='color: yellow; font-size:20px;margin-left:20px;'> Confirmed: 4730323</span><span style='color: red; font-size:20px;margin-left:20px;'> Deaths: 315482</span><span style='color: lightgreen; font-size:20px; margin-left:20px;'> Recovered: 1739743</span></marquee></div>"
      ],
      "text/plain": [
       "<IPython.core.display.HTML object>"
      ]
     },
     "metadata": {},
     "output_type": "display_data"
    }
   ],
   "source": [
    "# displaying the total stats\n",
    "\n",
    "display(HTML(\"<div style = 'background-color: olive; padding: 45px '>\" +\n",
    "            \"<span style='color: black; font-size:35px;text-align: center'><b>World Wide Statistics </span>\" +\n",
    "             \" <marquee>\"+\n",
    "              \"<span style='color: blue; font-size:20px;margin-right:20px;'> As on: \"  + str(confirmed_df_latest.columns.values[0])  +\"</span>\" +\n",
    "              \"<span style='color: yellow; font-size:20px;margin-left:20px;'> Confirmed: \"  + str(confirmed_total) +\"</span>\" +\n",
    "              \"<span style='color: red; font-size:20px;margin-left:20px;'> Deaths: \" + str(deaths_total) + \"</span>\"+\n",
    "             \"<span style='color: lightgreen; font-size:20px; margin-left:20px;'> Recovered: \" + str(recovered_total) + \"</span>\"+\n",
    "             \"</marquee>\"\n",
    "             \"</div>\")\n",
    "       )"
   ]
  },
  {
   "cell_type": "code",
   "execution_count": 13,
   "metadata": {},
   "outputs": [],
   "source": [
    "#see worst country\n",
    "sorted_country_df = country_df.sort_values('confirmed', ascending=False)\n"
   ]
  },
  {
   "cell_type": "code",
   "execution_count": 14,
   "metadata": {},
   "outputs": [],
   "source": [
    "sorted_country_df1=sorted_country_df[['country','confirmed','deaths','recovered','active','mortality_rate']]\n",
    "#sorted_country_df1"
   ]
  },
  {
   "cell_type": "markdown",
   "metadata": {},
   "source": [
    "<font color='Brown'><b> \n",
    "   \n",
    "## COVID-19 Confirmed/Death/Recovered/Active cases by countries--By Most Cases"
   ]
  },
  {
   "cell_type": "code",
   "execution_count": 15,
   "metadata": {},
   "outputs": [
    {
     "data": {
      "application/vnd.jupyter.widget-view+json": {
       "model_id": "b41ad5f7fa6644abb6899416d8494b16",
       "version_major": 2,
       "version_minor": 0
      },
      "text/plain": [
       "interactive(children=(Text(value='10', description='n'), Output()), _dom_classes=('widget-interact',))"
      ]
     },
     "metadata": {},
     "output_type": "display_data"
    },
    {
     "data": {
      "application/vnd.jupyter.widget-view+json": {
       "model_id": "b86174909b424f70b894994603c46df1",
       "version_major": 2,
       "version_minor": 0
      },
      "text/plain": [
       "VBox(children=(FigureWidget({\n",
       "    'data': [], 'layout': {'template': '...'}\n",
       "}),), layout=Layout(border='solid â€¦"
      ]
     },
     "metadata": {},
     "output_type": "display_data"
    }
   ],
   "source": [
    "# sorting the values by confirmed descednding order\n",
    "# country_df.sort_values('confirmed', ascending= False).head(10).style.background_gradient(cmap='copper')\n",
    "fig = go.FigureWidget( layout=go.Layout() )\n",
    "def highlight_col(x):\n",
    "    r = 'background-color: red'\n",
    "    y = 'background-color: yellow'\n",
    "    g = 'background-color: green'\n",
    "    gr = 'background-color: grey'\n",
    "    o = 'background-color: orange'\n",
    "    df1 = pd.DataFrame('', index=x.index, columns=x.columns)\n",
    "    df1.iloc[:, 1] = y\n",
    "    df1.iloc[:, 2] = r\n",
    "    df1.iloc[:, 3] = g\n",
    "    df1.iloc[:, 4] = gr\n",
    "    df1.iloc[:, 5] = o\n",
    "    \n",
    "    return df1\n",
    "\n",
    "def show_latest_cases(n):\n",
    "    n = int(n)\n",
    "    sorted_country_df1.reset_index(drop=True, inplace=True)\n",
    "    return sorted_country_df1.sort_values('confirmed', ascending= False).head(n).style.apply(highlight_col, axis=None)\n",
    "     # apply style on the columns\n",
    "   \n",
    "  \n",
    "  \n",
    "interact(show_latest_cases, n='10')\n",
    "\n",
    "ipywLayout = widgets.Layout(border='solid 2px green')\n",
    "ipywLayout.display='none' # uncomment this, run cell again - then the graph/figure disappears\n",
    "widgets.VBox([fig], layout=ipywLayout)\n",
    "\n",
    "\n",
    "    "
   ]
  },
  {
   "cell_type": "markdown",
   "metadata": {},
   "source": [
    "<font color='Brown'><b> \n",
    "    \n",
    "## Confirmed cases"
   ]
  },
  {
   "cell_type": "code",
   "execution_count": 16,
   "metadata": {},
   "outputs": [
    {
     "data": {
      "application/vnd.jupyter.widget-view+json": {
       "model_id": "4e483c6cc97f4793ae52970e8f2d9312",
       "version_major": 2,
       "version_minor": 0
      },
      "text/plain": [
       "interactive(children=(IntSlider(value=30, description='n', max=90, min=-30), Output()), _dom_classes=('widget-â€¦"
      ]
     },
     "metadata": {},
     "output_type": "display_data"
    },
    {
     "data": {
      "application/vnd.jupyter.widget-view+json": {
       "model_id": "c888e1ede49d4f33865d3aff81ccad16",
       "version_major": 2,
       "version_minor": 0
      },
      "text/plain": [
       "VBox(children=(FigureWidget({\n",
       "    'data': [], 'layout': {'autosize': True, 'template': '...'}\n",
       "}),), layout=Layâ€¦"
      ]
     },
     "metadata": {},
     "output_type": "display_data"
    }
   ],
   "source": [
    "def bar_chart(n):\n",
    "    fig=px.bar(\n",
    "        sorted_country_df1.head(n),\n",
    "        x = \"country\",\n",
    "        y = \"confirmed\",\n",
    "        title= \"Top \" + str(n) + \" worst affected countries\", # the axis names\n",
    "        color='country', \n",
    "        height=500,\n",
    "        width=800,\n",
    "        labels={'country':'Country', 'confirmed': 'Confirmed Cases'}\n",
    "        )\n",
    "    fig.show();\n",
    "\n",
    "interact(bar_chart, n=30)\n",
    "\n",
    "ipywLayout = widgets.Layout(border='solid 2px green')\n",
    "ipywLayout.display='none'\n",
    "widgets.VBox([fig], layout=ipywLayout)"
   ]
  },
  {
   "cell_type": "markdown",
   "metadata": {},
   "source": [
    "<font color='Brown'><b> \n",
    "\n",
    "## Death cases"
   ]
  },
  {
   "cell_type": "code",
   "execution_count": 28,
   "metadata": {
    "scrolled": true
   },
   "outputs": [
    {
     "data": {
      "application/vnd.jupyter.widget-view+json": {
       "model_id": "ec2a3562cbc5473caa595f0767b70f33",
       "version_major": 2,
       "version_minor": 0
      },
      "text/plain": [
       "interactive(children=(IntSlider(value=30, description='n', max=90, min=-30), Output()), _dom_classes=('widget-â€¦"
      ]
     },
     "metadata": {},
     "output_type": "display_data"
    },
    {
     "ename": "TraitError",
     "evalue": "Element of the 'children' trait of a VBox instance must be a Widget, but a value of Figure({\n    'data': [{'autocolorscale': False,\n              'colorbar': {'title': {'text': 'Mortality'}},\n              'colorscale': [[0.0, 'rgb(247,251,255)'], [0.125,\n                             'rgb(222,235,247)'], [0.25, 'rgb(198,219,239)'],\n                             [0.375, 'rgb(158,202,225)'], [0.5,\n                             'rgb(107,174,214)'], [0.625, 'rgb(66,146,198)'],\n                             [0.75, 'rgb(33,113,181)'], [0.875, 'rgb(8,81,156)'],\n                             [1.0, 'rgb(8,48,107)']],\n              'hoverinfo': 'location+z',\n              'locationmode': 'country names',\n              'locations': array(['US', 'Russia', 'United Kingdom', 'Brazil', 'Spain', 'Italy', 'France',\n                                  'Germany', 'Turkey', 'Iran', 'India', 'Peru', 'China', 'Canada',\n                                  'Belgium', 'Saudi Arabia', 'Mexico', 'Netherlands', 'Chile', 'Pakistan',\n                                  'Ecuador', 'Qatar', 'Switzerland', 'Sweden', 'Belarus', 'Portugal',\n                                  'Singapore', 'Ireland', 'Bangladesh', 'United Arab Emirates', 'Poland',\n                                  'Ukraine', 'Indonesia', 'Romania', 'Israel', 'Japan', 'Austria',\n                                  'Colombia', 'South Africa', 'Kuwait', 'Philippines',\n                                  'Dominican Republic', 'Egypt', 'Denmark', 'Korea, South', 'Serbia',\n                                  'Panama', 'Czechia', 'Norway', 'Argentina', 'Australia', 'Algeria',\n                                  'Bahrain', 'Malaysia', 'Morocco', 'Afghanistan', 'Kazakhstan',\n                                  'Finland', 'Moldova', 'Nigeria', 'Ghana', 'Oman', 'Armenia', 'Bolivia',\n                                  'Luxembourg', 'Hungary', 'Iraq', 'Azerbaijan', 'Cameroon', 'Thailand',\n                                  'Greece', 'Uzbekistan', 'Guinea', 'Honduras', 'Sudan', 'Senegal',\n                                  'Bosnia and Herzegovina', 'Bulgaria', 'Croatia', \"Cote d'Ivoire\",\n                                  'Guatemala', 'Cuba', 'Iceland', 'North Macedonia', 'Estonia',\n                                  'Lithuania', 'Tajikistan', 'New Zealand', 'Slovakia', 'Slovenia',\n                                  'Congo (Kinshasa)', 'Somalia', 'El Salvador', 'Djibouti', 'Gabon',\n                                  'Kyrgyzstan', 'Maldives', 'Tunisia', 'Latvia', 'Guinea-Bissau',\n                                  'Sri Lanka', 'Kosovo', 'Albania', 'Cyprus', 'Lebanon', 'Niger', 'Kenya',\n                                  'Costa Rica', 'Mali', 'Burkina Faso', 'Paraguay', 'Andorra', 'Zambia',\n                                  'Uruguay', 'Diamond Princess', 'Georgia', 'San Marino', 'Jordan',\n                                  'Equatorial Guinea', 'Malta', 'Venezuela', 'Jamaica', 'Tanzania',\n                                  'Sierra Leone', 'Chad', 'Haiti', 'Taiwan*', 'Congo (Brazzaville)',\n                                  'West Bank and Gaza', 'Benin', 'Mauritius', 'Cabo Verde',\n                                  'Central African Republic', 'Montenegro', 'Vietnam', 'Ethiopia',\n                                  'Madagascar', 'Nepal', 'Togo', 'Rwanda', 'South Sudan', 'Uganda',\n                                  'Sao Tome and Principe', 'Liberia', 'Eswatini', 'Burma', 'Brunei',\n                                  'Mongolia', 'Mozambique', 'Yemen', 'Cambodia', 'Guyana',\n                                  'Trinidad and Tobago', 'Bahamas', 'Monaco', 'Barbados', 'Liechtenstein',\n                                  'Malawi', 'Libya', 'Mauritania', 'Syria', 'Angola', 'Zimbabwe',\n                                  'Burundi', 'Eritrea', 'Nicaragua', 'Botswana', 'Antigua and Barbuda',\n                                  'Timor-Leste', 'Gambia', 'Grenada', 'Bhutan', 'Laos', 'Saint Lucia',\n                                  'Belize', 'Fiji', 'Saint Vincent and the Grenadines', 'Dominica',\n                                  'Namibia', 'Saint Kitts and Nevis', 'Holy See', 'Comoros', 'Seychelles',\n                                  'Suriname', 'MS Zaandam', 'Papua New Guinea', 'Western Sahara',\n                                  'Lesotho'], dtype=object),\n              'marker': {'line': {'color': 'darkgray', 'width': 0.5}},\n              'reversescale': True,\n              'text': array(['US', 'Russia', 'United Kingdom', 'Brazil', 'Spain', 'Italy', 'France',\n                             'Germany', 'Turkey', 'Iran', 'India', 'Peru', 'China', 'Canada',\n                             'Belgium', 'Saudi Arabia', 'Mexico', 'Netherlands', 'Chile', 'Pakistan',\n                             'Ecuador', 'Qatar', 'Switzerland', 'Sweden', 'Belarus', 'Portugal',\n                             'Singapore', 'Ireland', 'Bangladesh', 'United Arab Emirates', 'Poland',\n                             'Ukraine', 'Indonesia', 'Romania', 'Israel', 'Japan', 'Austria',\n                             'Colombia', 'South Africa', 'Kuwait', 'Philippines',\n                             'Dominican Republic', 'Egypt', 'Denmark', 'Korea, South', 'Serbia',\n                             'Panama', 'Czechia', 'Norway', 'Argentina', 'Australia', 'Algeria',\n                             'Bahrain', 'Malaysia', 'Morocco', 'Afghanistan', 'Kazakhstan',\n                             'Finland', 'Moldova', 'Nigeria', 'Ghana', 'Oman', 'Armenia', 'Bolivia',\n                             'Luxembourg', 'Hungary', 'Iraq', 'Azerbaijan', 'Cameroon', 'Thailand',\n                             'Greece', 'Uzbekistan', 'Guinea', 'Honduras', 'Sudan', 'Senegal',\n                             'Bosnia and Herzegovina', 'Bulgaria', 'Croatia', \"Cote d'Ivoire\",\n                             'Guatemala', 'Cuba', 'Iceland', 'North Macedonia', 'Estonia',\n                             'Lithuania', 'Tajikistan', 'New Zealand', 'Slovakia', 'Slovenia',\n                             'Congo (Kinshasa)', 'Somalia', 'El Salvador', 'Djibouti', 'Gabon',\n                             'Kyrgyzstan', 'Maldives', 'Tunisia', 'Latvia', 'Guinea-Bissau',\n                             'Sri Lanka', 'Kosovo', 'Albania', 'Cyprus', 'Lebanon', 'Niger', 'Kenya',\n                             'Costa Rica', 'Mali', 'Burkina Faso', 'Paraguay', 'Andorra', 'Zambia',\n                             'Uruguay', 'Diamond Princess', 'Georgia', 'San Marino', 'Jordan',\n                             'Equatorial Guinea', 'Malta', 'Venezuela', 'Jamaica', 'Tanzania',\n                             'Sierra Leone', 'Chad', 'Haiti', 'Taiwan*', 'Congo (Brazzaville)',\n                             'West Bank and Gaza', 'Benin', 'Mauritius', 'Cabo Verde',\n                             'Central African Republic', 'Montenegro', 'Vietnam', 'Ethiopia',\n                             'Madagascar', 'Nepal', 'Togo', 'Rwanda', 'South Sudan', 'Uganda',\n                             'Sao Tome and Principe', 'Liberia', 'Eswatini', 'Burma', 'Brunei',\n                             'Mongolia', 'Mozambique', 'Yemen', 'Cambodia', 'Guyana',\n                             'Trinidad and Tobago', 'Bahamas', 'Monaco', 'Barbados', 'Liechtenstein',\n                             'Malawi', 'Libya', 'Mauritania', 'Syria', 'Angola', 'Zimbabwe',\n                             'Burundi', 'Eritrea', 'Nicaragua', 'Botswana', 'Antigua and Barbuda',\n                             'Timor-Leste', 'Gambia', 'Grenada', 'Bhutan', 'Laos', 'Saint Lucia',\n                             'Belize', 'Fiji', 'Saint Vincent and the Grenadines', 'Dominica',\n                             'Namibia', 'Saint Kitts and Nevis', 'Holy See', 'Comoros', 'Seychelles',\n                             'Suriname', 'MS Zaandam', 'Papua New Guinea', 'Western Sahara',\n                             'Lesotho'], dtype=object),\n              'type': 'choropleth',\n              'z': array([ 6.02417904,  0.93643138, 14.1700851 ,  6.68740667, 11.94765451,\n                          14.15396899, 15.64390377,  4.51710837,  2.77043531,  5.81374066,\n                           3.14966361,  2.86974521,  5.51788136,  7.53587295, 16.34298673,\n                           0.5698422 , 10.51829578, 12.89512388,  1.02784313,  2.14362018,\n                           8.24543427,  0.04600662,  6.14967143, 12.20515543,  0.55649241,\n                           4.19479267,  0.07762058,  6.39930325,  1.4620863 ,  0.94186146,\n                           4.95572389,  2.87387194,  6.61299278,  6.56155533,  1.63648397,\n                           4.56862143,  3.86624869,  3.6856299 ,  1.70157912,  0.75420875,\n                           6.53404623,  3.47571869,  5.15168861,  4.89879993,  2.37686399,\n                           2.16776626,  2.86279409,  3.51415094,  2.81246212,  4.62320278,\n                           1.40226629,  7.80737997,  0.17251294,  1.62800749,  2.79475983,\n                           2.53601441,  0.52795031,  4.67084639,  3.48184818,  3.05420373,\n                           0.50566696,  0.42758877,  1.26477296,  4.13405088,  2.71229404,\n                          13.06930693,  3.613396  ,  1.19120342,  4.50885668,  1.84757506,\n                           5.75158786,  0.43446778,  0.60195636,  5.36659108,  4.05248939,\n                           1.00806452,  5.80786026,  4.92170022,  4.26774483,  1.2802276 ,\n                           1.83054393,  4.22008547,  0.55493896,  5.63616071,  3.58744395,\n                           3.81383323,  2.55905512,  1.40093396,  1.8729097 ,  7.0941337 ,\n                           4.19243986,  3.9408867 ,  2.12314225,  0.28551035,  0.83333333,\n                           1.15131579,  0.36563071,  4.33944069,  1.88305253,  0.4040404 ,\n                           0.91743119,  3.03664921,  3.2769556 ,  1.8558952 ,  2.85400659,\n                           5.97345133,  5.63697858,  1.15874855,  6.04651163,  6.40703518,\n                           1.39949109,  6.70170828,  0.92961487,  2.72479564,  1.8258427 ,\n                           1.71184023,  6.26911315,  1.46818923,  1.17845118,  1.08499096,\n                           1.84842884,  1.73076923,  4.12573674,  6.33663366, 10.53677932,\n                           4.38596491,  1.59090909,  3.83631714,  0.52493438,  0.5899705 ,\n                           3.01204819,  0.91463415,  0.        ,  2.77777778,  0.        ,\n                           1.57728707,  0.32894737,  0.65789474,  3.65448505,  0.        ,\n                           1.37931034,  0.        ,  2.9787234 ,  9.2920354 ,  0.98522167,\n                           3.20855615,  0.70921986,  0.        ,  0.        , 15.625     ,\n                           0.        ,  8.54700855,  6.89655172, 11.45833333,  4.16666667,\n                           7.95454545,  1.2195122 ,  4.28571429,  4.61538462,  6.4516129 ,\n                           5.17241379,  4.16666667,  9.09090909,  2.38095238,  0.        ,\n                          32.        ,  4.        , 12.        ,  0.        ,  4.34782609,\n                           0.        ,  0.        ,  0.        ,  0.        , 11.11111111,\n                           0.        ,  0.        ,  0.        ,  0.        ,  0.        ,\n                           0.        ,  9.09090909,  0.        , 10.        , 22.22222222,\n                           0.        ,  0.        ,  0.        ])}],\n    'layout': {'geo': {'projection': {'type': 'orthographic'}, 'showcoastlines': False, 'showframe': False},\n               'template': '...',\n               'title': {'text': '<b>3D View Of World &nbsp;Mortality Rate</b>'}}\n}) <class 'plotly.graph_objs._figure.Figure'> was specified.",
     "output_type": "error",
     "traceback": [
      "\u001b[1;31m---------------------------------------------------------------------------\u001b[0m",
      "\u001b[1;31mTraitError\u001b[0m                                Traceback (most recent call last)",
      "\u001b[1;32m~\\anaconda3\\lib\\site-packages\\traitlets\\traitlets.py\u001b[0m in \u001b[0;36mvalidate_elements\u001b[1;34m(self, obj, value)\u001b[0m\n\u001b[0;32m   2251\u001b[0m             \u001b[1;32mtry\u001b[0m\u001b[1;33m:\u001b[0m\u001b[1;33m\u001b[0m\u001b[1;33m\u001b[0m\u001b[0m\n\u001b[1;32m-> 2252\u001b[1;33m                 \u001b[0mv\u001b[0m \u001b[1;33m=\u001b[0m \u001b[0mself\u001b[0m\u001b[1;33m.\u001b[0m\u001b[0m_trait\u001b[0m\u001b[1;33m.\u001b[0m\u001b[0m_validate\u001b[0m\u001b[1;33m(\u001b[0m\u001b[0mobj\u001b[0m\u001b[1;33m,\u001b[0m \u001b[0mv\u001b[0m\u001b[1;33m)\u001b[0m\u001b[1;33m\u001b[0m\u001b[1;33m\u001b[0m\u001b[0m\n\u001b[0m\u001b[0;32m   2253\u001b[0m             \u001b[1;32mexcept\u001b[0m \u001b[0mTraitError\u001b[0m\u001b[1;33m:\u001b[0m\u001b[1;33m\u001b[0m\u001b[1;33m\u001b[0m\u001b[0m\n",
      "\u001b[1;32m~\\anaconda3\\lib\\site-packages\\traitlets\\traitlets.py\u001b[0m in \u001b[0;36m_validate\u001b[1;34m(self, obj, value)\u001b[0m\n\u001b[0;32m    590\u001b[0m         \u001b[1;32mif\u001b[0m \u001b[0mhasattr\u001b[0m\u001b[1;33m(\u001b[0m\u001b[0mself\u001b[0m\u001b[1;33m,\u001b[0m \u001b[1;34m'validate'\u001b[0m\u001b[1;33m)\u001b[0m\u001b[1;33m:\u001b[0m\u001b[1;33m\u001b[0m\u001b[1;33m\u001b[0m\u001b[0m\n\u001b[1;32m--> 591\u001b[1;33m             \u001b[0mvalue\u001b[0m \u001b[1;33m=\u001b[0m \u001b[0mself\u001b[0m\u001b[1;33m.\u001b[0m\u001b[0mvalidate\u001b[0m\u001b[1;33m(\u001b[0m\u001b[0mobj\u001b[0m\u001b[1;33m,\u001b[0m \u001b[0mvalue\u001b[0m\u001b[1;33m)\u001b[0m\u001b[1;33m\u001b[0m\u001b[1;33m\u001b[0m\u001b[0m\n\u001b[0m\u001b[0;32m    592\u001b[0m         \u001b[1;32mif\u001b[0m \u001b[0mobj\u001b[0m\u001b[1;33m.\u001b[0m\u001b[0m_cross_validation_lock\u001b[0m \u001b[1;32mis\u001b[0m \u001b[1;32mFalse\u001b[0m\u001b[1;33m:\u001b[0m\u001b[1;33m\u001b[0m\u001b[1;33m\u001b[0m\u001b[0m\n",
      "\u001b[1;32m~\\anaconda3\\lib\\site-packages\\traitlets\\traitlets.py\u001b[0m in \u001b[0;36mvalidate\u001b[1;34m(self, obj, value)\u001b[0m\n\u001b[0;32m   1676\u001b[0m         \u001b[1;32melse\u001b[0m\u001b[1;33m:\u001b[0m\u001b[1;33m\u001b[0m\u001b[1;33m\u001b[0m\u001b[0m\n\u001b[1;32m-> 1677\u001b[1;33m             \u001b[0mself\u001b[0m\u001b[1;33m.\u001b[0m\u001b[0merror\u001b[0m\u001b[1;33m(\u001b[0m\u001b[0mobj\u001b[0m\u001b[1;33m,\u001b[0m \u001b[0mvalue\u001b[0m\u001b[1;33m)\u001b[0m\u001b[1;33m\u001b[0m\u001b[1;33m\u001b[0m\u001b[0m\n\u001b[0m\u001b[0;32m   1678\u001b[0m \u001b[1;33m\u001b[0m\u001b[0m\n",
      "\u001b[1;32m~\\anaconda3\\lib\\site-packages\\traitlets\\traitlets.py\u001b[0m in \u001b[0;36merror\u001b[1;34m(self, obj, value)\u001b[0m\n\u001b[0;32m   1523\u001b[0m \u001b[1;33m\u001b[0m\u001b[0m\n\u001b[1;32m-> 1524\u001b[1;33m         \u001b[1;32mraise\u001b[0m \u001b[0mTraitError\u001b[0m\u001b[1;33m(\u001b[0m\u001b[0me\u001b[0m\u001b[1;33m)\u001b[0m\u001b[1;33m\u001b[0m\u001b[1;33m\u001b[0m\u001b[0m\n\u001b[0m\u001b[0;32m   1525\u001b[0m \u001b[1;33m\u001b[0m\u001b[0m\n",
      "\u001b[1;31mTraitError\u001b[0m: The 'None' trait of a VBox instance must be a Widget, but a value of class 'plotly.graph_objs._figure.Figure' (i.e. Figure({\n    'data': [{'autocolorscale': False,\n              'colorbar': {'title': {'text': 'Mortality'}},\n              'colorscale': [[0.0, 'rgb(247,251,255)'], [0.125,\n                             'rgb(222,235,247)'], [0.25, 'rgb(198,219,239)'],\n                             [0.375, 'rgb(158,202,225)'], [0.5,\n                             'rgb(107,174,214)'], [0.625, 'rgb(66,146,198)'],\n                             [0.75, 'rgb(33,113,181)'], [0.875, 'rgb(8,81,156)'],\n                             [1.0, 'rgb(8,48,107)']],\n              'hoverinfo': 'location+z',\n              'locationmode': 'country names',\n              'locations': array(['US', 'Russia', 'United Kingdom', 'Brazil', 'Spain', 'Italy', 'France',\n                                  'Germany', 'Turkey', 'Iran', 'India', 'Peru', 'China', 'Canada',\n                                  'Belgium', 'Saudi Arabia', 'Mexico', 'Netherlands', 'Chile', 'Pakistan',\n                                  'Ecuador', 'Qatar', 'Switzerland', 'Sweden', 'Belarus', 'Portugal',\n                                  'Singapore', 'Ireland', 'Bangladesh', 'United Arab Emirates', 'Poland',\n                                  'Ukraine', 'Indonesia', 'Romania', 'Israel', 'Japan', 'Austria',\n                                  'Colombia', 'South Africa', 'Kuwait', 'Philippines',\n                                  'Dominican Republic', 'Egypt', 'Denmark', 'Korea, South', 'Serbia',\n                                  'Panama', 'Czechia', 'Norway', 'Argentina', 'Australia', 'Algeria',\n                                  'Bahrain', 'Malaysia', 'Morocco', 'Afghanistan', 'Kazakhstan',\n                                  'Finland', 'Moldova', 'Nigeria', 'Ghana', 'Oman', 'Armenia', 'Bolivia',\n                                  'Luxembourg', 'Hungary', 'Iraq', 'Azerbaijan', 'Cameroon', 'Thailand',\n                                  'Greece', 'Uzbekistan', 'Guinea', 'Honduras', 'Sudan', 'Senegal',\n                                  'Bosnia and Herzegovina', 'Bulgaria', 'Croatia', \"Cote d'Ivoire\",\n                                  'Guatemala', 'Cuba', 'Iceland', 'North Macedonia', 'Estonia',\n                                  'Lithuania', 'Tajikistan', 'New Zealand', 'Slovakia', 'Slovenia',\n                                  'Congo (Kinshasa)', 'Somalia', 'El Salvador', 'Djibouti', 'Gabon',\n                                  'Kyrgyzstan', 'Maldives', 'Tunisia', 'Latvia', 'Guinea-Bissau',\n                                  'Sri Lanka', 'Kosovo', 'Albania', 'Cyprus', 'Lebanon', 'Niger', 'Kenya',\n                                  'Costa Rica', 'Mali', 'Burkina Faso', 'Paraguay', 'Andorra', 'Zambia',\n                                  'Uruguay', 'Diamond Princess', 'Georgia', 'San Marino', 'Jordan',\n                                  'Equatorial Guinea', 'Malta', 'Venezuela', 'Jamaica', 'Tanzania',\n                                  'Sierra Leone', 'Chad', 'Haiti', 'Taiwan*', 'Congo (Brazzaville)',\n                                  'West Bank and Gaza', 'Benin', 'Mauritius', 'Cabo Verde',\n                                  'Central African Republic', 'Montenegro', 'Vietnam', 'Ethiopia',\n                                  'Madagascar', 'Nepal', 'Togo', 'Rwanda', 'South Sudan', 'Uganda',\n                                  'Sao Tome and Principe', 'Liberia', 'Eswatini', 'Burma', 'Brunei',\n                                  'Mongolia', 'Mozambique', 'Yemen', 'Cambodia', 'Guyana',\n                                  'Trinidad and Tobago', 'Bahamas', 'Monaco', 'Barbados', 'Liechtenstein',\n                                  'Malawi', 'Libya', 'Mauritania', 'Syria', 'Angola', 'Zimbabwe',\n                                  'Burundi', 'Eritrea', 'Nicaragua', 'Botswana', 'Antigua and Barbuda',\n                                  'Timor-Leste', 'Gambia', 'Grenada', 'Bhutan', 'Laos', 'Saint Lucia',\n                                  'Belize', 'Fiji', 'Saint Vincent and the Grenadines', 'Dominica',\n                                  'Namibia', 'Saint Kitts and Nevis', 'Holy See', 'Comoros', 'Seychelles',\n                                  'Suriname', 'MS Zaandam', 'Papua New Guinea', 'Western Sahara',\n                                  'Lesotho'], dtype=object),\n              'marker': {'line': {'color': 'darkgray', 'width': 0.5}},\n              'reversescale': True,\n              'text': array(['US', 'Russia', 'United Kingdom', 'Brazil', 'Spain', 'Italy', 'France',\n                             'Germany', 'Turkey', 'Iran', 'India', 'Peru', 'China', 'Canada',\n                             'Belgium', 'Saudi Arabia', 'Mexico', 'Netherlands', 'Chile', 'Pakistan',\n                             'Ecuador', 'Qatar', 'Switzerland', 'Sweden', 'Belarus', 'Portugal',\n                             'Singapore', 'Ireland', 'Bangladesh', 'United Arab Emirates', 'Poland',\n                             'Ukraine', 'Indonesia', 'Romania', 'Israel', 'Japan', 'Austria',\n                             'Colombia', 'South Africa', 'Kuwait', 'Philippines',\n                             'Dominican Republic', 'Egypt', 'Denmark', 'Korea, South', 'Serbia',\n                             'Panama', 'Czechia', 'Norway', 'Argentina', 'Australia', 'Algeria',\n                             'Bahrain', 'Malaysia', 'Morocco', 'Afghanistan', 'Kazakhstan',\n                             'Finland', 'Moldova', 'Nigeria', 'Ghana', 'Oman', 'Armenia', 'Bolivia',\n                             'Luxembourg', 'Hungary', 'Iraq', 'Azerbaijan', 'Cameroon', 'Thailand',\n                             'Greece', 'Uzbekistan', 'Guinea', 'Honduras', 'Sudan', 'Senegal',\n                             'Bosnia and Herzegovina', 'Bulgaria', 'Croatia', \"Cote d'Ivoire\",\n                             'Guatemala', 'Cuba', 'Iceland', 'North Macedonia', 'Estonia',\n                             'Lithuania', 'Tajikistan', 'New Zealand', 'Slovakia', 'Slovenia',\n                             'Congo (Kinshasa)', 'Somalia', 'El Salvador', 'Djibouti', 'Gabon',\n                             'Kyrgyzstan', 'Maldives', 'Tunisia', 'Latvia', 'Guinea-Bissau',\n                             'Sri Lanka', 'Kosovo', 'Albania', 'Cyprus', 'Lebanon', 'Niger', 'Kenya',\n                             'Costa Rica', 'Mali', 'Burkina Faso', 'Paraguay', 'Andorra', 'Zambia',\n                             'Uruguay', 'Diamond Princess', 'Georgia', 'San Marino', 'Jordan',\n                             'Equatorial Guinea', 'Malta', 'Venezuela', 'Jamaica', 'Tanzania',\n                             'Sierra Leone', 'Chad', 'Haiti', 'Taiwan*', 'Congo (Brazzaville)',\n                             'West Bank and Gaza', 'Benin', 'Mauritius', 'Cabo Verde',\n                             'Central African Republic', 'Montenegro', 'Vietnam', 'Ethiopia',\n                             'Madagascar', 'Nepal', 'Togo', 'Rwanda', 'South Sudan', 'Uganda',\n                             'Sao Tome and Principe', 'Liberia', 'Eswatini', 'Burma', 'Brunei',\n                             'Mongolia', 'Mozambique', 'Yemen', 'Cambodia', 'Guyana',\n                             'Trinidad and Tobago', 'Bahamas', 'Monaco', 'Barbados', 'Liechtenstein',\n                             'Malawi', 'Libya', 'Mauritania', 'Syria', 'Angola', 'Zimbabwe',\n                             'Burundi', 'Eritrea', 'Nicaragua', 'Botswana', 'Antigua and Barbuda',\n                             'Timor-Leste', 'Gambia', 'Grenada', 'Bhutan', 'Laos', 'Saint Lucia',\n                             'Belize', 'Fiji', 'Saint Vincent and the Grenadines', 'Dominica',\n                             'Namibia', 'Saint Kitts and Nevis', 'Holy See', 'Comoros', 'Seychelles',\n                             'Suriname', 'MS Zaandam', 'Papua New Guinea', 'Western Sahara',\n                             'Lesotho'], dtype=object),\n              'type': 'choropleth',\n              'z': array([ 6.02417904,  0.93643138, 14.1700851 ,  6.68740667, 11.94765451,\n                          14.15396899, 15.64390377,  4.51710837,  2.77043531,  5.81374066,\n                           3.14966361,  2.86974521,  5.51788136,  7.53587295, 16.34298673,\n                           0.5698422 , 10.51829578, 12.89512388,  1.02784313,  2.14362018,\n                           8.24543427,  0.04600662,  6.14967143, 12.20515543,  0.55649241,\n                           4.19479267,  0.07762058,  6.39930325,  1.4620863 ,  0.94186146,\n                           4.95572389,  2.87387194,  6.61299278,  6.56155533,  1.63648397,\n                           4.56862143,  3.86624869,  3.6856299 ,  1.70157912,  0.75420875,\n                           6.53404623,  3.47571869,  5.15168861,  4.89879993,  2.37686399,\n                           2.16776626,  2.86279409,  3.51415094,  2.81246212,  4.62320278,\n                           1.40226629,  7.80737997,  0.17251294,  1.62800749,  2.79475983,\n                           2.53601441,  0.52795031,  4.67084639,  3.48184818,  3.05420373,\n                           0.50566696,  0.42758877,  1.26477296,  4.13405088,  2.71229404,\n                          13.06930693,  3.613396  ,  1.19120342,  4.50885668,  1.84757506,\n                           5.75158786,  0.43446778,  0.60195636,  5.36659108,  4.05248939,\n                           1.00806452,  5.80786026,  4.92170022,  4.26774483,  1.2802276 ,\n                           1.83054393,  4.22008547,  0.55493896,  5.63616071,  3.58744395,\n                           3.81383323,  2.55905512,  1.40093396,  1.8729097 ,  7.0941337 ,\n                           4.19243986,  3.9408867 ,  2.12314225,  0.28551035,  0.83333333,\n                           1.15131579,  0.36563071,  4.33944069,  1.88305253,  0.4040404 ,\n                           0.91743119,  3.03664921,  3.2769556 ,  1.8558952 ,  2.85400659,\n                           5.97345133,  5.63697858,  1.15874855,  6.04651163,  6.40703518,\n                           1.39949109,  6.70170828,  0.92961487,  2.72479564,  1.8258427 ,\n                           1.71184023,  6.26911315,  1.46818923,  1.17845118,  1.08499096,\n                           1.84842884,  1.73076923,  4.12573674,  6.33663366, 10.53677932,\n                           4.38596491,  1.59090909,  3.83631714,  0.52493438,  0.5899705 ,\n                           3.01204819,  0.91463415,  0.        ,  2.77777778,  0.        ,\n                           1.57728707,  0.32894737,  0.65789474,  3.65448505,  0.        ,\n                           1.37931034,  0.        ,  2.9787234 ,  9.2920354 ,  0.98522167,\n                           3.20855615,  0.70921986,  0.        ,  0.        , 15.625     ,\n                           0.        ,  8.54700855,  6.89655172, 11.45833333,  4.16666667,\n                           7.95454545,  1.2195122 ,  4.28571429,  4.61538462,  6.4516129 ,\n                           5.17241379,  4.16666667,  9.09090909,  2.38095238,  0.        ,\n                          32.        ,  4.        , 12.        ,  0.        ,  4.34782609,\n                           0.        ,  0.        ,  0.        ,  0.        , 11.11111111,\n                           0.        ,  0.        ,  0.        ,  0.        ,  0.        ,\n                           0.        ,  9.09090909,  0.        , 10.        , 22.22222222,\n                           0.        ,  0.        ,  0.        ])}],\n    'layout': {'geo': {'projection': {'type': 'orthographic'}, 'showcoastlines': False, 'showframe': False},\n               'template': '...',\n               'title': {'text': '<b>3D View Of World &nbsp;Mortality Rate</b>'}}\n})) was specified.",
      "\nDuring handling of the above exception, another exception occurred:\n",
      "\u001b[1;31mTraitError\u001b[0m                                Traceback (most recent call last)",
      "\u001b[1;32m<ipython-input-28-0713915a374d>\u001b[0m in \u001b[0;36m<module>\u001b[1;34m\u001b[0m\n\u001b[0;32m     16\u001b[0m \u001b[0mipywLayout\u001b[0m \u001b[1;33m=\u001b[0m \u001b[0mwidgets\u001b[0m\u001b[1;33m.\u001b[0m\u001b[0mLayout\u001b[0m\u001b[1;33m(\u001b[0m\u001b[0mborder\u001b[0m\u001b[1;33m=\u001b[0m\u001b[1;34m'solid 2px green'\u001b[0m\u001b[1;33m)\u001b[0m\u001b[1;33m\u001b[0m\u001b[1;33m\u001b[0m\u001b[0m\n\u001b[0;32m     17\u001b[0m \u001b[0mipywLayout\u001b[0m\u001b[1;33m.\u001b[0m\u001b[0mdisplay\u001b[0m\u001b[1;33m=\u001b[0m\u001b[1;34m'none'\u001b[0m\u001b[1;33m\u001b[0m\u001b[1;33m\u001b[0m\u001b[0m\n\u001b[1;32m---> 18\u001b[1;33m \u001b[0mwidgets\u001b[0m\u001b[1;33m.\u001b[0m\u001b[0mVBox\u001b[0m\u001b[1;33m(\u001b[0m\u001b[1;33m[\u001b[0m\u001b[0mfig\u001b[0m\u001b[1;33m]\u001b[0m\u001b[1;33m,\u001b[0m \u001b[0mlayout\u001b[0m\u001b[1;33m=\u001b[0m\u001b[0mipywLayout\u001b[0m\u001b[1;33m)\u001b[0m\u001b[1;33m\u001b[0m\u001b[1;33m\u001b[0m\u001b[0m\n\u001b[0m",
      "\u001b[1;32m~\\anaconda3\\lib\\site-packages\\ipywidgets\\widgets\\widget_box.py\u001b[0m in \u001b[0;36m__init__\u001b[1;34m(self, children, **kwargs)\u001b[0m\n\u001b[0;32m     62\u001b[0m     \u001b[1;32mdef\u001b[0m \u001b[0m__init__\u001b[0m\u001b[1;33m(\u001b[0m\u001b[0mself\u001b[0m\u001b[1;33m,\u001b[0m \u001b[0mchildren\u001b[0m\u001b[1;33m=\u001b[0m\u001b[1;33m(\u001b[0m\u001b[1;33m)\u001b[0m\u001b[1;33m,\u001b[0m \u001b[1;33m**\u001b[0m\u001b[0mkwargs\u001b[0m\u001b[1;33m)\u001b[0m\u001b[1;33m:\u001b[0m\u001b[1;33m\u001b[0m\u001b[1;33m\u001b[0m\u001b[0m\n\u001b[0;32m     63\u001b[0m         \u001b[0mkwargs\u001b[0m\u001b[1;33m[\u001b[0m\u001b[1;34m'children'\u001b[0m\u001b[1;33m]\u001b[0m \u001b[1;33m=\u001b[0m \u001b[0mchildren\u001b[0m\u001b[1;33m\u001b[0m\u001b[1;33m\u001b[0m\u001b[0m\n\u001b[1;32m---> 64\u001b[1;33m         \u001b[0msuper\u001b[0m\u001b[1;33m(\u001b[0m\u001b[0mBox\u001b[0m\u001b[1;33m,\u001b[0m \u001b[0mself\u001b[0m\u001b[1;33m)\u001b[0m\u001b[1;33m.\u001b[0m\u001b[0m__init__\u001b[0m\u001b[1;33m(\u001b[0m\u001b[1;33m**\u001b[0m\u001b[0mkwargs\u001b[0m\u001b[1;33m)\u001b[0m\u001b[1;33m\u001b[0m\u001b[1;33m\u001b[0m\u001b[0m\n\u001b[0m\u001b[0;32m     65\u001b[0m         \u001b[0mself\u001b[0m\u001b[1;33m.\u001b[0m\u001b[0mon_displayed\u001b[0m\u001b[1;33m(\u001b[0m\u001b[0mBox\u001b[0m\u001b[1;33m.\u001b[0m\u001b[0m_fire_children_displayed\u001b[0m\u001b[1;33m)\u001b[0m\u001b[1;33m\u001b[0m\u001b[1;33m\u001b[0m\u001b[0m\n\u001b[0;32m     66\u001b[0m \u001b[1;33m\u001b[0m\u001b[0m\n",
      "\u001b[1;32m~\\anaconda3\\lib\\site-packages\\ipywidgets\\widgets\\widget.py\u001b[0m in \u001b[0;36m__init__\u001b[1;34m(self, **kwargs)\u001b[0m\n\u001b[0;32m    410\u001b[0m         \u001b[1;34m\"\"\"Public constructor\"\"\"\u001b[0m\u001b[1;33m\u001b[0m\u001b[1;33m\u001b[0m\u001b[0m\n\u001b[0;32m    411\u001b[0m         \u001b[0mself\u001b[0m\u001b[1;33m.\u001b[0m\u001b[0m_model_id\u001b[0m \u001b[1;33m=\u001b[0m \u001b[0mkwargs\u001b[0m\u001b[1;33m.\u001b[0m\u001b[0mpop\u001b[0m\u001b[1;33m(\u001b[0m\u001b[1;34m'model_id'\u001b[0m\u001b[1;33m,\u001b[0m \u001b[1;32mNone\u001b[0m\u001b[1;33m)\u001b[0m\u001b[1;33m\u001b[0m\u001b[1;33m\u001b[0m\u001b[0m\n\u001b[1;32m--> 412\u001b[1;33m         \u001b[0msuper\u001b[0m\u001b[1;33m(\u001b[0m\u001b[0mWidget\u001b[0m\u001b[1;33m,\u001b[0m \u001b[0mself\u001b[0m\u001b[1;33m)\u001b[0m\u001b[1;33m.\u001b[0m\u001b[0m__init__\u001b[0m\u001b[1;33m(\u001b[0m\u001b[1;33m**\u001b[0m\u001b[0mkwargs\u001b[0m\u001b[1;33m)\u001b[0m\u001b[1;33m\u001b[0m\u001b[1;33m\u001b[0m\u001b[0m\n\u001b[0m\u001b[0;32m    413\u001b[0m \u001b[1;33m\u001b[0m\u001b[0m\n\u001b[0;32m    414\u001b[0m         \u001b[0mWidget\u001b[0m\u001b[1;33m.\u001b[0m\u001b[0m_call_widget_constructed\u001b[0m\u001b[1;33m(\u001b[0m\u001b[0mself\u001b[0m\u001b[1;33m)\u001b[0m\u001b[1;33m\u001b[0m\u001b[1;33m\u001b[0m\u001b[0m\n",
      "\u001b[1;32m~\\anaconda3\\lib\\site-packages\\traitlets\\traitlets.py\u001b[0m in \u001b[0;36m__init__\u001b[1;34m(self, *args, **kwargs)\u001b[0m\n\u001b[0;32m    995\u001b[0m             \u001b[1;32mfor\u001b[0m \u001b[0mkey\u001b[0m\u001b[1;33m,\u001b[0m \u001b[0mvalue\u001b[0m \u001b[1;32min\u001b[0m \u001b[0mkwargs\u001b[0m\u001b[1;33m.\u001b[0m\u001b[0mitems\u001b[0m\u001b[1;33m(\u001b[0m\u001b[1;33m)\u001b[0m\u001b[1;33m:\u001b[0m\u001b[1;33m\u001b[0m\u001b[1;33m\u001b[0m\u001b[0m\n\u001b[0;32m    996\u001b[0m                 \u001b[1;32mif\u001b[0m \u001b[0mself\u001b[0m\u001b[1;33m.\u001b[0m\u001b[0mhas_trait\u001b[0m\u001b[1;33m(\u001b[0m\u001b[0mkey\u001b[0m\u001b[1;33m)\u001b[0m\u001b[1;33m:\u001b[0m\u001b[1;33m\u001b[0m\u001b[1;33m\u001b[0m\u001b[0m\n\u001b[1;32m--> 997\u001b[1;33m                     \u001b[0msetattr\u001b[0m\u001b[1;33m(\u001b[0m\u001b[0mself\u001b[0m\u001b[1;33m,\u001b[0m \u001b[0mkey\u001b[0m\u001b[1;33m,\u001b[0m \u001b[0mvalue\u001b[0m\u001b[1;33m)\u001b[0m\u001b[1;33m\u001b[0m\u001b[1;33m\u001b[0m\u001b[0m\n\u001b[0m\u001b[0;32m    998\u001b[0m                 \u001b[1;32melse\u001b[0m\u001b[1;33m:\u001b[0m\u001b[1;33m\u001b[0m\u001b[1;33m\u001b[0m\u001b[0m\n\u001b[0;32m    999\u001b[0m                     \u001b[1;31m# passthrough args that don't set traits to super\u001b[0m\u001b[1;33m\u001b[0m\u001b[1;33m\u001b[0m\u001b[1;33m\u001b[0m\u001b[0m\n",
      "\u001b[1;32m~\\anaconda3\\lib\\site-packages\\traitlets\\traitlets.py\u001b[0m in \u001b[0;36m__set__\u001b[1;34m(self, obj, value)\u001b[0m\n\u001b[0;32m    583\u001b[0m             \u001b[1;32mraise\u001b[0m \u001b[0mTraitError\u001b[0m\u001b[1;33m(\u001b[0m\u001b[1;34m'The \"%s\" trait is read-only.'\u001b[0m \u001b[1;33m%\u001b[0m \u001b[0mself\u001b[0m\u001b[1;33m.\u001b[0m\u001b[0mname\u001b[0m\u001b[1;33m)\u001b[0m\u001b[1;33m\u001b[0m\u001b[1;33m\u001b[0m\u001b[0m\n\u001b[0;32m    584\u001b[0m         \u001b[1;32melse\u001b[0m\u001b[1;33m:\u001b[0m\u001b[1;33m\u001b[0m\u001b[1;33m\u001b[0m\u001b[0m\n\u001b[1;32m--> 585\u001b[1;33m             \u001b[0mself\u001b[0m\u001b[1;33m.\u001b[0m\u001b[0mset\u001b[0m\u001b[1;33m(\u001b[0m\u001b[0mobj\u001b[0m\u001b[1;33m,\u001b[0m \u001b[0mvalue\u001b[0m\u001b[1;33m)\u001b[0m\u001b[1;33m\u001b[0m\u001b[1;33m\u001b[0m\u001b[0m\n\u001b[0m\u001b[0;32m    586\u001b[0m \u001b[1;33m\u001b[0m\u001b[0m\n\u001b[0;32m    587\u001b[0m     \u001b[1;32mdef\u001b[0m \u001b[0m_validate\u001b[0m\u001b[1;33m(\u001b[0m\u001b[0mself\u001b[0m\u001b[1;33m,\u001b[0m \u001b[0mobj\u001b[0m\u001b[1;33m,\u001b[0m \u001b[0mvalue\u001b[0m\u001b[1;33m)\u001b[0m\u001b[1;33m:\u001b[0m\u001b[1;33m\u001b[0m\u001b[1;33m\u001b[0m\u001b[0m\n",
      "\u001b[1;32m~\\anaconda3\\lib\\site-packages\\traitlets\\traitlets.py\u001b[0m in \u001b[0;36mset\u001b[1;34m(self, obj, value)\u001b[0m\n\u001b[0;32m    557\u001b[0m \u001b[1;33m\u001b[0m\u001b[0m\n\u001b[0;32m    558\u001b[0m     \u001b[1;32mdef\u001b[0m \u001b[0mset\u001b[0m\u001b[1;33m(\u001b[0m\u001b[0mself\u001b[0m\u001b[1;33m,\u001b[0m \u001b[0mobj\u001b[0m\u001b[1;33m,\u001b[0m \u001b[0mvalue\u001b[0m\u001b[1;33m)\u001b[0m\u001b[1;33m:\u001b[0m\u001b[1;33m\u001b[0m\u001b[1;33m\u001b[0m\u001b[0m\n\u001b[1;32m--> 559\u001b[1;33m         \u001b[0mnew_value\u001b[0m \u001b[1;33m=\u001b[0m \u001b[0mself\u001b[0m\u001b[1;33m.\u001b[0m\u001b[0m_validate\u001b[0m\u001b[1;33m(\u001b[0m\u001b[0mobj\u001b[0m\u001b[1;33m,\u001b[0m \u001b[0mvalue\u001b[0m\u001b[1;33m)\u001b[0m\u001b[1;33m\u001b[0m\u001b[1;33m\u001b[0m\u001b[0m\n\u001b[0m\u001b[0;32m    560\u001b[0m         \u001b[1;32mtry\u001b[0m\u001b[1;33m:\u001b[0m\u001b[1;33m\u001b[0m\u001b[1;33m\u001b[0m\u001b[0m\n\u001b[0;32m    561\u001b[0m             \u001b[0mold_value\u001b[0m \u001b[1;33m=\u001b[0m \u001b[0mobj\u001b[0m\u001b[1;33m.\u001b[0m\u001b[0m_trait_values\u001b[0m\u001b[1;33m[\u001b[0m\u001b[0mself\u001b[0m\u001b[1;33m.\u001b[0m\u001b[0mname\u001b[0m\u001b[1;33m]\u001b[0m\u001b[1;33m\u001b[0m\u001b[1;33m\u001b[0m\u001b[0m\n",
      "\u001b[1;32m~\\anaconda3\\lib\\site-packages\\traitlets\\traitlets.py\u001b[0m in \u001b[0;36m_validate\u001b[1;34m(self, obj, value)\u001b[0m\n\u001b[0;32m    589\u001b[0m             \u001b[1;32mreturn\u001b[0m \u001b[0mvalue\u001b[0m\u001b[1;33m\u001b[0m\u001b[1;33m\u001b[0m\u001b[0m\n\u001b[0;32m    590\u001b[0m         \u001b[1;32mif\u001b[0m \u001b[0mhasattr\u001b[0m\u001b[1;33m(\u001b[0m\u001b[0mself\u001b[0m\u001b[1;33m,\u001b[0m \u001b[1;34m'validate'\u001b[0m\u001b[1;33m)\u001b[0m\u001b[1;33m:\u001b[0m\u001b[1;33m\u001b[0m\u001b[1;33m\u001b[0m\u001b[0m\n\u001b[1;32m--> 591\u001b[1;33m             \u001b[0mvalue\u001b[0m \u001b[1;33m=\u001b[0m \u001b[0mself\u001b[0m\u001b[1;33m.\u001b[0m\u001b[0mvalidate\u001b[0m\u001b[1;33m(\u001b[0m\u001b[0mobj\u001b[0m\u001b[1;33m,\u001b[0m \u001b[0mvalue\u001b[0m\u001b[1;33m)\u001b[0m\u001b[1;33m\u001b[0m\u001b[1;33m\u001b[0m\u001b[0m\n\u001b[0m\u001b[0;32m    592\u001b[0m         \u001b[1;32mif\u001b[0m \u001b[0mobj\u001b[0m\u001b[1;33m.\u001b[0m\u001b[0m_cross_validation_lock\u001b[0m \u001b[1;32mis\u001b[0m \u001b[1;32mFalse\u001b[0m\u001b[1;33m:\u001b[0m\u001b[1;33m\u001b[0m\u001b[1;33m\u001b[0m\u001b[0m\n\u001b[0;32m    593\u001b[0m             \u001b[0mvalue\u001b[0m \u001b[1;33m=\u001b[0m \u001b[0mself\u001b[0m\u001b[1;33m.\u001b[0m\u001b[0m_cross_validate\u001b[0m\u001b[1;33m(\u001b[0m\u001b[0mobj\u001b[0m\u001b[1;33m,\u001b[0m \u001b[0mvalue\u001b[0m\u001b[1;33m)\u001b[0m\u001b[1;33m\u001b[0m\u001b[1;33m\u001b[0m\u001b[0m\n",
      "\u001b[1;32m~\\anaconda3\\lib\\site-packages\\traitlets\\traitlets.py\u001b[0m in \u001b[0;36mvalidate\u001b[1;34m(self, obj, value)\u001b[0m\n\u001b[0;32m   2240\u001b[0m             \u001b[1;32mreturn\u001b[0m \u001b[0mvalue\u001b[0m\u001b[1;33m\u001b[0m\u001b[1;33m\u001b[0m\u001b[0m\n\u001b[0;32m   2241\u001b[0m \u001b[1;33m\u001b[0m\u001b[0m\n\u001b[1;32m-> 2242\u001b[1;33m         \u001b[0mvalue\u001b[0m \u001b[1;33m=\u001b[0m \u001b[0mself\u001b[0m\u001b[1;33m.\u001b[0m\u001b[0mvalidate_elements\u001b[0m\u001b[1;33m(\u001b[0m\u001b[0mobj\u001b[0m\u001b[1;33m,\u001b[0m \u001b[0mvalue\u001b[0m\u001b[1;33m)\u001b[0m\u001b[1;33m\u001b[0m\u001b[1;33m\u001b[0m\u001b[0m\n\u001b[0m\u001b[0;32m   2243\u001b[0m \u001b[1;33m\u001b[0m\u001b[0m\n\u001b[0;32m   2244\u001b[0m         \u001b[1;32mreturn\u001b[0m \u001b[0mvalue\u001b[0m\u001b[1;33m\u001b[0m\u001b[1;33m\u001b[0m\u001b[0m\n",
      "\u001b[1;32m~\\anaconda3\\lib\\site-packages\\traitlets\\traitlets.py\u001b[0m in \u001b[0;36mvalidate_elements\u001b[1;34m(self, obj, value)\u001b[0m\n\u001b[0;32m   2252\u001b[0m                 \u001b[0mv\u001b[0m \u001b[1;33m=\u001b[0m \u001b[0mself\u001b[0m\u001b[1;33m.\u001b[0m\u001b[0m_trait\u001b[0m\u001b[1;33m.\u001b[0m\u001b[0m_validate\u001b[0m\u001b[1;33m(\u001b[0m\u001b[0mobj\u001b[0m\u001b[1;33m,\u001b[0m \u001b[0mv\u001b[0m\u001b[1;33m)\u001b[0m\u001b[1;33m\u001b[0m\u001b[1;33m\u001b[0m\u001b[0m\n\u001b[0;32m   2253\u001b[0m             \u001b[1;32mexcept\u001b[0m \u001b[0mTraitError\u001b[0m\u001b[1;33m:\u001b[0m\u001b[1;33m\u001b[0m\u001b[1;33m\u001b[0m\u001b[0m\n\u001b[1;32m-> 2254\u001b[1;33m                 \u001b[0mself\u001b[0m\u001b[1;33m.\u001b[0m\u001b[0melement_error\u001b[0m\u001b[1;33m(\u001b[0m\u001b[0mobj\u001b[0m\u001b[1;33m,\u001b[0m \u001b[0mv\u001b[0m\u001b[1;33m,\u001b[0m \u001b[0mself\u001b[0m\u001b[1;33m.\u001b[0m\u001b[0m_trait\u001b[0m\u001b[1;33m)\u001b[0m\u001b[1;33m\u001b[0m\u001b[1;33m\u001b[0m\u001b[0m\n\u001b[0m\u001b[0;32m   2255\u001b[0m             \u001b[1;32melse\u001b[0m\u001b[1;33m:\u001b[0m\u001b[1;33m\u001b[0m\u001b[1;33m\u001b[0m\u001b[0m\n\u001b[0;32m   2256\u001b[0m                 \u001b[0mvalidated\u001b[0m\u001b[1;33m.\u001b[0m\u001b[0mappend\u001b[0m\u001b[1;33m(\u001b[0m\u001b[0mv\u001b[0m\u001b[1;33m)\u001b[0m\u001b[1;33m\u001b[0m\u001b[1;33m\u001b[0m\u001b[0m\n",
      "\u001b[1;32m~\\anaconda3\\lib\\site-packages\\traitlets\\traitlets.py\u001b[0m in \u001b[0;36melement_error\u001b[1;34m(self, obj, element, validator)\u001b[0m\n\u001b[0;32m   2231\u001b[0m         \u001b[0me\u001b[0m \u001b[1;33m=\u001b[0m \u001b[1;34m\"Element of the '%s' trait of %s instance must be %s, but a value of %s was specified.\"\u001b[0m\u001b[0;31m \u001b[0m\u001b[0;31m\\\u001b[0m\u001b[1;33m\u001b[0m\u001b[1;33m\u001b[0m\u001b[0m\n\u001b[0;32m   2232\u001b[0m             \u001b[1;33m%\u001b[0m \u001b[1;33m(\u001b[0m\u001b[0mself\u001b[0m\u001b[1;33m.\u001b[0m\u001b[0mname\u001b[0m\u001b[1;33m,\u001b[0m \u001b[0mclass_of\u001b[0m\u001b[1;33m(\u001b[0m\u001b[0mobj\u001b[0m\u001b[1;33m)\u001b[0m\u001b[1;33m,\u001b[0m \u001b[0mvalidator\u001b[0m\u001b[1;33m.\u001b[0m\u001b[0minfo\u001b[0m\u001b[1;33m(\u001b[0m\u001b[1;33m)\u001b[0m\u001b[1;33m,\u001b[0m \u001b[0mrepr_type\u001b[0m\u001b[1;33m(\u001b[0m\u001b[0melement\u001b[0m\u001b[1;33m)\u001b[0m\u001b[1;33m)\u001b[0m\u001b[1;33m\u001b[0m\u001b[1;33m\u001b[0m\u001b[0m\n\u001b[1;32m-> 2233\u001b[1;33m         \u001b[1;32mraise\u001b[0m \u001b[0mTraitError\u001b[0m\u001b[1;33m(\u001b[0m\u001b[0me\u001b[0m\u001b[1;33m)\u001b[0m\u001b[1;33m\u001b[0m\u001b[1;33m\u001b[0m\u001b[0m\n\u001b[0m\u001b[0;32m   2234\u001b[0m \u001b[1;33m\u001b[0m\u001b[0m\n\u001b[0;32m   2235\u001b[0m     \u001b[1;32mdef\u001b[0m \u001b[0mvalidate\u001b[0m\u001b[1;33m(\u001b[0m\u001b[0mself\u001b[0m\u001b[1;33m,\u001b[0m \u001b[0mobj\u001b[0m\u001b[1;33m,\u001b[0m \u001b[0mvalue\u001b[0m\u001b[1;33m)\u001b[0m\u001b[1;33m:\u001b[0m\u001b[1;33m\u001b[0m\u001b[1;33m\u001b[0m\u001b[0m\n",
      "\u001b[1;31mTraitError\u001b[0m: Element of the 'children' trait of a VBox instance must be a Widget, but a value of Figure({\n    'data': [{'autocolorscale': False,\n              'colorbar': {'title': {'text': 'Mortality'}},\n              'colorscale': [[0.0, 'rgb(247,251,255)'], [0.125,\n                             'rgb(222,235,247)'], [0.25, 'rgb(198,219,239)'],\n                             [0.375, 'rgb(158,202,225)'], [0.5,\n                             'rgb(107,174,214)'], [0.625, 'rgb(66,146,198)'],\n                             [0.75, 'rgb(33,113,181)'], [0.875, 'rgb(8,81,156)'],\n                             [1.0, 'rgb(8,48,107)']],\n              'hoverinfo': 'location+z',\n              'locationmode': 'country names',\n              'locations': array(['US', 'Russia', 'United Kingdom', 'Brazil', 'Spain', 'Italy', 'France',\n                                  'Germany', 'Turkey', 'Iran', 'India', 'Peru', 'China', 'Canada',\n                                  'Belgium', 'Saudi Arabia', 'Mexico', 'Netherlands', 'Chile', 'Pakistan',\n                                  'Ecuador', 'Qatar', 'Switzerland', 'Sweden', 'Belarus', 'Portugal',\n                                  'Singapore', 'Ireland', 'Bangladesh', 'United Arab Emirates', 'Poland',\n                                  'Ukraine', 'Indonesia', 'Romania', 'Israel', 'Japan', 'Austria',\n                                  'Colombia', 'South Africa', 'Kuwait', 'Philippines',\n                                  'Dominican Republic', 'Egypt', 'Denmark', 'Korea, South', 'Serbia',\n                                  'Panama', 'Czechia', 'Norway', 'Argentina', 'Australia', 'Algeria',\n                                  'Bahrain', 'Malaysia', 'Morocco', 'Afghanistan', 'Kazakhstan',\n                                  'Finland', 'Moldova', 'Nigeria', 'Ghana', 'Oman', 'Armenia', 'Bolivia',\n                                  'Luxembourg', 'Hungary', 'Iraq', 'Azerbaijan', 'Cameroon', 'Thailand',\n                                  'Greece', 'Uzbekistan', 'Guinea', 'Honduras', 'Sudan', 'Senegal',\n                                  'Bosnia and Herzegovina', 'Bulgaria', 'Croatia', \"Cote d'Ivoire\",\n                                  'Guatemala', 'Cuba', 'Iceland', 'North Macedonia', 'Estonia',\n                                  'Lithuania', 'Tajikistan', 'New Zealand', 'Slovakia', 'Slovenia',\n                                  'Congo (Kinshasa)', 'Somalia', 'El Salvador', 'Djibouti', 'Gabon',\n                                  'Kyrgyzstan', 'Maldives', 'Tunisia', 'Latvia', 'Guinea-Bissau',\n                                  'Sri Lanka', 'Kosovo', 'Albania', 'Cyprus', 'Lebanon', 'Niger', 'Kenya',\n                                  'Costa Rica', 'Mali', 'Burkina Faso', 'Paraguay', 'Andorra', 'Zambia',\n                                  'Uruguay', 'Diamond Princess', 'Georgia', 'San Marino', 'Jordan',\n                                  'Equatorial Guinea', 'Malta', 'Venezuela', 'Jamaica', 'Tanzania',\n                                  'Sierra Leone', 'Chad', 'Haiti', 'Taiwan*', 'Congo (Brazzaville)',\n                                  'West Bank and Gaza', 'Benin', 'Mauritius', 'Cabo Verde',\n                                  'Central African Republic', 'Montenegro', 'Vietnam', 'Ethiopia',\n                                  'Madagascar', 'Nepal', 'Togo', 'Rwanda', 'South Sudan', 'Uganda',\n                                  'Sao Tome and Principe', 'Liberia', 'Eswatini', 'Burma', 'Brunei',\n                                  'Mongolia', 'Mozambique', 'Yemen', 'Cambodia', 'Guyana',\n                                  'Trinidad and Tobago', 'Bahamas', 'Monaco', 'Barbados', 'Liechtenstein',\n                                  'Malawi', 'Libya', 'Mauritania', 'Syria', 'Angola', 'Zimbabwe',\n                                  'Burundi', 'Eritrea', 'Nicaragua', 'Botswana', 'Antigua and Barbuda',\n                                  'Timor-Leste', 'Gambia', 'Grenada', 'Bhutan', 'Laos', 'Saint Lucia',\n                                  'Belize', 'Fiji', 'Saint Vincent and the Grenadines', 'Dominica',\n                                  'Namibia', 'Saint Kitts and Nevis', 'Holy See', 'Comoros', 'Seychelles',\n                                  'Suriname', 'MS Zaandam', 'Papua New Guinea', 'Western Sahara',\n                                  'Lesotho'], dtype=object),\n              'marker': {'line': {'color': 'darkgray', 'width': 0.5}},\n              'reversescale': True,\n              'text': array(['US', 'Russia', 'United Kingdom', 'Brazil', 'Spain', 'Italy', 'France',\n                             'Germany', 'Turkey', 'Iran', 'India', 'Peru', 'China', 'Canada',\n                             'Belgium', 'Saudi Arabia', 'Mexico', 'Netherlands', 'Chile', 'Pakistan',\n                             'Ecuador', 'Qatar', 'Switzerland', 'Sweden', 'Belarus', 'Portugal',\n                             'Singapore', 'Ireland', 'Bangladesh', 'United Arab Emirates', 'Poland',\n                             'Ukraine', 'Indonesia', 'Romania', 'Israel', 'Japan', 'Austria',\n                             'Colombia', 'South Africa', 'Kuwait', 'Philippines',\n                             'Dominican Republic', 'Egypt', 'Denmark', 'Korea, South', 'Serbia',\n                             'Panama', 'Czechia', 'Norway', 'Argentina', 'Australia', 'Algeria',\n                             'Bahrain', 'Malaysia', 'Morocco', 'Afghanistan', 'Kazakhstan',\n                             'Finland', 'Moldova', 'Nigeria', 'Ghana', 'Oman', 'Armenia', 'Bolivia',\n                             'Luxembourg', 'Hungary', 'Iraq', 'Azerbaijan', 'Cameroon', 'Thailand',\n                             'Greece', 'Uzbekistan', 'Guinea', 'Honduras', 'Sudan', 'Senegal',\n                             'Bosnia and Herzegovina', 'Bulgaria', 'Croatia', \"Cote d'Ivoire\",\n                             'Guatemala', 'Cuba', 'Iceland', 'North Macedonia', 'Estonia',\n                             'Lithuania', 'Tajikistan', 'New Zealand', 'Slovakia', 'Slovenia',\n                             'Congo (Kinshasa)', 'Somalia', 'El Salvador', 'Djibouti', 'Gabon',\n                             'Kyrgyzstan', 'Maldives', 'Tunisia', 'Latvia', 'Guinea-Bissau',\n                             'Sri Lanka', 'Kosovo', 'Albania', 'Cyprus', 'Lebanon', 'Niger', 'Kenya',\n                             'Costa Rica', 'Mali', 'Burkina Faso', 'Paraguay', 'Andorra', 'Zambia',\n                             'Uruguay', 'Diamond Princess', 'Georgia', 'San Marino', 'Jordan',\n                             'Equatorial Guinea', 'Malta', 'Venezuela', 'Jamaica', 'Tanzania',\n                             'Sierra Leone', 'Chad', 'Haiti', 'Taiwan*', 'Congo (Brazzaville)',\n                             'West Bank and Gaza', 'Benin', 'Mauritius', 'Cabo Verde',\n                             'Central African Republic', 'Montenegro', 'Vietnam', 'Ethiopia',\n                             'Madagascar', 'Nepal', 'Togo', 'Rwanda', 'South Sudan', 'Uganda',\n                             'Sao Tome and Principe', 'Liberia', 'Eswatini', 'Burma', 'Brunei',\n                             'Mongolia', 'Mozambique', 'Yemen', 'Cambodia', 'Guyana',\n                             'Trinidad and Tobago', 'Bahamas', 'Monaco', 'Barbados', 'Liechtenstein',\n                             'Malawi', 'Libya', 'Mauritania', 'Syria', 'Angola', 'Zimbabwe',\n                             'Burundi', 'Eritrea', 'Nicaragua', 'Botswana', 'Antigua and Barbuda',\n                             'Timor-Leste', 'Gambia', 'Grenada', 'Bhutan', 'Laos', 'Saint Lucia',\n                             'Belize', 'Fiji', 'Saint Vincent and the Grenadines', 'Dominica',\n                             'Namibia', 'Saint Kitts and Nevis', 'Holy See', 'Comoros', 'Seychelles',\n                             'Suriname', 'MS Zaandam', 'Papua New Guinea', 'Western Sahara',\n                             'Lesotho'], dtype=object),\n              'type': 'choropleth',\n              'z': array([ 6.02417904,  0.93643138, 14.1700851 ,  6.68740667, 11.94765451,\n                          14.15396899, 15.64390377,  4.51710837,  2.77043531,  5.81374066,\n                           3.14966361,  2.86974521,  5.51788136,  7.53587295, 16.34298673,\n                           0.5698422 , 10.51829578, 12.89512388,  1.02784313,  2.14362018,\n                           8.24543427,  0.04600662,  6.14967143, 12.20515543,  0.55649241,\n                           4.19479267,  0.07762058,  6.39930325,  1.4620863 ,  0.94186146,\n                           4.95572389,  2.87387194,  6.61299278,  6.56155533,  1.63648397,\n                           4.56862143,  3.86624869,  3.6856299 ,  1.70157912,  0.75420875,\n                           6.53404623,  3.47571869,  5.15168861,  4.89879993,  2.37686399,\n                           2.16776626,  2.86279409,  3.51415094,  2.81246212,  4.62320278,\n                           1.40226629,  7.80737997,  0.17251294,  1.62800749,  2.79475983,\n                           2.53601441,  0.52795031,  4.67084639,  3.48184818,  3.05420373,\n                           0.50566696,  0.42758877,  1.26477296,  4.13405088,  2.71229404,\n                          13.06930693,  3.613396  ,  1.19120342,  4.50885668,  1.84757506,\n                           5.75158786,  0.43446778,  0.60195636,  5.36659108,  4.05248939,\n                           1.00806452,  5.80786026,  4.92170022,  4.26774483,  1.2802276 ,\n                           1.83054393,  4.22008547,  0.55493896,  5.63616071,  3.58744395,\n                           3.81383323,  2.55905512,  1.40093396,  1.8729097 ,  7.0941337 ,\n                           4.19243986,  3.9408867 ,  2.12314225,  0.28551035,  0.83333333,\n                           1.15131579,  0.36563071,  4.33944069,  1.88305253,  0.4040404 ,\n                           0.91743119,  3.03664921,  3.2769556 ,  1.8558952 ,  2.85400659,\n                           5.97345133,  5.63697858,  1.15874855,  6.04651163,  6.40703518,\n                           1.39949109,  6.70170828,  0.92961487,  2.72479564,  1.8258427 ,\n                           1.71184023,  6.26911315,  1.46818923,  1.17845118,  1.08499096,\n                           1.84842884,  1.73076923,  4.12573674,  6.33663366, 10.53677932,\n                           4.38596491,  1.59090909,  3.83631714,  0.52493438,  0.5899705 ,\n                           3.01204819,  0.91463415,  0.        ,  2.77777778,  0.        ,\n                           1.57728707,  0.32894737,  0.65789474,  3.65448505,  0.        ,\n                           1.37931034,  0.        ,  2.9787234 ,  9.2920354 ,  0.98522167,\n                           3.20855615,  0.70921986,  0.        ,  0.        , 15.625     ,\n                           0.        ,  8.54700855,  6.89655172, 11.45833333,  4.16666667,\n                           7.95454545,  1.2195122 ,  4.28571429,  4.61538462,  6.4516129 ,\n                           5.17241379,  4.16666667,  9.09090909,  2.38095238,  0.        ,\n                          32.        ,  4.        , 12.        ,  0.        ,  4.34782609,\n                           0.        ,  0.        ,  0.        ,  0.        , 11.11111111,\n                           0.        ,  0.        ,  0.        ,  0.        ,  0.        ,\n                           0.        ,  9.09090909,  0.        , 10.        , 22.22222222,\n                           0.        ,  0.        ,  0.        ])}],\n    'layout': {'geo': {'projection': {'type': 'orthographic'}, 'showcoastlines': False, 'showframe': False},\n               'template': '...',\n               'title': {'text': '<b>3D View Of World &nbsp;Mortality Rate</b>'}}\n}) <class 'plotly.graph_objs._figure.Figure'> was specified."
     ]
    }
   ],
   "source": [
    "def bar_chart(n):\n",
    "    fig=px.pie(\n",
    "        sorted_country_df1.head(n),\n",
    "        names = \"country\",\n",
    "        values = \"deaths\",\n",
    "        title= \"Top \" + str(n) + \" worst affected countries\", # the axis names\n",
    "        color='country', \n",
    "        height=500,\n",
    "        width=800,\n",
    "        labels={'country':'Country', 'deaths': 'Mortality'}\n",
    "        )\n",
    "    fig.show();\n",
    "\n",
    "interact(bar_chart, n=30)\n",
    "\n",
    "ipywLayout = widgets.Layout(border='solid 2px green')\n",
    "ipywLayout.display='none'\n",
    "widgets.VBox([fig], layout=ipywLayout)"
   ]
  },
  {
   "cell_type": "markdown",
   "metadata": {},
   "source": [
    "<font color='Brown'><b> \n",
    "    \n",
    "## 3D visualization of Confirmed and Death Cases"
   ]
  },
  {
   "cell_type": "code",
   "execution_count": 19,
   "metadata": {},
   "outputs": [
    {
     "data": {
      "application/vnd.jupyter.widget-view+json": {
       "model_id": "5f38b7cdaee746caafe2e962ce4be8af",
       "version_major": 2,
       "version_minor": 0
      },
      "text/plain": [
       "interactive(children=(IntSlider(value=30, description='n', max=90, min=-30), Output()), _dom_classes=('widget-â€¦"
      ]
     },
     "metadata": {},
     "output_type": "display_data"
    },
    {
     "data": {
      "application/vnd.jupyter.widget-view+json": {
       "model_id": "c7c8bddc20de4220858099c37facd707",
       "version_major": 2,
       "version_minor": 0
      },
      "text/plain": [
       "VBox(children=(FigureWidget({\n",
       "    'data': [], 'layout': {'autosize': True, 'template': '...'}\n",
       "}),), layout=Layâ€¦"
      ]
     },
     "metadata": {},
     "output_type": "display_data"
    }
   ],
   "source": [
    "def bar_chart(n):\n",
    "    fig=px.scatter_3d(\n",
    "        sorted_country_df1.head(n),\n",
    "        x = \"country\",\n",
    "        y='confirmed',\n",
    "        z='deaths',\n",
    "        title= \"Top \" + str(n) + \" worst affected countries\", # the axis names\n",
    "        color='country', \n",
    "        height=500,\n",
    "        width=800,\n",
    "        labels={'country':'Country', 'confirmed': 'Confirmed Cases', 'deaths': 'Death Cases'}\n",
    "        )\n",
    "    fig.show();\n",
    "\n",
    "interact(bar_chart, n=30)\n",
    "\n",
    "ipywLayout = widgets.Layout(border='solid 2px green')\n",
    "ipywLayout.display='none'\n",
    "widgets.VBox([fig], layout=ipywLayout)\n",
    "\n",
    "\n",
    "\n",
    "\n",
    "# fig = px.scatter_3d(sorted_country_df1, x='country', y='confirmed', z='deaths',\n",
    "#               color='country')\n",
    "# fig.show()"
   ]
  },
  {
   "cell_type": "markdown",
   "metadata": {},
   "source": [
    "<font color='Brown'><b> \n",
    "    \n",
    "## Slidebar  to check for the worst hit countries"
   ]
  },
  {
   "cell_type": "code",
   "execution_count": 24,
   "metadata": {},
   "outputs": [
    {
     "data": {
      "application/vnd.jupyter.widget-view+json": {
       "model_id": "06e472727c9646789ce568d0723de84f",
       "version_major": 2,
       "version_minor": 0
      },
      "text/plain": [
       "interactive(children=(IntSlider(value=30, description='n', max=90, min=-30), Output()), _dom_classes=('widget-â€¦"
      ]
     },
     "metadata": {},
     "output_type": "display_data"
    },
    {
     "ename": "TraitError",
     "evalue": "Element of the 'children' trait of a VBox instance must be a Widget, but a value of Figure({\n    'data': [{'autocolorscale': False,\n              'colorbar': {'title': {'text': 'Mortality'}},\n              'colorscale': [[0.0, 'rgb(247,251,255)'], [0.125,\n                             'rgb(222,235,247)'], [0.25, 'rgb(198,219,239)'],\n                             [0.375, 'rgb(158,202,225)'], [0.5,\n                             'rgb(107,174,214)'], [0.625, 'rgb(66,146,198)'],\n                             [0.75, 'rgb(33,113,181)'], [0.875, 'rgb(8,81,156)'],\n                             [1.0, 'rgb(8,48,107)']],\n              'hoverinfo': 'location+z',\n              'locationmode': 'country names',\n              'locations': array(['US', 'Russia', 'United Kingdom', 'Brazil', 'Spain', 'Italy', 'France',\n                                  'Germany', 'Turkey', 'Iran', 'India', 'Peru', 'China', 'Canada',\n                                  'Belgium', 'Saudi Arabia', 'Mexico', 'Netherlands', 'Chile', 'Pakistan',\n                                  'Ecuador', 'Qatar', 'Switzerland', 'Sweden', 'Belarus', 'Portugal',\n                                  'Singapore', 'Ireland', 'Bangladesh', 'United Arab Emirates', 'Poland',\n                                  'Ukraine', 'Indonesia', 'Romania', 'Israel', 'Japan', 'Austria',\n                                  'Colombia', 'South Africa', 'Kuwait', 'Philippines',\n                                  'Dominican Republic', 'Egypt', 'Denmark', 'Korea, South', 'Serbia',\n                                  'Panama', 'Czechia', 'Norway', 'Argentina', 'Australia', 'Algeria',\n                                  'Bahrain', 'Malaysia', 'Morocco', 'Afghanistan', 'Kazakhstan',\n                                  'Finland', 'Moldova', 'Nigeria', 'Ghana', 'Oman', 'Armenia', 'Bolivia',\n                                  'Luxembourg', 'Hungary', 'Iraq', 'Azerbaijan', 'Cameroon', 'Thailand',\n                                  'Greece', 'Uzbekistan', 'Guinea', 'Honduras', 'Sudan', 'Senegal',\n                                  'Bosnia and Herzegovina', 'Bulgaria', 'Croatia', \"Cote d'Ivoire\",\n                                  'Guatemala', 'Cuba', 'Iceland', 'North Macedonia', 'Estonia',\n                                  'Lithuania', 'Tajikistan', 'New Zealand', 'Slovakia', 'Slovenia',\n                                  'Congo (Kinshasa)', 'Somalia', 'El Salvador', 'Djibouti', 'Gabon',\n                                  'Kyrgyzstan', 'Maldives', 'Tunisia', 'Latvia', 'Guinea-Bissau',\n                                  'Sri Lanka', 'Kosovo', 'Albania', 'Cyprus', 'Lebanon', 'Niger', 'Kenya',\n                                  'Costa Rica', 'Mali', 'Burkina Faso', 'Paraguay', 'Andorra', 'Zambia',\n                                  'Uruguay', 'Diamond Princess', 'Georgia', 'San Marino', 'Jordan',\n                                  'Equatorial Guinea', 'Malta', 'Venezuela', 'Jamaica', 'Tanzania',\n                                  'Sierra Leone', 'Chad', 'Haiti', 'Taiwan*', 'Congo (Brazzaville)',\n                                  'West Bank and Gaza', 'Benin', 'Mauritius', 'Cabo Verde',\n                                  'Central African Republic', 'Montenegro', 'Vietnam', 'Ethiopia',\n                                  'Madagascar', 'Nepal', 'Togo', 'Rwanda', 'South Sudan', 'Uganda',\n                                  'Sao Tome and Principe', 'Liberia', 'Eswatini', 'Burma', 'Brunei',\n                                  'Mongolia', 'Mozambique', 'Yemen', 'Cambodia', 'Guyana',\n                                  'Trinidad and Tobago', 'Bahamas', 'Monaco', 'Barbados', 'Liechtenstein',\n                                  'Malawi', 'Libya', 'Mauritania', 'Syria', 'Angola', 'Zimbabwe',\n                                  'Burundi', 'Eritrea', 'Nicaragua', 'Botswana', 'Antigua and Barbuda',\n                                  'Timor-Leste', 'Gambia', 'Grenada', 'Bhutan', 'Laos', 'Saint Lucia',\n                                  'Belize', 'Fiji', 'Saint Vincent and the Grenadines', 'Dominica',\n                                  'Namibia', 'Saint Kitts and Nevis', 'Holy See', 'Comoros', 'Seychelles',\n                                  'Suriname', 'MS Zaandam', 'Papua New Guinea', 'Western Sahara',\n                                  'Lesotho'], dtype=object),\n              'marker': {'line': {'color': 'darkgray', 'width': 0.5}},\n              'reversescale': True,\n              'text': array(['US', 'Russia', 'United Kingdom', 'Brazil', 'Spain', 'Italy', 'France',\n                             'Germany', 'Turkey', 'Iran', 'India', 'Peru', 'China', 'Canada',\n                             'Belgium', 'Saudi Arabia', 'Mexico', 'Netherlands', 'Chile', 'Pakistan',\n                             'Ecuador', 'Qatar', 'Switzerland', 'Sweden', 'Belarus', 'Portugal',\n                             'Singapore', 'Ireland', 'Bangladesh', 'United Arab Emirates', 'Poland',\n                             'Ukraine', 'Indonesia', 'Romania', 'Israel', 'Japan', 'Austria',\n                             'Colombia', 'South Africa', 'Kuwait', 'Philippines',\n                             'Dominican Republic', 'Egypt', 'Denmark', 'Korea, South', 'Serbia',\n                             'Panama', 'Czechia', 'Norway', 'Argentina', 'Australia', 'Algeria',\n                             'Bahrain', 'Malaysia', 'Morocco', 'Afghanistan', 'Kazakhstan',\n                             'Finland', 'Moldova', 'Nigeria', 'Ghana', 'Oman', 'Armenia', 'Bolivia',\n                             'Luxembourg', 'Hungary', 'Iraq', 'Azerbaijan', 'Cameroon', 'Thailand',\n                             'Greece', 'Uzbekistan', 'Guinea', 'Honduras', 'Sudan', 'Senegal',\n                             'Bosnia and Herzegovina', 'Bulgaria', 'Croatia', \"Cote d'Ivoire\",\n                             'Guatemala', 'Cuba', 'Iceland', 'North Macedonia', 'Estonia',\n                             'Lithuania', 'Tajikistan', 'New Zealand', 'Slovakia', 'Slovenia',\n                             'Congo (Kinshasa)', 'Somalia', 'El Salvador', 'Djibouti', 'Gabon',\n                             'Kyrgyzstan', 'Maldives', 'Tunisia', 'Latvia', 'Guinea-Bissau',\n                             'Sri Lanka', 'Kosovo', 'Albania', 'Cyprus', 'Lebanon', 'Niger', 'Kenya',\n                             'Costa Rica', 'Mali', 'Burkina Faso', 'Paraguay', 'Andorra', 'Zambia',\n                             'Uruguay', 'Diamond Princess', 'Georgia', 'San Marino', 'Jordan',\n                             'Equatorial Guinea', 'Malta', 'Venezuela', 'Jamaica', 'Tanzania',\n                             'Sierra Leone', 'Chad', 'Haiti', 'Taiwan*', 'Congo (Brazzaville)',\n                             'West Bank and Gaza', 'Benin', 'Mauritius', 'Cabo Verde',\n                             'Central African Republic', 'Montenegro', 'Vietnam', 'Ethiopia',\n                             'Madagascar', 'Nepal', 'Togo', 'Rwanda', 'South Sudan', 'Uganda',\n                             'Sao Tome and Principe', 'Liberia', 'Eswatini', 'Burma', 'Brunei',\n                             'Mongolia', 'Mozambique', 'Yemen', 'Cambodia', 'Guyana',\n                             'Trinidad and Tobago', 'Bahamas', 'Monaco', 'Barbados', 'Liechtenstein',\n                             'Malawi', 'Libya', 'Mauritania', 'Syria', 'Angola', 'Zimbabwe',\n                             'Burundi', 'Eritrea', 'Nicaragua', 'Botswana', 'Antigua and Barbuda',\n                             'Timor-Leste', 'Gambia', 'Grenada', 'Bhutan', 'Laos', 'Saint Lucia',\n                             'Belize', 'Fiji', 'Saint Vincent and the Grenadines', 'Dominica',\n                             'Namibia', 'Saint Kitts and Nevis', 'Holy See', 'Comoros', 'Seychelles',\n                             'Suriname', 'MS Zaandam', 'Papua New Guinea', 'Western Sahara',\n                             'Lesotho'], dtype=object),\n              'type': 'choropleth',\n              'z': array([ 6.02417904,  0.93643138, 14.1700851 ,  6.68740667, 11.94765451,\n                          14.15396899, 15.64390377,  4.51710837,  2.77043531,  5.81374066,\n                           3.14966361,  2.86974521,  5.51788136,  7.53587295, 16.34298673,\n                           0.5698422 , 10.51829578, 12.89512388,  1.02784313,  2.14362018,\n                           8.24543427,  0.04600662,  6.14967143, 12.20515543,  0.55649241,\n                           4.19479267,  0.07762058,  6.39930325,  1.4620863 ,  0.94186146,\n                           4.95572389,  2.87387194,  6.61299278,  6.56155533,  1.63648397,\n                           4.56862143,  3.86624869,  3.6856299 ,  1.70157912,  0.75420875,\n                           6.53404623,  3.47571869,  5.15168861,  4.89879993,  2.37686399,\n                           2.16776626,  2.86279409,  3.51415094,  2.81246212,  4.62320278,\n                           1.40226629,  7.80737997,  0.17251294,  1.62800749,  2.79475983,\n                           2.53601441,  0.52795031,  4.67084639,  3.48184818,  3.05420373,\n                           0.50566696,  0.42758877,  1.26477296,  4.13405088,  2.71229404,\n                          13.06930693,  3.613396  ,  1.19120342,  4.50885668,  1.84757506,\n                           5.75158786,  0.43446778,  0.60195636,  5.36659108,  4.05248939,\n                           1.00806452,  5.80786026,  4.92170022,  4.26774483,  1.2802276 ,\n                           1.83054393,  4.22008547,  0.55493896,  5.63616071,  3.58744395,\n                           3.81383323,  2.55905512,  1.40093396,  1.8729097 ,  7.0941337 ,\n                           4.19243986,  3.9408867 ,  2.12314225,  0.28551035,  0.83333333,\n                           1.15131579,  0.36563071,  4.33944069,  1.88305253,  0.4040404 ,\n                           0.91743119,  3.03664921,  3.2769556 ,  1.8558952 ,  2.85400659,\n                           5.97345133,  5.63697858,  1.15874855,  6.04651163,  6.40703518,\n                           1.39949109,  6.70170828,  0.92961487,  2.72479564,  1.8258427 ,\n                           1.71184023,  6.26911315,  1.46818923,  1.17845118,  1.08499096,\n                           1.84842884,  1.73076923,  4.12573674,  6.33663366, 10.53677932,\n                           4.38596491,  1.59090909,  3.83631714,  0.52493438,  0.5899705 ,\n                           3.01204819,  0.91463415,  0.        ,  2.77777778,  0.        ,\n                           1.57728707,  0.32894737,  0.65789474,  3.65448505,  0.        ,\n                           1.37931034,  0.        ,  2.9787234 ,  9.2920354 ,  0.98522167,\n                           3.20855615,  0.70921986,  0.        ,  0.        , 15.625     ,\n                           0.        ,  8.54700855,  6.89655172, 11.45833333,  4.16666667,\n                           7.95454545,  1.2195122 ,  4.28571429,  4.61538462,  6.4516129 ,\n                           5.17241379,  4.16666667,  9.09090909,  2.38095238,  0.        ,\n                          32.        ,  4.        , 12.        ,  0.        ,  4.34782609,\n                           0.        ,  0.        ,  0.        ,  0.        , 11.11111111,\n                           0.        ,  0.        ,  0.        ,  0.        ,  0.        ,\n                           0.        ,  9.09090909,  0.        , 10.        , 22.22222222,\n                           0.        ,  0.        ,  0.        ])}],\n    'layout': {'geo': {'projection': {'type': 'orthographic'}, 'showcoastlines': False, 'showframe': False},\n               'template': '...',\n               'title': {'text': '<b>3D View Of World &nbsp;Mortality Rate</b>'}}\n}) <class 'plotly.graph_objs._figure.Figure'> was specified.",
     "output_type": "error",
     "traceback": [
      "\u001b[1;31m---------------------------------------------------------------------------\u001b[0m",
      "\u001b[1;31mTraitError\u001b[0m                                Traceback (most recent call last)",
      "\u001b[1;32m~\\anaconda3\\lib\\site-packages\\traitlets\\traitlets.py\u001b[0m in \u001b[0;36mvalidate_elements\u001b[1;34m(self, obj, value)\u001b[0m\n\u001b[0;32m   2251\u001b[0m             \u001b[1;32mtry\u001b[0m\u001b[1;33m:\u001b[0m\u001b[1;33m\u001b[0m\u001b[1;33m\u001b[0m\u001b[0m\n\u001b[1;32m-> 2252\u001b[1;33m                 \u001b[0mv\u001b[0m \u001b[1;33m=\u001b[0m \u001b[0mself\u001b[0m\u001b[1;33m.\u001b[0m\u001b[0m_trait\u001b[0m\u001b[1;33m.\u001b[0m\u001b[0m_validate\u001b[0m\u001b[1;33m(\u001b[0m\u001b[0mobj\u001b[0m\u001b[1;33m,\u001b[0m \u001b[0mv\u001b[0m\u001b[1;33m)\u001b[0m\u001b[1;33m\u001b[0m\u001b[1;33m\u001b[0m\u001b[0m\n\u001b[0m\u001b[0;32m   2253\u001b[0m             \u001b[1;32mexcept\u001b[0m \u001b[0mTraitError\u001b[0m\u001b[1;33m:\u001b[0m\u001b[1;33m\u001b[0m\u001b[1;33m\u001b[0m\u001b[0m\n",
      "\u001b[1;32m~\\anaconda3\\lib\\site-packages\\traitlets\\traitlets.py\u001b[0m in \u001b[0;36m_validate\u001b[1;34m(self, obj, value)\u001b[0m\n\u001b[0;32m    590\u001b[0m         \u001b[1;32mif\u001b[0m \u001b[0mhasattr\u001b[0m\u001b[1;33m(\u001b[0m\u001b[0mself\u001b[0m\u001b[1;33m,\u001b[0m \u001b[1;34m'validate'\u001b[0m\u001b[1;33m)\u001b[0m\u001b[1;33m:\u001b[0m\u001b[1;33m\u001b[0m\u001b[1;33m\u001b[0m\u001b[0m\n\u001b[1;32m--> 591\u001b[1;33m             \u001b[0mvalue\u001b[0m \u001b[1;33m=\u001b[0m \u001b[0mself\u001b[0m\u001b[1;33m.\u001b[0m\u001b[0mvalidate\u001b[0m\u001b[1;33m(\u001b[0m\u001b[0mobj\u001b[0m\u001b[1;33m,\u001b[0m \u001b[0mvalue\u001b[0m\u001b[1;33m)\u001b[0m\u001b[1;33m\u001b[0m\u001b[1;33m\u001b[0m\u001b[0m\n\u001b[0m\u001b[0;32m    592\u001b[0m         \u001b[1;32mif\u001b[0m \u001b[0mobj\u001b[0m\u001b[1;33m.\u001b[0m\u001b[0m_cross_validation_lock\u001b[0m \u001b[1;32mis\u001b[0m \u001b[1;32mFalse\u001b[0m\u001b[1;33m:\u001b[0m\u001b[1;33m\u001b[0m\u001b[1;33m\u001b[0m\u001b[0m\n",
      "\u001b[1;32m~\\anaconda3\\lib\\site-packages\\traitlets\\traitlets.py\u001b[0m in \u001b[0;36mvalidate\u001b[1;34m(self, obj, value)\u001b[0m\n\u001b[0;32m   1676\u001b[0m         \u001b[1;32melse\u001b[0m\u001b[1;33m:\u001b[0m\u001b[1;33m\u001b[0m\u001b[1;33m\u001b[0m\u001b[0m\n\u001b[1;32m-> 1677\u001b[1;33m             \u001b[0mself\u001b[0m\u001b[1;33m.\u001b[0m\u001b[0merror\u001b[0m\u001b[1;33m(\u001b[0m\u001b[0mobj\u001b[0m\u001b[1;33m,\u001b[0m \u001b[0mvalue\u001b[0m\u001b[1;33m)\u001b[0m\u001b[1;33m\u001b[0m\u001b[1;33m\u001b[0m\u001b[0m\n\u001b[0m\u001b[0;32m   1678\u001b[0m \u001b[1;33m\u001b[0m\u001b[0m\n",
      "\u001b[1;32m~\\anaconda3\\lib\\site-packages\\traitlets\\traitlets.py\u001b[0m in \u001b[0;36merror\u001b[1;34m(self, obj, value)\u001b[0m\n\u001b[0;32m   1523\u001b[0m \u001b[1;33m\u001b[0m\u001b[0m\n\u001b[1;32m-> 1524\u001b[1;33m         \u001b[1;32mraise\u001b[0m \u001b[0mTraitError\u001b[0m\u001b[1;33m(\u001b[0m\u001b[0me\u001b[0m\u001b[1;33m)\u001b[0m\u001b[1;33m\u001b[0m\u001b[1;33m\u001b[0m\u001b[0m\n\u001b[0m\u001b[0;32m   1525\u001b[0m \u001b[1;33m\u001b[0m\u001b[0m\n",
      "\u001b[1;31mTraitError\u001b[0m: The 'None' trait of a VBox instance must be a Widget, but a value of class 'plotly.graph_objs._figure.Figure' (i.e. Figure({\n    'data': [{'autocolorscale': False,\n              'colorbar': {'title': {'text': 'Mortality'}},\n              'colorscale': [[0.0, 'rgb(247,251,255)'], [0.125,\n                             'rgb(222,235,247)'], [0.25, 'rgb(198,219,239)'],\n                             [0.375, 'rgb(158,202,225)'], [0.5,\n                             'rgb(107,174,214)'], [0.625, 'rgb(66,146,198)'],\n                             [0.75, 'rgb(33,113,181)'], [0.875, 'rgb(8,81,156)'],\n                             [1.0, 'rgb(8,48,107)']],\n              'hoverinfo': 'location+z',\n              'locationmode': 'country names',\n              'locations': array(['US', 'Russia', 'United Kingdom', 'Brazil', 'Spain', 'Italy', 'France',\n                                  'Germany', 'Turkey', 'Iran', 'India', 'Peru', 'China', 'Canada',\n                                  'Belgium', 'Saudi Arabia', 'Mexico', 'Netherlands', 'Chile', 'Pakistan',\n                                  'Ecuador', 'Qatar', 'Switzerland', 'Sweden', 'Belarus', 'Portugal',\n                                  'Singapore', 'Ireland', 'Bangladesh', 'United Arab Emirates', 'Poland',\n                                  'Ukraine', 'Indonesia', 'Romania', 'Israel', 'Japan', 'Austria',\n                                  'Colombia', 'South Africa', 'Kuwait', 'Philippines',\n                                  'Dominican Republic', 'Egypt', 'Denmark', 'Korea, South', 'Serbia',\n                                  'Panama', 'Czechia', 'Norway', 'Argentina', 'Australia', 'Algeria',\n                                  'Bahrain', 'Malaysia', 'Morocco', 'Afghanistan', 'Kazakhstan',\n                                  'Finland', 'Moldova', 'Nigeria', 'Ghana', 'Oman', 'Armenia', 'Bolivia',\n                                  'Luxembourg', 'Hungary', 'Iraq', 'Azerbaijan', 'Cameroon', 'Thailand',\n                                  'Greece', 'Uzbekistan', 'Guinea', 'Honduras', 'Sudan', 'Senegal',\n                                  'Bosnia and Herzegovina', 'Bulgaria', 'Croatia', \"Cote d'Ivoire\",\n                                  'Guatemala', 'Cuba', 'Iceland', 'North Macedonia', 'Estonia',\n                                  'Lithuania', 'Tajikistan', 'New Zealand', 'Slovakia', 'Slovenia',\n                                  'Congo (Kinshasa)', 'Somalia', 'El Salvador', 'Djibouti', 'Gabon',\n                                  'Kyrgyzstan', 'Maldives', 'Tunisia', 'Latvia', 'Guinea-Bissau',\n                                  'Sri Lanka', 'Kosovo', 'Albania', 'Cyprus', 'Lebanon', 'Niger', 'Kenya',\n                                  'Costa Rica', 'Mali', 'Burkina Faso', 'Paraguay', 'Andorra', 'Zambia',\n                                  'Uruguay', 'Diamond Princess', 'Georgia', 'San Marino', 'Jordan',\n                                  'Equatorial Guinea', 'Malta', 'Venezuela', 'Jamaica', 'Tanzania',\n                                  'Sierra Leone', 'Chad', 'Haiti', 'Taiwan*', 'Congo (Brazzaville)',\n                                  'West Bank and Gaza', 'Benin', 'Mauritius', 'Cabo Verde',\n                                  'Central African Republic', 'Montenegro', 'Vietnam', 'Ethiopia',\n                                  'Madagascar', 'Nepal', 'Togo', 'Rwanda', 'South Sudan', 'Uganda',\n                                  'Sao Tome and Principe', 'Liberia', 'Eswatini', 'Burma', 'Brunei',\n                                  'Mongolia', 'Mozambique', 'Yemen', 'Cambodia', 'Guyana',\n                                  'Trinidad and Tobago', 'Bahamas', 'Monaco', 'Barbados', 'Liechtenstein',\n                                  'Malawi', 'Libya', 'Mauritania', 'Syria', 'Angola', 'Zimbabwe',\n                                  'Burundi', 'Eritrea', 'Nicaragua', 'Botswana', 'Antigua and Barbuda',\n                                  'Timor-Leste', 'Gambia', 'Grenada', 'Bhutan', 'Laos', 'Saint Lucia',\n                                  'Belize', 'Fiji', 'Saint Vincent and the Grenadines', 'Dominica',\n                                  'Namibia', 'Saint Kitts and Nevis', 'Holy See', 'Comoros', 'Seychelles',\n                                  'Suriname', 'MS Zaandam', 'Papua New Guinea', 'Western Sahara',\n                                  'Lesotho'], dtype=object),\n              'marker': {'line': {'color': 'darkgray', 'width': 0.5}},\n              'reversescale': True,\n              'text': array(['US', 'Russia', 'United Kingdom', 'Brazil', 'Spain', 'Italy', 'France',\n                             'Germany', 'Turkey', 'Iran', 'India', 'Peru', 'China', 'Canada',\n                             'Belgium', 'Saudi Arabia', 'Mexico', 'Netherlands', 'Chile', 'Pakistan',\n                             'Ecuador', 'Qatar', 'Switzerland', 'Sweden', 'Belarus', 'Portugal',\n                             'Singapore', 'Ireland', 'Bangladesh', 'United Arab Emirates', 'Poland',\n                             'Ukraine', 'Indonesia', 'Romania', 'Israel', 'Japan', 'Austria',\n                             'Colombia', 'South Africa', 'Kuwait', 'Philippines',\n                             'Dominican Republic', 'Egypt', 'Denmark', 'Korea, South', 'Serbia',\n                             'Panama', 'Czechia', 'Norway', 'Argentina', 'Australia', 'Algeria',\n                             'Bahrain', 'Malaysia', 'Morocco', 'Afghanistan', 'Kazakhstan',\n                             'Finland', 'Moldova', 'Nigeria', 'Ghana', 'Oman', 'Armenia', 'Bolivia',\n                             'Luxembourg', 'Hungary', 'Iraq', 'Azerbaijan', 'Cameroon', 'Thailand',\n                             'Greece', 'Uzbekistan', 'Guinea', 'Honduras', 'Sudan', 'Senegal',\n                             'Bosnia and Herzegovina', 'Bulgaria', 'Croatia', \"Cote d'Ivoire\",\n                             'Guatemala', 'Cuba', 'Iceland', 'North Macedonia', 'Estonia',\n                             'Lithuania', 'Tajikistan', 'New Zealand', 'Slovakia', 'Slovenia',\n                             'Congo (Kinshasa)', 'Somalia', 'El Salvador', 'Djibouti', 'Gabon',\n                             'Kyrgyzstan', 'Maldives', 'Tunisia', 'Latvia', 'Guinea-Bissau',\n                             'Sri Lanka', 'Kosovo', 'Albania', 'Cyprus', 'Lebanon', 'Niger', 'Kenya',\n                             'Costa Rica', 'Mali', 'Burkina Faso', 'Paraguay', 'Andorra', 'Zambia',\n                             'Uruguay', 'Diamond Princess', 'Georgia', 'San Marino', 'Jordan',\n                             'Equatorial Guinea', 'Malta', 'Venezuela', 'Jamaica', 'Tanzania',\n                             'Sierra Leone', 'Chad', 'Haiti', 'Taiwan*', 'Congo (Brazzaville)',\n                             'West Bank and Gaza', 'Benin', 'Mauritius', 'Cabo Verde',\n                             'Central African Republic', 'Montenegro', 'Vietnam', 'Ethiopia',\n                             'Madagascar', 'Nepal', 'Togo', 'Rwanda', 'South Sudan', 'Uganda',\n                             'Sao Tome and Principe', 'Liberia', 'Eswatini', 'Burma', 'Brunei',\n                             'Mongolia', 'Mozambique', 'Yemen', 'Cambodia', 'Guyana',\n                             'Trinidad and Tobago', 'Bahamas', 'Monaco', 'Barbados', 'Liechtenstein',\n                             'Malawi', 'Libya', 'Mauritania', 'Syria', 'Angola', 'Zimbabwe',\n                             'Burundi', 'Eritrea', 'Nicaragua', 'Botswana', 'Antigua and Barbuda',\n                             'Timor-Leste', 'Gambia', 'Grenada', 'Bhutan', 'Laos', 'Saint Lucia',\n                             'Belize', 'Fiji', 'Saint Vincent and the Grenadines', 'Dominica',\n                             'Namibia', 'Saint Kitts and Nevis', 'Holy See', 'Comoros', 'Seychelles',\n                             'Suriname', 'MS Zaandam', 'Papua New Guinea', 'Western Sahara',\n                             'Lesotho'], dtype=object),\n              'type': 'choropleth',\n              'z': array([ 6.02417904,  0.93643138, 14.1700851 ,  6.68740667, 11.94765451,\n                          14.15396899, 15.64390377,  4.51710837,  2.77043531,  5.81374066,\n                           3.14966361,  2.86974521,  5.51788136,  7.53587295, 16.34298673,\n                           0.5698422 , 10.51829578, 12.89512388,  1.02784313,  2.14362018,\n                           8.24543427,  0.04600662,  6.14967143, 12.20515543,  0.55649241,\n                           4.19479267,  0.07762058,  6.39930325,  1.4620863 ,  0.94186146,\n                           4.95572389,  2.87387194,  6.61299278,  6.56155533,  1.63648397,\n                           4.56862143,  3.86624869,  3.6856299 ,  1.70157912,  0.75420875,\n                           6.53404623,  3.47571869,  5.15168861,  4.89879993,  2.37686399,\n                           2.16776626,  2.86279409,  3.51415094,  2.81246212,  4.62320278,\n                           1.40226629,  7.80737997,  0.17251294,  1.62800749,  2.79475983,\n                           2.53601441,  0.52795031,  4.67084639,  3.48184818,  3.05420373,\n                           0.50566696,  0.42758877,  1.26477296,  4.13405088,  2.71229404,\n                          13.06930693,  3.613396  ,  1.19120342,  4.50885668,  1.84757506,\n                           5.75158786,  0.43446778,  0.60195636,  5.36659108,  4.05248939,\n                           1.00806452,  5.80786026,  4.92170022,  4.26774483,  1.2802276 ,\n                           1.83054393,  4.22008547,  0.55493896,  5.63616071,  3.58744395,\n                           3.81383323,  2.55905512,  1.40093396,  1.8729097 ,  7.0941337 ,\n                           4.19243986,  3.9408867 ,  2.12314225,  0.28551035,  0.83333333,\n                           1.15131579,  0.36563071,  4.33944069,  1.88305253,  0.4040404 ,\n                           0.91743119,  3.03664921,  3.2769556 ,  1.8558952 ,  2.85400659,\n                           5.97345133,  5.63697858,  1.15874855,  6.04651163,  6.40703518,\n                           1.39949109,  6.70170828,  0.92961487,  2.72479564,  1.8258427 ,\n                           1.71184023,  6.26911315,  1.46818923,  1.17845118,  1.08499096,\n                           1.84842884,  1.73076923,  4.12573674,  6.33663366, 10.53677932,\n                           4.38596491,  1.59090909,  3.83631714,  0.52493438,  0.5899705 ,\n                           3.01204819,  0.91463415,  0.        ,  2.77777778,  0.        ,\n                           1.57728707,  0.32894737,  0.65789474,  3.65448505,  0.        ,\n                           1.37931034,  0.        ,  2.9787234 ,  9.2920354 ,  0.98522167,\n                           3.20855615,  0.70921986,  0.        ,  0.        , 15.625     ,\n                           0.        ,  8.54700855,  6.89655172, 11.45833333,  4.16666667,\n                           7.95454545,  1.2195122 ,  4.28571429,  4.61538462,  6.4516129 ,\n                           5.17241379,  4.16666667,  9.09090909,  2.38095238,  0.        ,\n                          32.        ,  4.        , 12.        ,  0.        ,  4.34782609,\n                           0.        ,  0.        ,  0.        ,  0.        , 11.11111111,\n                           0.        ,  0.        ,  0.        ,  0.        ,  0.        ,\n                           0.        ,  9.09090909,  0.        , 10.        , 22.22222222,\n                           0.        ,  0.        ,  0.        ])}],\n    'layout': {'geo': {'projection': {'type': 'orthographic'}, 'showcoastlines': False, 'showframe': False},\n               'template': '...',\n               'title': {'text': '<b>3D View Of World &nbsp;Mortality Rate</b>'}}\n})) was specified.",
      "\nDuring handling of the above exception, another exception occurred:\n",
      "\u001b[1;31mTraitError\u001b[0m                                Traceback (most recent call last)",
      "\u001b[1;32m<ipython-input-24-cc3faaccde35>\u001b[0m in \u001b[0;36m<module>\u001b[1;34m\u001b[0m\n\u001b[0;32m     16\u001b[0m \u001b[0mipywLayout\u001b[0m \u001b[1;33m=\u001b[0m \u001b[0mwidgets\u001b[0m\u001b[1;33m.\u001b[0m\u001b[0mLayout\u001b[0m\u001b[1;33m(\u001b[0m\u001b[0mborder\u001b[0m\u001b[1;33m=\u001b[0m\u001b[1;34m'solid 2px green'\u001b[0m\u001b[1;33m)\u001b[0m\u001b[1;33m\u001b[0m\u001b[1;33m\u001b[0m\u001b[0m\n\u001b[0;32m     17\u001b[0m \u001b[0mipywLayout\u001b[0m\u001b[1;33m.\u001b[0m\u001b[0mdisplay\u001b[0m\u001b[1;33m=\u001b[0m\u001b[1;34m'none'\u001b[0m\u001b[1;33m\u001b[0m\u001b[1;33m\u001b[0m\u001b[0m\n\u001b[1;32m---> 18\u001b[1;33m \u001b[0mwidgets\u001b[0m\u001b[1;33m.\u001b[0m\u001b[0mVBox\u001b[0m\u001b[1;33m(\u001b[0m\u001b[1;33m[\u001b[0m\u001b[0mfig\u001b[0m\u001b[1;33m]\u001b[0m\u001b[1;33m,\u001b[0m \u001b[0mlayout\u001b[0m\u001b[1;33m=\u001b[0m\u001b[0mipywLayout\u001b[0m\u001b[1;33m)\u001b[0m\u001b[1;33m\u001b[0m\u001b[1;33m\u001b[0m\u001b[0m\n\u001b[0m",
      "\u001b[1;32m~\\anaconda3\\lib\\site-packages\\ipywidgets\\widgets\\widget_box.py\u001b[0m in \u001b[0;36m__init__\u001b[1;34m(self, children, **kwargs)\u001b[0m\n\u001b[0;32m     62\u001b[0m     \u001b[1;32mdef\u001b[0m \u001b[0m__init__\u001b[0m\u001b[1;33m(\u001b[0m\u001b[0mself\u001b[0m\u001b[1;33m,\u001b[0m \u001b[0mchildren\u001b[0m\u001b[1;33m=\u001b[0m\u001b[1;33m(\u001b[0m\u001b[1;33m)\u001b[0m\u001b[1;33m,\u001b[0m \u001b[1;33m**\u001b[0m\u001b[0mkwargs\u001b[0m\u001b[1;33m)\u001b[0m\u001b[1;33m:\u001b[0m\u001b[1;33m\u001b[0m\u001b[1;33m\u001b[0m\u001b[0m\n\u001b[0;32m     63\u001b[0m         \u001b[0mkwargs\u001b[0m\u001b[1;33m[\u001b[0m\u001b[1;34m'children'\u001b[0m\u001b[1;33m]\u001b[0m \u001b[1;33m=\u001b[0m \u001b[0mchildren\u001b[0m\u001b[1;33m\u001b[0m\u001b[1;33m\u001b[0m\u001b[0m\n\u001b[1;32m---> 64\u001b[1;33m         \u001b[0msuper\u001b[0m\u001b[1;33m(\u001b[0m\u001b[0mBox\u001b[0m\u001b[1;33m,\u001b[0m \u001b[0mself\u001b[0m\u001b[1;33m)\u001b[0m\u001b[1;33m.\u001b[0m\u001b[0m__init__\u001b[0m\u001b[1;33m(\u001b[0m\u001b[1;33m**\u001b[0m\u001b[0mkwargs\u001b[0m\u001b[1;33m)\u001b[0m\u001b[1;33m\u001b[0m\u001b[1;33m\u001b[0m\u001b[0m\n\u001b[0m\u001b[0;32m     65\u001b[0m         \u001b[0mself\u001b[0m\u001b[1;33m.\u001b[0m\u001b[0mon_displayed\u001b[0m\u001b[1;33m(\u001b[0m\u001b[0mBox\u001b[0m\u001b[1;33m.\u001b[0m\u001b[0m_fire_children_displayed\u001b[0m\u001b[1;33m)\u001b[0m\u001b[1;33m\u001b[0m\u001b[1;33m\u001b[0m\u001b[0m\n\u001b[0;32m     66\u001b[0m \u001b[1;33m\u001b[0m\u001b[0m\n",
      "\u001b[1;32m~\\anaconda3\\lib\\site-packages\\ipywidgets\\widgets\\widget.py\u001b[0m in \u001b[0;36m__init__\u001b[1;34m(self, **kwargs)\u001b[0m\n\u001b[0;32m    410\u001b[0m         \u001b[1;34m\"\"\"Public constructor\"\"\"\u001b[0m\u001b[1;33m\u001b[0m\u001b[1;33m\u001b[0m\u001b[0m\n\u001b[0;32m    411\u001b[0m         \u001b[0mself\u001b[0m\u001b[1;33m.\u001b[0m\u001b[0m_model_id\u001b[0m \u001b[1;33m=\u001b[0m \u001b[0mkwargs\u001b[0m\u001b[1;33m.\u001b[0m\u001b[0mpop\u001b[0m\u001b[1;33m(\u001b[0m\u001b[1;34m'model_id'\u001b[0m\u001b[1;33m,\u001b[0m \u001b[1;32mNone\u001b[0m\u001b[1;33m)\u001b[0m\u001b[1;33m\u001b[0m\u001b[1;33m\u001b[0m\u001b[0m\n\u001b[1;32m--> 412\u001b[1;33m         \u001b[0msuper\u001b[0m\u001b[1;33m(\u001b[0m\u001b[0mWidget\u001b[0m\u001b[1;33m,\u001b[0m \u001b[0mself\u001b[0m\u001b[1;33m)\u001b[0m\u001b[1;33m.\u001b[0m\u001b[0m__init__\u001b[0m\u001b[1;33m(\u001b[0m\u001b[1;33m**\u001b[0m\u001b[0mkwargs\u001b[0m\u001b[1;33m)\u001b[0m\u001b[1;33m\u001b[0m\u001b[1;33m\u001b[0m\u001b[0m\n\u001b[0m\u001b[0;32m    413\u001b[0m \u001b[1;33m\u001b[0m\u001b[0m\n\u001b[0;32m    414\u001b[0m         \u001b[0mWidget\u001b[0m\u001b[1;33m.\u001b[0m\u001b[0m_call_widget_constructed\u001b[0m\u001b[1;33m(\u001b[0m\u001b[0mself\u001b[0m\u001b[1;33m)\u001b[0m\u001b[1;33m\u001b[0m\u001b[1;33m\u001b[0m\u001b[0m\n",
      "\u001b[1;32m~\\anaconda3\\lib\\site-packages\\traitlets\\traitlets.py\u001b[0m in \u001b[0;36m__init__\u001b[1;34m(self, *args, **kwargs)\u001b[0m\n\u001b[0;32m    995\u001b[0m             \u001b[1;32mfor\u001b[0m \u001b[0mkey\u001b[0m\u001b[1;33m,\u001b[0m \u001b[0mvalue\u001b[0m \u001b[1;32min\u001b[0m \u001b[0mkwargs\u001b[0m\u001b[1;33m.\u001b[0m\u001b[0mitems\u001b[0m\u001b[1;33m(\u001b[0m\u001b[1;33m)\u001b[0m\u001b[1;33m:\u001b[0m\u001b[1;33m\u001b[0m\u001b[1;33m\u001b[0m\u001b[0m\n\u001b[0;32m    996\u001b[0m                 \u001b[1;32mif\u001b[0m \u001b[0mself\u001b[0m\u001b[1;33m.\u001b[0m\u001b[0mhas_trait\u001b[0m\u001b[1;33m(\u001b[0m\u001b[0mkey\u001b[0m\u001b[1;33m)\u001b[0m\u001b[1;33m:\u001b[0m\u001b[1;33m\u001b[0m\u001b[1;33m\u001b[0m\u001b[0m\n\u001b[1;32m--> 997\u001b[1;33m                     \u001b[0msetattr\u001b[0m\u001b[1;33m(\u001b[0m\u001b[0mself\u001b[0m\u001b[1;33m,\u001b[0m \u001b[0mkey\u001b[0m\u001b[1;33m,\u001b[0m \u001b[0mvalue\u001b[0m\u001b[1;33m)\u001b[0m\u001b[1;33m\u001b[0m\u001b[1;33m\u001b[0m\u001b[0m\n\u001b[0m\u001b[0;32m    998\u001b[0m                 \u001b[1;32melse\u001b[0m\u001b[1;33m:\u001b[0m\u001b[1;33m\u001b[0m\u001b[1;33m\u001b[0m\u001b[0m\n\u001b[0;32m    999\u001b[0m                     \u001b[1;31m# passthrough args that don't set traits to super\u001b[0m\u001b[1;33m\u001b[0m\u001b[1;33m\u001b[0m\u001b[1;33m\u001b[0m\u001b[0m\n",
      "\u001b[1;32m~\\anaconda3\\lib\\site-packages\\traitlets\\traitlets.py\u001b[0m in \u001b[0;36m__set__\u001b[1;34m(self, obj, value)\u001b[0m\n\u001b[0;32m    583\u001b[0m             \u001b[1;32mraise\u001b[0m \u001b[0mTraitError\u001b[0m\u001b[1;33m(\u001b[0m\u001b[1;34m'The \"%s\" trait is read-only.'\u001b[0m \u001b[1;33m%\u001b[0m \u001b[0mself\u001b[0m\u001b[1;33m.\u001b[0m\u001b[0mname\u001b[0m\u001b[1;33m)\u001b[0m\u001b[1;33m\u001b[0m\u001b[1;33m\u001b[0m\u001b[0m\n\u001b[0;32m    584\u001b[0m         \u001b[1;32melse\u001b[0m\u001b[1;33m:\u001b[0m\u001b[1;33m\u001b[0m\u001b[1;33m\u001b[0m\u001b[0m\n\u001b[1;32m--> 585\u001b[1;33m             \u001b[0mself\u001b[0m\u001b[1;33m.\u001b[0m\u001b[0mset\u001b[0m\u001b[1;33m(\u001b[0m\u001b[0mobj\u001b[0m\u001b[1;33m,\u001b[0m \u001b[0mvalue\u001b[0m\u001b[1;33m)\u001b[0m\u001b[1;33m\u001b[0m\u001b[1;33m\u001b[0m\u001b[0m\n\u001b[0m\u001b[0;32m    586\u001b[0m \u001b[1;33m\u001b[0m\u001b[0m\n\u001b[0;32m    587\u001b[0m     \u001b[1;32mdef\u001b[0m \u001b[0m_validate\u001b[0m\u001b[1;33m(\u001b[0m\u001b[0mself\u001b[0m\u001b[1;33m,\u001b[0m \u001b[0mobj\u001b[0m\u001b[1;33m,\u001b[0m \u001b[0mvalue\u001b[0m\u001b[1;33m)\u001b[0m\u001b[1;33m:\u001b[0m\u001b[1;33m\u001b[0m\u001b[1;33m\u001b[0m\u001b[0m\n",
      "\u001b[1;32m~\\anaconda3\\lib\\site-packages\\traitlets\\traitlets.py\u001b[0m in \u001b[0;36mset\u001b[1;34m(self, obj, value)\u001b[0m\n\u001b[0;32m    557\u001b[0m \u001b[1;33m\u001b[0m\u001b[0m\n\u001b[0;32m    558\u001b[0m     \u001b[1;32mdef\u001b[0m \u001b[0mset\u001b[0m\u001b[1;33m(\u001b[0m\u001b[0mself\u001b[0m\u001b[1;33m,\u001b[0m \u001b[0mobj\u001b[0m\u001b[1;33m,\u001b[0m \u001b[0mvalue\u001b[0m\u001b[1;33m)\u001b[0m\u001b[1;33m:\u001b[0m\u001b[1;33m\u001b[0m\u001b[1;33m\u001b[0m\u001b[0m\n\u001b[1;32m--> 559\u001b[1;33m         \u001b[0mnew_value\u001b[0m \u001b[1;33m=\u001b[0m \u001b[0mself\u001b[0m\u001b[1;33m.\u001b[0m\u001b[0m_validate\u001b[0m\u001b[1;33m(\u001b[0m\u001b[0mobj\u001b[0m\u001b[1;33m,\u001b[0m \u001b[0mvalue\u001b[0m\u001b[1;33m)\u001b[0m\u001b[1;33m\u001b[0m\u001b[1;33m\u001b[0m\u001b[0m\n\u001b[0m\u001b[0;32m    560\u001b[0m         \u001b[1;32mtry\u001b[0m\u001b[1;33m:\u001b[0m\u001b[1;33m\u001b[0m\u001b[1;33m\u001b[0m\u001b[0m\n\u001b[0;32m    561\u001b[0m             \u001b[0mold_value\u001b[0m \u001b[1;33m=\u001b[0m \u001b[0mobj\u001b[0m\u001b[1;33m.\u001b[0m\u001b[0m_trait_values\u001b[0m\u001b[1;33m[\u001b[0m\u001b[0mself\u001b[0m\u001b[1;33m.\u001b[0m\u001b[0mname\u001b[0m\u001b[1;33m]\u001b[0m\u001b[1;33m\u001b[0m\u001b[1;33m\u001b[0m\u001b[0m\n",
      "\u001b[1;32m~\\anaconda3\\lib\\site-packages\\traitlets\\traitlets.py\u001b[0m in \u001b[0;36m_validate\u001b[1;34m(self, obj, value)\u001b[0m\n\u001b[0;32m    589\u001b[0m             \u001b[1;32mreturn\u001b[0m \u001b[0mvalue\u001b[0m\u001b[1;33m\u001b[0m\u001b[1;33m\u001b[0m\u001b[0m\n\u001b[0;32m    590\u001b[0m         \u001b[1;32mif\u001b[0m \u001b[0mhasattr\u001b[0m\u001b[1;33m(\u001b[0m\u001b[0mself\u001b[0m\u001b[1;33m,\u001b[0m \u001b[1;34m'validate'\u001b[0m\u001b[1;33m)\u001b[0m\u001b[1;33m:\u001b[0m\u001b[1;33m\u001b[0m\u001b[1;33m\u001b[0m\u001b[0m\n\u001b[1;32m--> 591\u001b[1;33m             \u001b[0mvalue\u001b[0m \u001b[1;33m=\u001b[0m \u001b[0mself\u001b[0m\u001b[1;33m.\u001b[0m\u001b[0mvalidate\u001b[0m\u001b[1;33m(\u001b[0m\u001b[0mobj\u001b[0m\u001b[1;33m,\u001b[0m \u001b[0mvalue\u001b[0m\u001b[1;33m)\u001b[0m\u001b[1;33m\u001b[0m\u001b[1;33m\u001b[0m\u001b[0m\n\u001b[0m\u001b[0;32m    592\u001b[0m         \u001b[1;32mif\u001b[0m \u001b[0mobj\u001b[0m\u001b[1;33m.\u001b[0m\u001b[0m_cross_validation_lock\u001b[0m \u001b[1;32mis\u001b[0m \u001b[1;32mFalse\u001b[0m\u001b[1;33m:\u001b[0m\u001b[1;33m\u001b[0m\u001b[1;33m\u001b[0m\u001b[0m\n\u001b[0;32m    593\u001b[0m             \u001b[0mvalue\u001b[0m \u001b[1;33m=\u001b[0m \u001b[0mself\u001b[0m\u001b[1;33m.\u001b[0m\u001b[0m_cross_validate\u001b[0m\u001b[1;33m(\u001b[0m\u001b[0mobj\u001b[0m\u001b[1;33m,\u001b[0m \u001b[0mvalue\u001b[0m\u001b[1;33m)\u001b[0m\u001b[1;33m\u001b[0m\u001b[1;33m\u001b[0m\u001b[0m\n",
      "\u001b[1;32m~\\anaconda3\\lib\\site-packages\\traitlets\\traitlets.py\u001b[0m in \u001b[0;36mvalidate\u001b[1;34m(self, obj, value)\u001b[0m\n\u001b[0;32m   2240\u001b[0m             \u001b[1;32mreturn\u001b[0m \u001b[0mvalue\u001b[0m\u001b[1;33m\u001b[0m\u001b[1;33m\u001b[0m\u001b[0m\n\u001b[0;32m   2241\u001b[0m \u001b[1;33m\u001b[0m\u001b[0m\n\u001b[1;32m-> 2242\u001b[1;33m         \u001b[0mvalue\u001b[0m \u001b[1;33m=\u001b[0m \u001b[0mself\u001b[0m\u001b[1;33m.\u001b[0m\u001b[0mvalidate_elements\u001b[0m\u001b[1;33m(\u001b[0m\u001b[0mobj\u001b[0m\u001b[1;33m,\u001b[0m \u001b[0mvalue\u001b[0m\u001b[1;33m)\u001b[0m\u001b[1;33m\u001b[0m\u001b[1;33m\u001b[0m\u001b[0m\n\u001b[0m\u001b[0;32m   2243\u001b[0m \u001b[1;33m\u001b[0m\u001b[0m\n\u001b[0;32m   2244\u001b[0m         \u001b[1;32mreturn\u001b[0m \u001b[0mvalue\u001b[0m\u001b[1;33m\u001b[0m\u001b[1;33m\u001b[0m\u001b[0m\n",
      "\u001b[1;32m~\\anaconda3\\lib\\site-packages\\traitlets\\traitlets.py\u001b[0m in \u001b[0;36mvalidate_elements\u001b[1;34m(self, obj, value)\u001b[0m\n\u001b[0;32m   2252\u001b[0m                 \u001b[0mv\u001b[0m \u001b[1;33m=\u001b[0m \u001b[0mself\u001b[0m\u001b[1;33m.\u001b[0m\u001b[0m_trait\u001b[0m\u001b[1;33m.\u001b[0m\u001b[0m_validate\u001b[0m\u001b[1;33m(\u001b[0m\u001b[0mobj\u001b[0m\u001b[1;33m,\u001b[0m \u001b[0mv\u001b[0m\u001b[1;33m)\u001b[0m\u001b[1;33m\u001b[0m\u001b[1;33m\u001b[0m\u001b[0m\n\u001b[0;32m   2253\u001b[0m             \u001b[1;32mexcept\u001b[0m \u001b[0mTraitError\u001b[0m\u001b[1;33m:\u001b[0m\u001b[1;33m\u001b[0m\u001b[1;33m\u001b[0m\u001b[0m\n\u001b[1;32m-> 2254\u001b[1;33m                 \u001b[0mself\u001b[0m\u001b[1;33m.\u001b[0m\u001b[0melement_error\u001b[0m\u001b[1;33m(\u001b[0m\u001b[0mobj\u001b[0m\u001b[1;33m,\u001b[0m \u001b[0mv\u001b[0m\u001b[1;33m,\u001b[0m \u001b[0mself\u001b[0m\u001b[1;33m.\u001b[0m\u001b[0m_trait\u001b[0m\u001b[1;33m)\u001b[0m\u001b[1;33m\u001b[0m\u001b[1;33m\u001b[0m\u001b[0m\n\u001b[0m\u001b[0;32m   2255\u001b[0m             \u001b[1;32melse\u001b[0m\u001b[1;33m:\u001b[0m\u001b[1;33m\u001b[0m\u001b[1;33m\u001b[0m\u001b[0m\n\u001b[0;32m   2256\u001b[0m                 \u001b[0mvalidated\u001b[0m\u001b[1;33m.\u001b[0m\u001b[0mappend\u001b[0m\u001b[1;33m(\u001b[0m\u001b[0mv\u001b[0m\u001b[1;33m)\u001b[0m\u001b[1;33m\u001b[0m\u001b[1;33m\u001b[0m\u001b[0m\n",
      "\u001b[1;32m~\\anaconda3\\lib\\site-packages\\traitlets\\traitlets.py\u001b[0m in \u001b[0;36melement_error\u001b[1;34m(self, obj, element, validator)\u001b[0m\n\u001b[0;32m   2231\u001b[0m         \u001b[0me\u001b[0m \u001b[1;33m=\u001b[0m \u001b[1;34m\"Element of the '%s' trait of %s instance must be %s, but a value of %s was specified.\"\u001b[0m\u001b[0;31m \u001b[0m\u001b[0;31m\\\u001b[0m\u001b[1;33m\u001b[0m\u001b[1;33m\u001b[0m\u001b[0m\n\u001b[0;32m   2232\u001b[0m             \u001b[1;33m%\u001b[0m \u001b[1;33m(\u001b[0m\u001b[0mself\u001b[0m\u001b[1;33m.\u001b[0m\u001b[0mname\u001b[0m\u001b[1;33m,\u001b[0m \u001b[0mclass_of\u001b[0m\u001b[1;33m(\u001b[0m\u001b[0mobj\u001b[0m\u001b[1;33m)\u001b[0m\u001b[1;33m,\u001b[0m \u001b[0mvalidator\u001b[0m\u001b[1;33m.\u001b[0m\u001b[0minfo\u001b[0m\u001b[1;33m(\u001b[0m\u001b[1;33m)\u001b[0m\u001b[1;33m,\u001b[0m \u001b[0mrepr_type\u001b[0m\u001b[1;33m(\u001b[0m\u001b[0melement\u001b[0m\u001b[1;33m)\u001b[0m\u001b[1;33m)\u001b[0m\u001b[1;33m\u001b[0m\u001b[1;33m\u001b[0m\u001b[0m\n\u001b[1;32m-> 2233\u001b[1;33m         \u001b[1;32mraise\u001b[0m \u001b[0mTraitError\u001b[0m\u001b[1;33m(\u001b[0m\u001b[0me\u001b[0m\u001b[1;33m)\u001b[0m\u001b[1;33m\u001b[0m\u001b[1;33m\u001b[0m\u001b[0m\n\u001b[0m\u001b[0;32m   2234\u001b[0m \u001b[1;33m\u001b[0m\u001b[0m\n\u001b[0;32m   2235\u001b[0m     \u001b[1;32mdef\u001b[0m \u001b[0mvalidate\u001b[0m\u001b[1;33m(\u001b[0m\u001b[0mself\u001b[0m\u001b[1;33m,\u001b[0m \u001b[0mobj\u001b[0m\u001b[1;33m,\u001b[0m \u001b[0mvalue\u001b[0m\u001b[1;33m)\u001b[0m\u001b[1;33m:\u001b[0m\u001b[1;33m\u001b[0m\u001b[1;33m\u001b[0m\u001b[0m\n",
      "\u001b[1;31mTraitError\u001b[0m: Element of the 'children' trait of a VBox instance must be a Widget, but a value of Figure({\n    'data': [{'autocolorscale': False,\n              'colorbar': {'title': {'text': 'Mortality'}},\n              'colorscale': [[0.0, 'rgb(247,251,255)'], [0.125,\n                             'rgb(222,235,247)'], [0.25, 'rgb(198,219,239)'],\n                             [0.375, 'rgb(158,202,225)'], [0.5,\n                             'rgb(107,174,214)'], [0.625, 'rgb(66,146,198)'],\n                             [0.75, 'rgb(33,113,181)'], [0.875, 'rgb(8,81,156)'],\n                             [1.0, 'rgb(8,48,107)']],\n              'hoverinfo': 'location+z',\n              'locationmode': 'country names',\n              'locations': array(['US', 'Russia', 'United Kingdom', 'Brazil', 'Spain', 'Italy', 'France',\n                                  'Germany', 'Turkey', 'Iran', 'India', 'Peru', 'China', 'Canada',\n                                  'Belgium', 'Saudi Arabia', 'Mexico', 'Netherlands', 'Chile', 'Pakistan',\n                                  'Ecuador', 'Qatar', 'Switzerland', 'Sweden', 'Belarus', 'Portugal',\n                                  'Singapore', 'Ireland', 'Bangladesh', 'United Arab Emirates', 'Poland',\n                                  'Ukraine', 'Indonesia', 'Romania', 'Israel', 'Japan', 'Austria',\n                                  'Colombia', 'South Africa', 'Kuwait', 'Philippines',\n                                  'Dominican Republic', 'Egypt', 'Denmark', 'Korea, South', 'Serbia',\n                                  'Panama', 'Czechia', 'Norway', 'Argentina', 'Australia', 'Algeria',\n                                  'Bahrain', 'Malaysia', 'Morocco', 'Afghanistan', 'Kazakhstan',\n                                  'Finland', 'Moldova', 'Nigeria', 'Ghana', 'Oman', 'Armenia', 'Bolivia',\n                                  'Luxembourg', 'Hungary', 'Iraq', 'Azerbaijan', 'Cameroon', 'Thailand',\n                                  'Greece', 'Uzbekistan', 'Guinea', 'Honduras', 'Sudan', 'Senegal',\n                                  'Bosnia and Herzegovina', 'Bulgaria', 'Croatia', \"Cote d'Ivoire\",\n                                  'Guatemala', 'Cuba', 'Iceland', 'North Macedonia', 'Estonia',\n                                  'Lithuania', 'Tajikistan', 'New Zealand', 'Slovakia', 'Slovenia',\n                                  'Congo (Kinshasa)', 'Somalia', 'El Salvador', 'Djibouti', 'Gabon',\n                                  'Kyrgyzstan', 'Maldives', 'Tunisia', 'Latvia', 'Guinea-Bissau',\n                                  'Sri Lanka', 'Kosovo', 'Albania', 'Cyprus', 'Lebanon', 'Niger', 'Kenya',\n                                  'Costa Rica', 'Mali', 'Burkina Faso', 'Paraguay', 'Andorra', 'Zambia',\n                                  'Uruguay', 'Diamond Princess', 'Georgia', 'San Marino', 'Jordan',\n                                  'Equatorial Guinea', 'Malta', 'Venezuela', 'Jamaica', 'Tanzania',\n                                  'Sierra Leone', 'Chad', 'Haiti', 'Taiwan*', 'Congo (Brazzaville)',\n                                  'West Bank and Gaza', 'Benin', 'Mauritius', 'Cabo Verde',\n                                  'Central African Republic', 'Montenegro', 'Vietnam', 'Ethiopia',\n                                  'Madagascar', 'Nepal', 'Togo', 'Rwanda', 'South Sudan', 'Uganda',\n                                  'Sao Tome and Principe', 'Liberia', 'Eswatini', 'Burma', 'Brunei',\n                                  'Mongolia', 'Mozambique', 'Yemen', 'Cambodia', 'Guyana',\n                                  'Trinidad and Tobago', 'Bahamas', 'Monaco', 'Barbados', 'Liechtenstein',\n                                  'Malawi', 'Libya', 'Mauritania', 'Syria', 'Angola', 'Zimbabwe',\n                                  'Burundi', 'Eritrea', 'Nicaragua', 'Botswana', 'Antigua and Barbuda',\n                                  'Timor-Leste', 'Gambia', 'Grenada', 'Bhutan', 'Laos', 'Saint Lucia',\n                                  'Belize', 'Fiji', 'Saint Vincent and the Grenadines', 'Dominica',\n                                  'Namibia', 'Saint Kitts and Nevis', 'Holy See', 'Comoros', 'Seychelles',\n                                  'Suriname', 'MS Zaandam', 'Papua New Guinea', 'Western Sahara',\n                                  'Lesotho'], dtype=object),\n              'marker': {'line': {'color': 'darkgray', 'width': 0.5}},\n              'reversescale': True,\n              'text': array(['US', 'Russia', 'United Kingdom', 'Brazil', 'Spain', 'Italy', 'France',\n                             'Germany', 'Turkey', 'Iran', 'India', 'Peru', 'China', 'Canada',\n                             'Belgium', 'Saudi Arabia', 'Mexico', 'Netherlands', 'Chile', 'Pakistan',\n                             'Ecuador', 'Qatar', 'Switzerland', 'Sweden', 'Belarus', 'Portugal',\n                             'Singapore', 'Ireland', 'Bangladesh', 'United Arab Emirates', 'Poland',\n                             'Ukraine', 'Indonesia', 'Romania', 'Israel', 'Japan', 'Austria',\n                             'Colombia', 'South Africa', 'Kuwait', 'Philippines',\n                             'Dominican Republic', 'Egypt', 'Denmark', 'Korea, South', 'Serbia',\n                             'Panama', 'Czechia', 'Norway', 'Argentina', 'Australia', 'Algeria',\n                             'Bahrain', 'Malaysia', 'Morocco', 'Afghanistan', 'Kazakhstan',\n                             'Finland', 'Moldova', 'Nigeria', 'Ghana', 'Oman', 'Armenia', 'Bolivia',\n                             'Luxembourg', 'Hungary', 'Iraq', 'Azerbaijan', 'Cameroon', 'Thailand',\n                             'Greece', 'Uzbekistan', 'Guinea', 'Honduras', 'Sudan', 'Senegal',\n                             'Bosnia and Herzegovina', 'Bulgaria', 'Croatia', \"Cote d'Ivoire\",\n                             'Guatemala', 'Cuba', 'Iceland', 'North Macedonia', 'Estonia',\n                             'Lithuania', 'Tajikistan', 'New Zealand', 'Slovakia', 'Slovenia',\n                             'Congo (Kinshasa)', 'Somalia', 'El Salvador', 'Djibouti', 'Gabon',\n                             'Kyrgyzstan', 'Maldives', 'Tunisia', 'Latvia', 'Guinea-Bissau',\n                             'Sri Lanka', 'Kosovo', 'Albania', 'Cyprus', 'Lebanon', 'Niger', 'Kenya',\n                             'Costa Rica', 'Mali', 'Burkina Faso', 'Paraguay', 'Andorra', 'Zambia',\n                             'Uruguay', 'Diamond Princess', 'Georgia', 'San Marino', 'Jordan',\n                             'Equatorial Guinea', 'Malta', 'Venezuela', 'Jamaica', 'Tanzania',\n                             'Sierra Leone', 'Chad', 'Haiti', 'Taiwan*', 'Congo (Brazzaville)',\n                             'West Bank and Gaza', 'Benin', 'Mauritius', 'Cabo Verde',\n                             'Central African Republic', 'Montenegro', 'Vietnam', 'Ethiopia',\n                             'Madagascar', 'Nepal', 'Togo', 'Rwanda', 'South Sudan', 'Uganda',\n                             'Sao Tome and Principe', 'Liberia', 'Eswatini', 'Burma', 'Brunei',\n                             'Mongolia', 'Mozambique', 'Yemen', 'Cambodia', 'Guyana',\n                             'Trinidad and Tobago', 'Bahamas', 'Monaco', 'Barbados', 'Liechtenstein',\n                             'Malawi', 'Libya', 'Mauritania', 'Syria', 'Angola', 'Zimbabwe',\n                             'Burundi', 'Eritrea', 'Nicaragua', 'Botswana', 'Antigua and Barbuda',\n                             'Timor-Leste', 'Gambia', 'Grenada', 'Bhutan', 'Laos', 'Saint Lucia',\n                             'Belize', 'Fiji', 'Saint Vincent and the Grenadines', 'Dominica',\n                             'Namibia', 'Saint Kitts and Nevis', 'Holy See', 'Comoros', 'Seychelles',\n                             'Suriname', 'MS Zaandam', 'Papua New Guinea', 'Western Sahara',\n                             'Lesotho'], dtype=object),\n              'type': 'choropleth',\n              'z': array([ 6.02417904,  0.93643138, 14.1700851 ,  6.68740667, 11.94765451,\n                          14.15396899, 15.64390377,  4.51710837,  2.77043531,  5.81374066,\n                           3.14966361,  2.86974521,  5.51788136,  7.53587295, 16.34298673,\n                           0.5698422 , 10.51829578, 12.89512388,  1.02784313,  2.14362018,\n                           8.24543427,  0.04600662,  6.14967143, 12.20515543,  0.55649241,\n                           4.19479267,  0.07762058,  6.39930325,  1.4620863 ,  0.94186146,\n                           4.95572389,  2.87387194,  6.61299278,  6.56155533,  1.63648397,\n                           4.56862143,  3.86624869,  3.6856299 ,  1.70157912,  0.75420875,\n                           6.53404623,  3.47571869,  5.15168861,  4.89879993,  2.37686399,\n                           2.16776626,  2.86279409,  3.51415094,  2.81246212,  4.62320278,\n                           1.40226629,  7.80737997,  0.17251294,  1.62800749,  2.79475983,\n                           2.53601441,  0.52795031,  4.67084639,  3.48184818,  3.05420373,\n                           0.50566696,  0.42758877,  1.26477296,  4.13405088,  2.71229404,\n                          13.06930693,  3.613396  ,  1.19120342,  4.50885668,  1.84757506,\n                           5.75158786,  0.43446778,  0.60195636,  5.36659108,  4.05248939,\n                           1.00806452,  5.80786026,  4.92170022,  4.26774483,  1.2802276 ,\n                           1.83054393,  4.22008547,  0.55493896,  5.63616071,  3.58744395,\n                           3.81383323,  2.55905512,  1.40093396,  1.8729097 ,  7.0941337 ,\n                           4.19243986,  3.9408867 ,  2.12314225,  0.28551035,  0.83333333,\n                           1.15131579,  0.36563071,  4.33944069,  1.88305253,  0.4040404 ,\n                           0.91743119,  3.03664921,  3.2769556 ,  1.8558952 ,  2.85400659,\n                           5.97345133,  5.63697858,  1.15874855,  6.04651163,  6.40703518,\n                           1.39949109,  6.70170828,  0.92961487,  2.72479564,  1.8258427 ,\n                           1.71184023,  6.26911315,  1.46818923,  1.17845118,  1.08499096,\n                           1.84842884,  1.73076923,  4.12573674,  6.33663366, 10.53677932,\n                           4.38596491,  1.59090909,  3.83631714,  0.52493438,  0.5899705 ,\n                           3.01204819,  0.91463415,  0.        ,  2.77777778,  0.        ,\n                           1.57728707,  0.32894737,  0.65789474,  3.65448505,  0.        ,\n                           1.37931034,  0.        ,  2.9787234 ,  9.2920354 ,  0.98522167,\n                           3.20855615,  0.70921986,  0.        ,  0.        , 15.625     ,\n                           0.        ,  8.54700855,  6.89655172, 11.45833333,  4.16666667,\n                           7.95454545,  1.2195122 ,  4.28571429,  4.61538462,  6.4516129 ,\n                           5.17241379,  4.16666667,  9.09090909,  2.38095238,  0.        ,\n                          32.        ,  4.        , 12.        ,  0.        ,  4.34782609,\n                           0.        ,  0.        ,  0.        ,  0.        , 11.11111111,\n                           0.        ,  0.        ,  0.        ,  0.        ,  0.        ,\n                           0.        ,  9.09090909,  0.        , 10.        , 22.22222222,\n                           0.        ,  0.        ,  0.        ])}],\n    'layout': {'geo': {'projection': {'type': 'orthographic'}, 'showcoastlines': False, 'showframe': False},\n               'template': '...',\n               'title': {'text': '<b>3D View Of World &nbsp;Mortality Rate</b>'}}\n}) <class 'plotly.graph_objs._figure.Figure'> was specified."
     ]
    }
   ],
   "source": [
    "# # plotting the 20 worst hit countries\n",
    "\n",
    "def bubble_chart(n):\n",
    "    fig = px.scatter(sorted_country_df.head(n), x=\"country\", y=\"confirmed\", size=\"confirmed\", color=\"country\",\n",
    "               hover_name=\"country\", size_max=60)\n",
    "    fig.update_layout(\n",
    "    title=str(n) +\" Worst hit countries\",\n",
    "    xaxis_title=\"Countries\",\n",
    "    yaxis_title=\"Confirmed Cases\",\n",
    "    width = 700\n",
    "    )\n",
    "    fig.show();\n",
    "\n",
    "interact(bubble_chart, n=30)\n",
    "\n",
    "ipywLayout = widgets.Layout(border='solid 2px green')\n",
    "ipywLayout.display='none'\n",
    "widgets.VBox([fig], layout=ipywLayout)\n"
   ]
  },
  {
   "cell_type": "markdown",
   "metadata": {},
   "source": [
    "<font color='Brown'><b> \n",
    "    \n",
    "## Chose a country of interest OR view the world-wide cases\n",
    "#### Enter the name of your country(in capitalized format(e.g. Italy)) and world for total cases"
   ]
  },
  {
   "cell_type": "code",
   "execution_count": 22,
   "metadata": {},
   "outputs": [],
   "source": [
    "def plot_cases_of_a_country(country):\n",
    "    labels = ['confirmed', 'deaths', 'recovered']\n",
    "    colors = ['yellow', 'red', 'blue']\n",
    "    mode_size = [6, 8,10]\n",
    "    line_size = [4, 5,6]\n",
    "    \n",
    "    df_list = [confirmed_df, death_df, recovered_df]\n",
    "    \n",
    "    fig = go.Figure();\n",
    "    \n",
    "    for i, df in enumerate(df_list):\n",
    "        if country == 'World' or country == 'world':\n",
    "            x_data = np.array(list(df.iloc[:, 20:].columns))\n",
    "            y_data = np.sum(np.asarray(df.iloc[:,4:]),axis = 0)\n",
    "            \n",
    "        else:    \n",
    "            x_data = np.array(list(df.iloc[:, 20:].columns))\n",
    "            y_data = np.sum(np.asarray(df[df['country'] == country].iloc[:,20:]),axis = 0)\n",
    "            \n",
    "        fig.add_trace(go.Scatter(x=x_data, y=y_data, mode='lines+markers',\n",
    "        name=labels[i],\n",
    "        line=dict(color=colors[i], width=line_size[i]),\n",
    "        connectgaps=True,\n",
    "        text = \"Total \" + str(labels[i]) +\": \"+ str(y_data[-1])\n",
    "        ));\n",
    "    \n",
    "    fig.update_layout(\n",
    "        title=\"One Month COVID 19 cases of \" + country,\n",
    "        xaxis_title='Date',\n",
    "        yaxis_title='No. of Confirmed Cases',\n",
    "        margin=dict(l=20, r=20, t=40, b=20),\n",
    "        paper_bgcolor=\"lightgrey\",\n",
    "        width = 800,\n",
    "        \n",
    "    );\n",
    "    \n",
    "    fig.update_yaxes(type=\"linear\")\n",
    "    fig.show();"
   ]
  },
  {
   "cell_type": "code",
   "execution_count": 23,
   "metadata": {},
   "outputs": [
    {
     "data": {
      "application/vnd.jupyter.widget-view+json": {
       "model_id": "3b59b3a96f704f22b4fbf9c341c01f81",
       "version_major": 2,
       "version_minor": 0
      },
      "text/plain": [
       "interactive(children=(Text(value='World', description='country'), Output()), _dom_classes=('widget-interact',)â€¦"
      ]
     },
     "metadata": {},
     "output_type": "display_data"
    },
    {
     "ename": "TraitError",
     "evalue": "Element of the 'children' trait of a VBox instance must be a Widget, but a value of Figure({\n    'data': [{'autocolorscale': False,\n              'colorbar': {'title': {'text': 'Mortality'}},\n              'colorscale': [[0.0, 'rgb(247,251,255)'], [0.125,\n                             'rgb(222,235,247)'], [0.25, 'rgb(198,219,239)'],\n                             [0.375, 'rgb(158,202,225)'], [0.5,\n                             'rgb(107,174,214)'], [0.625, 'rgb(66,146,198)'],\n                             [0.75, 'rgb(33,113,181)'], [0.875, 'rgb(8,81,156)'],\n                             [1.0, 'rgb(8,48,107)']],\n              'hoverinfo': 'location+z',\n              'locationmode': 'country names',\n              'locations': array(['US', 'Russia', 'United Kingdom', 'Brazil', 'Spain', 'Italy', 'France',\n                                  'Germany', 'Turkey', 'Iran', 'India', 'Peru', 'China', 'Canada',\n                                  'Belgium', 'Saudi Arabia', 'Mexico', 'Netherlands', 'Chile', 'Pakistan',\n                                  'Ecuador', 'Qatar', 'Switzerland', 'Sweden', 'Belarus', 'Portugal',\n                                  'Singapore', 'Ireland', 'Bangladesh', 'United Arab Emirates', 'Poland',\n                                  'Ukraine', 'Indonesia', 'Romania', 'Israel', 'Japan', 'Austria',\n                                  'Colombia', 'South Africa', 'Kuwait', 'Philippines',\n                                  'Dominican Republic', 'Egypt', 'Denmark', 'Korea, South', 'Serbia',\n                                  'Panama', 'Czechia', 'Norway', 'Argentina', 'Australia', 'Algeria',\n                                  'Bahrain', 'Malaysia', 'Morocco', 'Afghanistan', 'Kazakhstan',\n                                  'Finland', 'Moldova', 'Nigeria', 'Ghana', 'Oman', 'Armenia', 'Bolivia',\n                                  'Luxembourg', 'Hungary', 'Iraq', 'Azerbaijan', 'Cameroon', 'Thailand',\n                                  'Greece', 'Uzbekistan', 'Guinea', 'Honduras', 'Sudan', 'Senegal',\n                                  'Bosnia and Herzegovina', 'Bulgaria', 'Croatia', \"Cote d'Ivoire\",\n                                  'Guatemala', 'Cuba', 'Iceland', 'North Macedonia', 'Estonia',\n                                  'Lithuania', 'Tajikistan', 'New Zealand', 'Slovakia', 'Slovenia',\n                                  'Congo (Kinshasa)', 'Somalia', 'El Salvador', 'Djibouti', 'Gabon',\n                                  'Kyrgyzstan', 'Maldives', 'Tunisia', 'Latvia', 'Guinea-Bissau',\n                                  'Sri Lanka', 'Kosovo', 'Albania', 'Cyprus', 'Lebanon', 'Niger', 'Kenya',\n                                  'Costa Rica', 'Mali', 'Burkina Faso', 'Paraguay', 'Andorra', 'Zambia',\n                                  'Uruguay', 'Diamond Princess', 'Georgia', 'San Marino', 'Jordan',\n                                  'Equatorial Guinea', 'Malta', 'Venezuela', 'Jamaica', 'Tanzania',\n                                  'Sierra Leone', 'Chad', 'Haiti', 'Taiwan*', 'Congo (Brazzaville)',\n                                  'West Bank and Gaza', 'Benin', 'Mauritius', 'Cabo Verde',\n                                  'Central African Republic', 'Montenegro', 'Vietnam', 'Ethiopia',\n                                  'Madagascar', 'Nepal', 'Togo', 'Rwanda', 'South Sudan', 'Uganda',\n                                  'Sao Tome and Principe', 'Liberia', 'Eswatini', 'Burma', 'Brunei',\n                                  'Mongolia', 'Mozambique', 'Yemen', 'Cambodia', 'Guyana',\n                                  'Trinidad and Tobago', 'Bahamas', 'Monaco', 'Barbados', 'Liechtenstein',\n                                  'Malawi', 'Libya', 'Mauritania', 'Syria', 'Angola', 'Zimbabwe',\n                                  'Burundi', 'Eritrea', 'Nicaragua', 'Botswana', 'Antigua and Barbuda',\n                                  'Timor-Leste', 'Gambia', 'Grenada', 'Bhutan', 'Laos', 'Saint Lucia',\n                                  'Belize', 'Fiji', 'Saint Vincent and the Grenadines', 'Dominica',\n                                  'Namibia', 'Saint Kitts and Nevis', 'Holy See', 'Comoros', 'Seychelles',\n                                  'Suriname', 'MS Zaandam', 'Papua New Guinea', 'Western Sahara',\n                                  'Lesotho'], dtype=object),\n              'marker': {'line': {'color': 'darkgray', 'width': 0.5}},\n              'reversescale': True,\n              'text': array(['US', 'Russia', 'United Kingdom', 'Brazil', 'Spain', 'Italy', 'France',\n                             'Germany', 'Turkey', 'Iran', 'India', 'Peru', 'China', 'Canada',\n                             'Belgium', 'Saudi Arabia', 'Mexico', 'Netherlands', 'Chile', 'Pakistan',\n                             'Ecuador', 'Qatar', 'Switzerland', 'Sweden', 'Belarus', 'Portugal',\n                             'Singapore', 'Ireland', 'Bangladesh', 'United Arab Emirates', 'Poland',\n                             'Ukraine', 'Indonesia', 'Romania', 'Israel', 'Japan', 'Austria',\n                             'Colombia', 'South Africa', 'Kuwait', 'Philippines',\n                             'Dominican Republic', 'Egypt', 'Denmark', 'Korea, South', 'Serbia',\n                             'Panama', 'Czechia', 'Norway', 'Argentina', 'Australia', 'Algeria',\n                             'Bahrain', 'Malaysia', 'Morocco', 'Afghanistan', 'Kazakhstan',\n                             'Finland', 'Moldova', 'Nigeria', 'Ghana', 'Oman', 'Armenia', 'Bolivia',\n                             'Luxembourg', 'Hungary', 'Iraq', 'Azerbaijan', 'Cameroon', 'Thailand',\n                             'Greece', 'Uzbekistan', 'Guinea', 'Honduras', 'Sudan', 'Senegal',\n                             'Bosnia and Herzegovina', 'Bulgaria', 'Croatia', \"Cote d'Ivoire\",\n                             'Guatemala', 'Cuba', 'Iceland', 'North Macedonia', 'Estonia',\n                             'Lithuania', 'Tajikistan', 'New Zealand', 'Slovakia', 'Slovenia',\n                             'Congo (Kinshasa)', 'Somalia', 'El Salvador', 'Djibouti', 'Gabon',\n                             'Kyrgyzstan', 'Maldives', 'Tunisia', 'Latvia', 'Guinea-Bissau',\n                             'Sri Lanka', 'Kosovo', 'Albania', 'Cyprus', 'Lebanon', 'Niger', 'Kenya',\n                             'Costa Rica', 'Mali', 'Burkina Faso', 'Paraguay', 'Andorra', 'Zambia',\n                             'Uruguay', 'Diamond Princess', 'Georgia', 'San Marino', 'Jordan',\n                             'Equatorial Guinea', 'Malta', 'Venezuela', 'Jamaica', 'Tanzania',\n                             'Sierra Leone', 'Chad', 'Haiti', 'Taiwan*', 'Congo (Brazzaville)',\n                             'West Bank and Gaza', 'Benin', 'Mauritius', 'Cabo Verde',\n                             'Central African Republic', 'Montenegro', 'Vietnam', 'Ethiopia',\n                             'Madagascar', 'Nepal', 'Togo', 'Rwanda', 'South Sudan', 'Uganda',\n                             'Sao Tome and Principe', 'Liberia', 'Eswatini', 'Burma', 'Brunei',\n                             'Mongolia', 'Mozambique', 'Yemen', 'Cambodia', 'Guyana',\n                             'Trinidad and Tobago', 'Bahamas', 'Monaco', 'Barbados', 'Liechtenstein',\n                             'Malawi', 'Libya', 'Mauritania', 'Syria', 'Angola', 'Zimbabwe',\n                             'Burundi', 'Eritrea', 'Nicaragua', 'Botswana', 'Antigua and Barbuda',\n                             'Timor-Leste', 'Gambia', 'Grenada', 'Bhutan', 'Laos', 'Saint Lucia',\n                             'Belize', 'Fiji', 'Saint Vincent and the Grenadines', 'Dominica',\n                             'Namibia', 'Saint Kitts and Nevis', 'Holy See', 'Comoros', 'Seychelles',\n                             'Suriname', 'MS Zaandam', 'Papua New Guinea', 'Western Sahara',\n                             'Lesotho'], dtype=object),\n              'type': 'choropleth',\n              'z': array([ 6.02417904,  0.93643138, 14.1700851 ,  6.68740667, 11.94765451,\n                          14.15396899, 15.64390377,  4.51710837,  2.77043531,  5.81374066,\n                           3.14966361,  2.86974521,  5.51788136,  7.53587295, 16.34298673,\n                           0.5698422 , 10.51829578, 12.89512388,  1.02784313,  2.14362018,\n                           8.24543427,  0.04600662,  6.14967143, 12.20515543,  0.55649241,\n                           4.19479267,  0.07762058,  6.39930325,  1.4620863 ,  0.94186146,\n                           4.95572389,  2.87387194,  6.61299278,  6.56155533,  1.63648397,\n                           4.56862143,  3.86624869,  3.6856299 ,  1.70157912,  0.75420875,\n                           6.53404623,  3.47571869,  5.15168861,  4.89879993,  2.37686399,\n                           2.16776626,  2.86279409,  3.51415094,  2.81246212,  4.62320278,\n                           1.40226629,  7.80737997,  0.17251294,  1.62800749,  2.79475983,\n                           2.53601441,  0.52795031,  4.67084639,  3.48184818,  3.05420373,\n                           0.50566696,  0.42758877,  1.26477296,  4.13405088,  2.71229404,\n                          13.06930693,  3.613396  ,  1.19120342,  4.50885668,  1.84757506,\n                           5.75158786,  0.43446778,  0.60195636,  5.36659108,  4.05248939,\n                           1.00806452,  5.80786026,  4.92170022,  4.26774483,  1.2802276 ,\n                           1.83054393,  4.22008547,  0.55493896,  5.63616071,  3.58744395,\n                           3.81383323,  2.55905512,  1.40093396,  1.8729097 ,  7.0941337 ,\n                           4.19243986,  3.9408867 ,  2.12314225,  0.28551035,  0.83333333,\n                           1.15131579,  0.36563071,  4.33944069,  1.88305253,  0.4040404 ,\n                           0.91743119,  3.03664921,  3.2769556 ,  1.8558952 ,  2.85400659,\n                           5.97345133,  5.63697858,  1.15874855,  6.04651163,  6.40703518,\n                           1.39949109,  6.70170828,  0.92961487,  2.72479564,  1.8258427 ,\n                           1.71184023,  6.26911315,  1.46818923,  1.17845118,  1.08499096,\n                           1.84842884,  1.73076923,  4.12573674,  6.33663366, 10.53677932,\n                           4.38596491,  1.59090909,  3.83631714,  0.52493438,  0.5899705 ,\n                           3.01204819,  0.91463415,  0.        ,  2.77777778,  0.        ,\n                           1.57728707,  0.32894737,  0.65789474,  3.65448505,  0.        ,\n                           1.37931034,  0.        ,  2.9787234 ,  9.2920354 ,  0.98522167,\n                           3.20855615,  0.70921986,  0.        ,  0.        , 15.625     ,\n                           0.        ,  8.54700855,  6.89655172, 11.45833333,  4.16666667,\n                           7.95454545,  1.2195122 ,  4.28571429,  4.61538462,  6.4516129 ,\n                           5.17241379,  4.16666667,  9.09090909,  2.38095238,  0.        ,\n                          32.        ,  4.        , 12.        ,  0.        ,  4.34782609,\n                           0.        ,  0.        ,  0.        ,  0.        , 11.11111111,\n                           0.        ,  0.        ,  0.        ,  0.        ,  0.        ,\n                           0.        ,  9.09090909,  0.        , 10.        , 22.22222222,\n                           0.        ,  0.        ,  0.        ])}],\n    'layout': {'geo': {'projection': {'type': 'orthographic'}, 'showcoastlines': False, 'showframe': False},\n               'template': '...',\n               'title': {'text': '<b>3D View Of World &nbsp;Mortality Rate</b>'}}\n}) <class 'plotly.graph_objs._figure.Figure'> was specified.",
     "output_type": "error",
     "traceback": [
      "\u001b[1;31m---------------------------------------------------------------------------\u001b[0m",
      "\u001b[1;31mTraitError\u001b[0m                                Traceback (most recent call last)",
      "\u001b[1;32m~\\anaconda3\\lib\\site-packages\\traitlets\\traitlets.py\u001b[0m in \u001b[0;36mvalidate_elements\u001b[1;34m(self, obj, value)\u001b[0m\n\u001b[0;32m   2251\u001b[0m             \u001b[1;32mtry\u001b[0m\u001b[1;33m:\u001b[0m\u001b[1;33m\u001b[0m\u001b[1;33m\u001b[0m\u001b[0m\n\u001b[1;32m-> 2252\u001b[1;33m                 \u001b[0mv\u001b[0m \u001b[1;33m=\u001b[0m \u001b[0mself\u001b[0m\u001b[1;33m.\u001b[0m\u001b[0m_trait\u001b[0m\u001b[1;33m.\u001b[0m\u001b[0m_validate\u001b[0m\u001b[1;33m(\u001b[0m\u001b[0mobj\u001b[0m\u001b[1;33m,\u001b[0m \u001b[0mv\u001b[0m\u001b[1;33m)\u001b[0m\u001b[1;33m\u001b[0m\u001b[1;33m\u001b[0m\u001b[0m\n\u001b[0m\u001b[0;32m   2253\u001b[0m             \u001b[1;32mexcept\u001b[0m \u001b[0mTraitError\u001b[0m\u001b[1;33m:\u001b[0m\u001b[1;33m\u001b[0m\u001b[1;33m\u001b[0m\u001b[0m\n",
      "\u001b[1;32m~\\anaconda3\\lib\\site-packages\\traitlets\\traitlets.py\u001b[0m in \u001b[0;36m_validate\u001b[1;34m(self, obj, value)\u001b[0m\n\u001b[0;32m    590\u001b[0m         \u001b[1;32mif\u001b[0m \u001b[0mhasattr\u001b[0m\u001b[1;33m(\u001b[0m\u001b[0mself\u001b[0m\u001b[1;33m,\u001b[0m \u001b[1;34m'validate'\u001b[0m\u001b[1;33m)\u001b[0m\u001b[1;33m:\u001b[0m\u001b[1;33m\u001b[0m\u001b[1;33m\u001b[0m\u001b[0m\n\u001b[1;32m--> 591\u001b[1;33m             \u001b[0mvalue\u001b[0m \u001b[1;33m=\u001b[0m \u001b[0mself\u001b[0m\u001b[1;33m.\u001b[0m\u001b[0mvalidate\u001b[0m\u001b[1;33m(\u001b[0m\u001b[0mobj\u001b[0m\u001b[1;33m,\u001b[0m \u001b[0mvalue\u001b[0m\u001b[1;33m)\u001b[0m\u001b[1;33m\u001b[0m\u001b[1;33m\u001b[0m\u001b[0m\n\u001b[0m\u001b[0;32m    592\u001b[0m         \u001b[1;32mif\u001b[0m \u001b[0mobj\u001b[0m\u001b[1;33m.\u001b[0m\u001b[0m_cross_validation_lock\u001b[0m \u001b[1;32mis\u001b[0m \u001b[1;32mFalse\u001b[0m\u001b[1;33m:\u001b[0m\u001b[1;33m\u001b[0m\u001b[1;33m\u001b[0m\u001b[0m\n",
      "\u001b[1;32m~\\anaconda3\\lib\\site-packages\\traitlets\\traitlets.py\u001b[0m in \u001b[0;36mvalidate\u001b[1;34m(self, obj, value)\u001b[0m\n\u001b[0;32m   1676\u001b[0m         \u001b[1;32melse\u001b[0m\u001b[1;33m:\u001b[0m\u001b[1;33m\u001b[0m\u001b[1;33m\u001b[0m\u001b[0m\n\u001b[1;32m-> 1677\u001b[1;33m             \u001b[0mself\u001b[0m\u001b[1;33m.\u001b[0m\u001b[0merror\u001b[0m\u001b[1;33m(\u001b[0m\u001b[0mobj\u001b[0m\u001b[1;33m,\u001b[0m \u001b[0mvalue\u001b[0m\u001b[1;33m)\u001b[0m\u001b[1;33m\u001b[0m\u001b[1;33m\u001b[0m\u001b[0m\n\u001b[0m\u001b[0;32m   1678\u001b[0m \u001b[1;33m\u001b[0m\u001b[0m\n",
      "\u001b[1;32m~\\anaconda3\\lib\\site-packages\\traitlets\\traitlets.py\u001b[0m in \u001b[0;36merror\u001b[1;34m(self, obj, value)\u001b[0m\n\u001b[0;32m   1523\u001b[0m \u001b[1;33m\u001b[0m\u001b[0m\n\u001b[1;32m-> 1524\u001b[1;33m         \u001b[1;32mraise\u001b[0m \u001b[0mTraitError\u001b[0m\u001b[1;33m(\u001b[0m\u001b[0me\u001b[0m\u001b[1;33m)\u001b[0m\u001b[1;33m\u001b[0m\u001b[1;33m\u001b[0m\u001b[0m\n\u001b[0m\u001b[0;32m   1525\u001b[0m \u001b[1;33m\u001b[0m\u001b[0m\n",
      "\u001b[1;31mTraitError\u001b[0m: The 'None' trait of a VBox instance must be a Widget, but a value of class 'plotly.graph_objs._figure.Figure' (i.e. Figure({\n    'data': [{'autocolorscale': False,\n              'colorbar': {'title': {'text': 'Mortality'}},\n              'colorscale': [[0.0, 'rgb(247,251,255)'], [0.125,\n                             'rgb(222,235,247)'], [0.25, 'rgb(198,219,239)'],\n                             [0.375, 'rgb(158,202,225)'], [0.5,\n                             'rgb(107,174,214)'], [0.625, 'rgb(66,146,198)'],\n                             [0.75, 'rgb(33,113,181)'], [0.875, 'rgb(8,81,156)'],\n                             [1.0, 'rgb(8,48,107)']],\n              'hoverinfo': 'location+z',\n              'locationmode': 'country names',\n              'locations': array(['US', 'Russia', 'United Kingdom', 'Brazil', 'Spain', 'Italy', 'France',\n                                  'Germany', 'Turkey', 'Iran', 'India', 'Peru', 'China', 'Canada',\n                                  'Belgium', 'Saudi Arabia', 'Mexico', 'Netherlands', 'Chile', 'Pakistan',\n                                  'Ecuador', 'Qatar', 'Switzerland', 'Sweden', 'Belarus', 'Portugal',\n                                  'Singapore', 'Ireland', 'Bangladesh', 'United Arab Emirates', 'Poland',\n                                  'Ukraine', 'Indonesia', 'Romania', 'Israel', 'Japan', 'Austria',\n                                  'Colombia', 'South Africa', 'Kuwait', 'Philippines',\n                                  'Dominican Republic', 'Egypt', 'Denmark', 'Korea, South', 'Serbia',\n                                  'Panama', 'Czechia', 'Norway', 'Argentina', 'Australia', 'Algeria',\n                                  'Bahrain', 'Malaysia', 'Morocco', 'Afghanistan', 'Kazakhstan',\n                                  'Finland', 'Moldova', 'Nigeria', 'Ghana', 'Oman', 'Armenia', 'Bolivia',\n                                  'Luxembourg', 'Hungary', 'Iraq', 'Azerbaijan', 'Cameroon', 'Thailand',\n                                  'Greece', 'Uzbekistan', 'Guinea', 'Honduras', 'Sudan', 'Senegal',\n                                  'Bosnia and Herzegovina', 'Bulgaria', 'Croatia', \"Cote d'Ivoire\",\n                                  'Guatemala', 'Cuba', 'Iceland', 'North Macedonia', 'Estonia',\n                                  'Lithuania', 'Tajikistan', 'New Zealand', 'Slovakia', 'Slovenia',\n                                  'Congo (Kinshasa)', 'Somalia', 'El Salvador', 'Djibouti', 'Gabon',\n                                  'Kyrgyzstan', 'Maldives', 'Tunisia', 'Latvia', 'Guinea-Bissau',\n                                  'Sri Lanka', 'Kosovo', 'Albania', 'Cyprus', 'Lebanon', 'Niger', 'Kenya',\n                                  'Costa Rica', 'Mali', 'Burkina Faso', 'Paraguay', 'Andorra', 'Zambia',\n                                  'Uruguay', 'Diamond Princess', 'Georgia', 'San Marino', 'Jordan',\n                                  'Equatorial Guinea', 'Malta', 'Venezuela', 'Jamaica', 'Tanzania',\n                                  'Sierra Leone', 'Chad', 'Haiti', 'Taiwan*', 'Congo (Brazzaville)',\n                                  'West Bank and Gaza', 'Benin', 'Mauritius', 'Cabo Verde',\n                                  'Central African Republic', 'Montenegro', 'Vietnam', 'Ethiopia',\n                                  'Madagascar', 'Nepal', 'Togo', 'Rwanda', 'South Sudan', 'Uganda',\n                                  'Sao Tome and Principe', 'Liberia', 'Eswatini', 'Burma', 'Brunei',\n                                  'Mongolia', 'Mozambique', 'Yemen', 'Cambodia', 'Guyana',\n                                  'Trinidad and Tobago', 'Bahamas', 'Monaco', 'Barbados', 'Liechtenstein',\n                                  'Malawi', 'Libya', 'Mauritania', 'Syria', 'Angola', 'Zimbabwe',\n                                  'Burundi', 'Eritrea', 'Nicaragua', 'Botswana', 'Antigua and Barbuda',\n                                  'Timor-Leste', 'Gambia', 'Grenada', 'Bhutan', 'Laos', 'Saint Lucia',\n                                  'Belize', 'Fiji', 'Saint Vincent and the Grenadines', 'Dominica',\n                                  'Namibia', 'Saint Kitts and Nevis', 'Holy See', 'Comoros', 'Seychelles',\n                                  'Suriname', 'MS Zaandam', 'Papua New Guinea', 'Western Sahara',\n                                  'Lesotho'], dtype=object),\n              'marker': {'line': {'color': 'darkgray', 'width': 0.5}},\n              'reversescale': True,\n              'text': array(['US', 'Russia', 'United Kingdom', 'Brazil', 'Spain', 'Italy', 'France',\n                             'Germany', 'Turkey', 'Iran', 'India', 'Peru', 'China', 'Canada',\n                             'Belgium', 'Saudi Arabia', 'Mexico', 'Netherlands', 'Chile', 'Pakistan',\n                             'Ecuador', 'Qatar', 'Switzerland', 'Sweden', 'Belarus', 'Portugal',\n                             'Singapore', 'Ireland', 'Bangladesh', 'United Arab Emirates', 'Poland',\n                             'Ukraine', 'Indonesia', 'Romania', 'Israel', 'Japan', 'Austria',\n                             'Colombia', 'South Africa', 'Kuwait', 'Philippines',\n                             'Dominican Republic', 'Egypt', 'Denmark', 'Korea, South', 'Serbia',\n                             'Panama', 'Czechia', 'Norway', 'Argentina', 'Australia', 'Algeria',\n                             'Bahrain', 'Malaysia', 'Morocco', 'Afghanistan', 'Kazakhstan',\n                             'Finland', 'Moldova', 'Nigeria', 'Ghana', 'Oman', 'Armenia', 'Bolivia',\n                             'Luxembourg', 'Hungary', 'Iraq', 'Azerbaijan', 'Cameroon', 'Thailand',\n                             'Greece', 'Uzbekistan', 'Guinea', 'Honduras', 'Sudan', 'Senegal',\n                             'Bosnia and Herzegovina', 'Bulgaria', 'Croatia', \"Cote d'Ivoire\",\n                             'Guatemala', 'Cuba', 'Iceland', 'North Macedonia', 'Estonia',\n                             'Lithuania', 'Tajikistan', 'New Zealand', 'Slovakia', 'Slovenia',\n                             'Congo (Kinshasa)', 'Somalia', 'El Salvador', 'Djibouti', 'Gabon',\n                             'Kyrgyzstan', 'Maldives', 'Tunisia', 'Latvia', 'Guinea-Bissau',\n                             'Sri Lanka', 'Kosovo', 'Albania', 'Cyprus', 'Lebanon', 'Niger', 'Kenya',\n                             'Costa Rica', 'Mali', 'Burkina Faso', 'Paraguay', 'Andorra', 'Zambia',\n                             'Uruguay', 'Diamond Princess', 'Georgia', 'San Marino', 'Jordan',\n                             'Equatorial Guinea', 'Malta', 'Venezuela', 'Jamaica', 'Tanzania',\n                             'Sierra Leone', 'Chad', 'Haiti', 'Taiwan*', 'Congo (Brazzaville)',\n                             'West Bank and Gaza', 'Benin', 'Mauritius', 'Cabo Verde',\n                             'Central African Republic', 'Montenegro', 'Vietnam', 'Ethiopia',\n                             'Madagascar', 'Nepal', 'Togo', 'Rwanda', 'South Sudan', 'Uganda',\n                             'Sao Tome and Principe', 'Liberia', 'Eswatini', 'Burma', 'Brunei',\n                             'Mongolia', 'Mozambique', 'Yemen', 'Cambodia', 'Guyana',\n                             'Trinidad and Tobago', 'Bahamas', 'Monaco', 'Barbados', 'Liechtenstein',\n                             'Malawi', 'Libya', 'Mauritania', 'Syria', 'Angola', 'Zimbabwe',\n                             'Burundi', 'Eritrea', 'Nicaragua', 'Botswana', 'Antigua and Barbuda',\n                             'Timor-Leste', 'Gambia', 'Grenada', 'Bhutan', 'Laos', 'Saint Lucia',\n                             'Belize', 'Fiji', 'Saint Vincent and the Grenadines', 'Dominica',\n                             'Namibia', 'Saint Kitts and Nevis', 'Holy See', 'Comoros', 'Seychelles',\n                             'Suriname', 'MS Zaandam', 'Papua New Guinea', 'Western Sahara',\n                             'Lesotho'], dtype=object),\n              'type': 'choropleth',\n              'z': array([ 6.02417904,  0.93643138, 14.1700851 ,  6.68740667, 11.94765451,\n                          14.15396899, 15.64390377,  4.51710837,  2.77043531,  5.81374066,\n                           3.14966361,  2.86974521,  5.51788136,  7.53587295, 16.34298673,\n                           0.5698422 , 10.51829578, 12.89512388,  1.02784313,  2.14362018,\n                           8.24543427,  0.04600662,  6.14967143, 12.20515543,  0.55649241,\n                           4.19479267,  0.07762058,  6.39930325,  1.4620863 ,  0.94186146,\n                           4.95572389,  2.87387194,  6.61299278,  6.56155533,  1.63648397,\n                           4.56862143,  3.86624869,  3.6856299 ,  1.70157912,  0.75420875,\n                           6.53404623,  3.47571869,  5.15168861,  4.89879993,  2.37686399,\n                           2.16776626,  2.86279409,  3.51415094,  2.81246212,  4.62320278,\n                           1.40226629,  7.80737997,  0.17251294,  1.62800749,  2.79475983,\n                           2.53601441,  0.52795031,  4.67084639,  3.48184818,  3.05420373,\n                           0.50566696,  0.42758877,  1.26477296,  4.13405088,  2.71229404,\n                          13.06930693,  3.613396  ,  1.19120342,  4.50885668,  1.84757506,\n                           5.75158786,  0.43446778,  0.60195636,  5.36659108,  4.05248939,\n                           1.00806452,  5.80786026,  4.92170022,  4.26774483,  1.2802276 ,\n                           1.83054393,  4.22008547,  0.55493896,  5.63616071,  3.58744395,\n                           3.81383323,  2.55905512,  1.40093396,  1.8729097 ,  7.0941337 ,\n                           4.19243986,  3.9408867 ,  2.12314225,  0.28551035,  0.83333333,\n                           1.15131579,  0.36563071,  4.33944069,  1.88305253,  0.4040404 ,\n                           0.91743119,  3.03664921,  3.2769556 ,  1.8558952 ,  2.85400659,\n                           5.97345133,  5.63697858,  1.15874855,  6.04651163,  6.40703518,\n                           1.39949109,  6.70170828,  0.92961487,  2.72479564,  1.8258427 ,\n                           1.71184023,  6.26911315,  1.46818923,  1.17845118,  1.08499096,\n                           1.84842884,  1.73076923,  4.12573674,  6.33663366, 10.53677932,\n                           4.38596491,  1.59090909,  3.83631714,  0.52493438,  0.5899705 ,\n                           3.01204819,  0.91463415,  0.        ,  2.77777778,  0.        ,\n                           1.57728707,  0.32894737,  0.65789474,  3.65448505,  0.        ,\n                           1.37931034,  0.        ,  2.9787234 ,  9.2920354 ,  0.98522167,\n                           3.20855615,  0.70921986,  0.        ,  0.        , 15.625     ,\n                           0.        ,  8.54700855,  6.89655172, 11.45833333,  4.16666667,\n                           7.95454545,  1.2195122 ,  4.28571429,  4.61538462,  6.4516129 ,\n                           5.17241379,  4.16666667,  9.09090909,  2.38095238,  0.        ,\n                          32.        ,  4.        , 12.        ,  0.        ,  4.34782609,\n                           0.        ,  0.        ,  0.        ,  0.        , 11.11111111,\n                           0.        ,  0.        ,  0.        ,  0.        ,  0.        ,\n                           0.        ,  9.09090909,  0.        , 10.        , 22.22222222,\n                           0.        ,  0.        ,  0.        ])}],\n    'layout': {'geo': {'projection': {'type': 'orthographic'}, 'showcoastlines': False, 'showframe': False},\n               'template': '...',\n               'title': {'text': '<b>3D View Of World &nbsp;Mortality Rate</b>'}}\n})) was specified.",
      "\nDuring handling of the above exception, another exception occurred:\n",
      "\u001b[1;31mTraitError\u001b[0m                                Traceback (most recent call last)",
      "\u001b[1;32m<ipython-input-23-e9f6fcc29a95>\u001b[0m in \u001b[0;36m<module>\u001b[1;34m\u001b[0m\n\u001b[0;32m      3\u001b[0m \u001b[0mipywLayout\u001b[0m \u001b[1;33m=\u001b[0m \u001b[0mwidgets\u001b[0m\u001b[1;33m.\u001b[0m\u001b[0mLayout\u001b[0m\u001b[1;33m(\u001b[0m\u001b[0mborder\u001b[0m\u001b[1;33m=\u001b[0m\u001b[1;34m'solid 2px green'\u001b[0m\u001b[1;33m)\u001b[0m\u001b[1;33m\u001b[0m\u001b[1;33m\u001b[0m\u001b[0m\n\u001b[0;32m      4\u001b[0m \u001b[0mipywLayout\u001b[0m\u001b[1;33m.\u001b[0m\u001b[0mdisplay\u001b[0m\u001b[1;33m=\u001b[0m\u001b[1;34m'none'\u001b[0m \u001b[1;31m# uncomment this, run cell again - then the graph/figure disappears\u001b[0m\u001b[1;33m\u001b[0m\u001b[1;33m\u001b[0m\u001b[0m\n\u001b[1;32m----> 5\u001b[1;33m \u001b[0mwidgets\u001b[0m\u001b[1;33m.\u001b[0m\u001b[0mVBox\u001b[0m\u001b[1;33m(\u001b[0m\u001b[1;33m[\u001b[0m\u001b[0mfig\u001b[0m\u001b[1;33m]\u001b[0m\u001b[1;33m,\u001b[0m \u001b[0mlayout\u001b[0m\u001b[1;33m=\u001b[0m\u001b[0mipywLayout\u001b[0m\u001b[1;33m)\u001b[0m\u001b[1;33m\u001b[0m\u001b[1;33m\u001b[0m\u001b[0m\n\u001b[0m",
      "\u001b[1;32m~\\anaconda3\\lib\\site-packages\\ipywidgets\\widgets\\widget_box.py\u001b[0m in \u001b[0;36m__init__\u001b[1;34m(self, children, **kwargs)\u001b[0m\n\u001b[0;32m     62\u001b[0m     \u001b[1;32mdef\u001b[0m \u001b[0m__init__\u001b[0m\u001b[1;33m(\u001b[0m\u001b[0mself\u001b[0m\u001b[1;33m,\u001b[0m \u001b[0mchildren\u001b[0m\u001b[1;33m=\u001b[0m\u001b[1;33m(\u001b[0m\u001b[1;33m)\u001b[0m\u001b[1;33m,\u001b[0m \u001b[1;33m**\u001b[0m\u001b[0mkwargs\u001b[0m\u001b[1;33m)\u001b[0m\u001b[1;33m:\u001b[0m\u001b[1;33m\u001b[0m\u001b[1;33m\u001b[0m\u001b[0m\n\u001b[0;32m     63\u001b[0m         \u001b[0mkwargs\u001b[0m\u001b[1;33m[\u001b[0m\u001b[1;34m'children'\u001b[0m\u001b[1;33m]\u001b[0m \u001b[1;33m=\u001b[0m \u001b[0mchildren\u001b[0m\u001b[1;33m\u001b[0m\u001b[1;33m\u001b[0m\u001b[0m\n\u001b[1;32m---> 64\u001b[1;33m         \u001b[0msuper\u001b[0m\u001b[1;33m(\u001b[0m\u001b[0mBox\u001b[0m\u001b[1;33m,\u001b[0m \u001b[0mself\u001b[0m\u001b[1;33m)\u001b[0m\u001b[1;33m.\u001b[0m\u001b[0m__init__\u001b[0m\u001b[1;33m(\u001b[0m\u001b[1;33m**\u001b[0m\u001b[0mkwargs\u001b[0m\u001b[1;33m)\u001b[0m\u001b[1;33m\u001b[0m\u001b[1;33m\u001b[0m\u001b[0m\n\u001b[0m\u001b[0;32m     65\u001b[0m         \u001b[0mself\u001b[0m\u001b[1;33m.\u001b[0m\u001b[0mon_displayed\u001b[0m\u001b[1;33m(\u001b[0m\u001b[0mBox\u001b[0m\u001b[1;33m.\u001b[0m\u001b[0m_fire_children_displayed\u001b[0m\u001b[1;33m)\u001b[0m\u001b[1;33m\u001b[0m\u001b[1;33m\u001b[0m\u001b[0m\n\u001b[0;32m     66\u001b[0m \u001b[1;33m\u001b[0m\u001b[0m\n",
      "\u001b[1;32m~\\anaconda3\\lib\\site-packages\\ipywidgets\\widgets\\widget.py\u001b[0m in \u001b[0;36m__init__\u001b[1;34m(self, **kwargs)\u001b[0m\n\u001b[0;32m    410\u001b[0m         \u001b[1;34m\"\"\"Public constructor\"\"\"\u001b[0m\u001b[1;33m\u001b[0m\u001b[1;33m\u001b[0m\u001b[0m\n\u001b[0;32m    411\u001b[0m         \u001b[0mself\u001b[0m\u001b[1;33m.\u001b[0m\u001b[0m_model_id\u001b[0m \u001b[1;33m=\u001b[0m \u001b[0mkwargs\u001b[0m\u001b[1;33m.\u001b[0m\u001b[0mpop\u001b[0m\u001b[1;33m(\u001b[0m\u001b[1;34m'model_id'\u001b[0m\u001b[1;33m,\u001b[0m \u001b[1;32mNone\u001b[0m\u001b[1;33m)\u001b[0m\u001b[1;33m\u001b[0m\u001b[1;33m\u001b[0m\u001b[0m\n\u001b[1;32m--> 412\u001b[1;33m         \u001b[0msuper\u001b[0m\u001b[1;33m(\u001b[0m\u001b[0mWidget\u001b[0m\u001b[1;33m,\u001b[0m \u001b[0mself\u001b[0m\u001b[1;33m)\u001b[0m\u001b[1;33m.\u001b[0m\u001b[0m__init__\u001b[0m\u001b[1;33m(\u001b[0m\u001b[1;33m**\u001b[0m\u001b[0mkwargs\u001b[0m\u001b[1;33m)\u001b[0m\u001b[1;33m\u001b[0m\u001b[1;33m\u001b[0m\u001b[0m\n\u001b[0m\u001b[0;32m    413\u001b[0m \u001b[1;33m\u001b[0m\u001b[0m\n\u001b[0;32m    414\u001b[0m         \u001b[0mWidget\u001b[0m\u001b[1;33m.\u001b[0m\u001b[0m_call_widget_constructed\u001b[0m\u001b[1;33m(\u001b[0m\u001b[0mself\u001b[0m\u001b[1;33m)\u001b[0m\u001b[1;33m\u001b[0m\u001b[1;33m\u001b[0m\u001b[0m\n",
      "\u001b[1;32m~\\anaconda3\\lib\\site-packages\\traitlets\\traitlets.py\u001b[0m in \u001b[0;36m__init__\u001b[1;34m(self, *args, **kwargs)\u001b[0m\n\u001b[0;32m    995\u001b[0m             \u001b[1;32mfor\u001b[0m \u001b[0mkey\u001b[0m\u001b[1;33m,\u001b[0m \u001b[0mvalue\u001b[0m \u001b[1;32min\u001b[0m \u001b[0mkwargs\u001b[0m\u001b[1;33m.\u001b[0m\u001b[0mitems\u001b[0m\u001b[1;33m(\u001b[0m\u001b[1;33m)\u001b[0m\u001b[1;33m:\u001b[0m\u001b[1;33m\u001b[0m\u001b[1;33m\u001b[0m\u001b[0m\n\u001b[0;32m    996\u001b[0m                 \u001b[1;32mif\u001b[0m \u001b[0mself\u001b[0m\u001b[1;33m.\u001b[0m\u001b[0mhas_trait\u001b[0m\u001b[1;33m(\u001b[0m\u001b[0mkey\u001b[0m\u001b[1;33m)\u001b[0m\u001b[1;33m:\u001b[0m\u001b[1;33m\u001b[0m\u001b[1;33m\u001b[0m\u001b[0m\n\u001b[1;32m--> 997\u001b[1;33m                     \u001b[0msetattr\u001b[0m\u001b[1;33m(\u001b[0m\u001b[0mself\u001b[0m\u001b[1;33m,\u001b[0m \u001b[0mkey\u001b[0m\u001b[1;33m,\u001b[0m \u001b[0mvalue\u001b[0m\u001b[1;33m)\u001b[0m\u001b[1;33m\u001b[0m\u001b[1;33m\u001b[0m\u001b[0m\n\u001b[0m\u001b[0;32m    998\u001b[0m                 \u001b[1;32melse\u001b[0m\u001b[1;33m:\u001b[0m\u001b[1;33m\u001b[0m\u001b[1;33m\u001b[0m\u001b[0m\n\u001b[0;32m    999\u001b[0m                     \u001b[1;31m# passthrough args that don't set traits to super\u001b[0m\u001b[1;33m\u001b[0m\u001b[1;33m\u001b[0m\u001b[1;33m\u001b[0m\u001b[0m\n",
      "\u001b[1;32m~\\anaconda3\\lib\\site-packages\\traitlets\\traitlets.py\u001b[0m in \u001b[0;36m__set__\u001b[1;34m(self, obj, value)\u001b[0m\n\u001b[0;32m    583\u001b[0m             \u001b[1;32mraise\u001b[0m \u001b[0mTraitError\u001b[0m\u001b[1;33m(\u001b[0m\u001b[1;34m'The \"%s\" trait is read-only.'\u001b[0m \u001b[1;33m%\u001b[0m \u001b[0mself\u001b[0m\u001b[1;33m.\u001b[0m\u001b[0mname\u001b[0m\u001b[1;33m)\u001b[0m\u001b[1;33m\u001b[0m\u001b[1;33m\u001b[0m\u001b[0m\n\u001b[0;32m    584\u001b[0m         \u001b[1;32melse\u001b[0m\u001b[1;33m:\u001b[0m\u001b[1;33m\u001b[0m\u001b[1;33m\u001b[0m\u001b[0m\n\u001b[1;32m--> 585\u001b[1;33m             \u001b[0mself\u001b[0m\u001b[1;33m.\u001b[0m\u001b[0mset\u001b[0m\u001b[1;33m(\u001b[0m\u001b[0mobj\u001b[0m\u001b[1;33m,\u001b[0m \u001b[0mvalue\u001b[0m\u001b[1;33m)\u001b[0m\u001b[1;33m\u001b[0m\u001b[1;33m\u001b[0m\u001b[0m\n\u001b[0m\u001b[0;32m    586\u001b[0m \u001b[1;33m\u001b[0m\u001b[0m\n\u001b[0;32m    587\u001b[0m     \u001b[1;32mdef\u001b[0m \u001b[0m_validate\u001b[0m\u001b[1;33m(\u001b[0m\u001b[0mself\u001b[0m\u001b[1;33m,\u001b[0m \u001b[0mobj\u001b[0m\u001b[1;33m,\u001b[0m \u001b[0mvalue\u001b[0m\u001b[1;33m)\u001b[0m\u001b[1;33m:\u001b[0m\u001b[1;33m\u001b[0m\u001b[1;33m\u001b[0m\u001b[0m\n",
      "\u001b[1;32m~\\anaconda3\\lib\\site-packages\\traitlets\\traitlets.py\u001b[0m in \u001b[0;36mset\u001b[1;34m(self, obj, value)\u001b[0m\n\u001b[0;32m    557\u001b[0m \u001b[1;33m\u001b[0m\u001b[0m\n\u001b[0;32m    558\u001b[0m     \u001b[1;32mdef\u001b[0m \u001b[0mset\u001b[0m\u001b[1;33m(\u001b[0m\u001b[0mself\u001b[0m\u001b[1;33m,\u001b[0m \u001b[0mobj\u001b[0m\u001b[1;33m,\u001b[0m \u001b[0mvalue\u001b[0m\u001b[1;33m)\u001b[0m\u001b[1;33m:\u001b[0m\u001b[1;33m\u001b[0m\u001b[1;33m\u001b[0m\u001b[0m\n\u001b[1;32m--> 559\u001b[1;33m         \u001b[0mnew_value\u001b[0m \u001b[1;33m=\u001b[0m \u001b[0mself\u001b[0m\u001b[1;33m.\u001b[0m\u001b[0m_validate\u001b[0m\u001b[1;33m(\u001b[0m\u001b[0mobj\u001b[0m\u001b[1;33m,\u001b[0m \u001b[0mvalue\u001b[0m\u001b[1;33m)\u001b[0m\u001b[1;33m\u001b[0m\u001b[1;33m\u001b[0m\u001b[0m\n\u001b[0m\u001b[0;32m    560\u001b[0m         \u001b[1;32mtry\u001b[0m\u001b[1;33m:\u001b[0m\u001b[1;33m\u001b[0m\u001b[1;33m\u001b[0m\u001b[0m\n\u001b[0;32m    561\u001b[0m             \u001b[0mold_value\u001b[0m \u001b[1;33m=\u001b[0m \u001b[0mobj\u001b[0m\u001b[1;33m.\u001b[0m\u001b[0m_trait_values\u001b[0m\u001b[1;33m[\u001b[0m\u001b[0mself\u001b[0m\u001b[1;33m.\u001b[0m\u001b[0mname\u001b[0m\u001b[1;33m]\u001b[0m\u001b[1;33m\u001b[0m\u001b[1;33m\u001b[0m\u001b[0m\n",
      "\u001b[1;32m~\\anaconda3\\lib\\site-packages\\traitlets\\traitlets.py\u001b[0m in \u001b[0;36m_validate\u001b[1;34m(self, obj, value)\u001b[0m\n\u001b[0;32m    589\u001b[0m             \u001b[1;32mreturn\u001b[0m \u001b[0mvalue\u001b[0m\u001b[1;33m\u001b[0m\u001b[1;33m\u001b[0m\u001b[0m\n\u001b[0;32m    590\u001b[0m         \u001b[1;32mif\u001b[0m \u001b[0mhasattr\u001b[0m\u001b[1;33m(\u001b[0m\u001b[0mself\u001b[0m\u001b[1;33m,\u001b[0m \u001b[1;34m'validate'\u001b[0m\u001b[1;33m)\u001b[0m\u001b[1;33m:\u001b[0m\u001b[1;33m\u001b[0m\u001b[1;33m\u001b[0m\u001b[0m\n\u001b[1;32m--> 591\u001b[1;33m             \u001b[0mvalue\u001b[0m \u001b[1;33m=\u001b[0m \u001b[0mself\u001b[0m\u001b[1;33m.\u001b[0m\u001b[0mvalidate\u001b[0m\u001b[1;33m(\u001b[0m\u001b[0mobj\u001b[0m\u001b[1;33m,\u001b[0m \u001b[0mvalue\u001b[0m\u001b[1;33m)\u001b[0m\u001b[1;33m\u001b[0m\u001b[1;33m\u001b[0m\u001b[0m\n\u001b[0m\u001b[0;32m    592\u001b[0m         \u001b[1;32mif\u001b[0m \u001b[0mobj\u001b[0m\u001b[1;33m.\u001b[0m\u001b[0m_cross_validation_lock\u001b[0m \u001b[1;32mis\u001b[0m \u001b[1;32mFalse\u001b[0m\u001b[1;33m:\u001b[0m\u001b[1;33m\u001b[0m\u001b[1;33m\u001b[0m\u001b[0m\n\u001b[0;32m    593\u001b[0m             \u001b[0mvalue\u001b[0m \u001b[1;33m=\u001b[0m \u001b[0mself\u001b[0m\u001b[1;33m.\u001b[0m\u001b[0m_cross_validate\u001b[0m\u001b[1;33m(\u001b[0m\u001b[0mobj\u001b[0m\u001b[1;33m,\u001b[0m \u001b[0mvalue\u001b[0m\u001b[1;33m)\u001b[0m\u001b[1;33m\u001b[0m\u001b[1;33m\u001b[0m\u001b[0m\n",
      "\u001b[1;32m~\\anaconda3\\lib\\site-packages\\traitlets\\traitlets.py\u001b[0m in \u001b[0;36mvalidate\u001b[1;34m(self, obj, value)\u001b[0m\n\u001b[0;32m   2240\u001b[0m             \u001b[1;32mreturn\u001b[0m \u001b[0mvalue\u001b[0m\u001b[1;33m\u001b[0m\u001b[1;33m\u001b[0m\u001b[0m\n\u001b[0;32m   2241\u001b[0m \u001b[1;33m\u001b[0m\u001b[0m\n\u001b[1;32m-> 2242\u001b[1;33m         \u001b[0mvalue\u001b[0m \u001b[1;33m=\u001b[0m \u001b[0mself\u001b[0m\u001b[1;33m.\u001b[0m\u001b[0mvalidate_elements\u001b[0m\u001b[1;33m(\u001b[0m\u001b[0mobj\u001b[0m\u001b[1;33m,\u001b[0m \u001b[0mvalue\u001b[0m\u001b[1;33m)\u001b[0m\u001b[1;33m\u001b[0m\u001b[1;33m\u001b[0m\u001b[0m\n\u001b[0m\u001b[0;32m   2243\u001b[0m \u001b[1;33m\u001b[0m\u001b[0m\n\u001b[0;32m   2244\u001b[0m         \u001b[1;32mreturn\u001b[0m \u001b[0mvalue\u001b[0m\u001b[1;33m\u001b[0m\u001b[1;33m\u001b[0m\u001b[0m\n",
      "\u001b[1;32m~\\anaconda3\\lib\\site-packages\\traitlets\\traitlets.py\u001b[0m in \u001b[0;36mvalidate_elements\u001b[1;34m(self, obj, value)\u001b[0m\n\u001b[0;32m   2252\u001b[0m                 \u001b[0mv\u001b[0m \u001b[1;33m=\u001b[0m \u001b[0mself\u001b[0m\u001b[1;33m.\u001b[0m\u001b[0m_trait\u001b[0m\u001b[1;33m.\u001b[0m\u001b[0m_validate\u001b[0m\u001b[1;33m(\u001b[0m\u001b[0mobj\u001b[0m\u001b[1;33m,\u001b[0m \u001b[0mv\u001b[0m\u001b[1;33m)\u001b[0m\u001b[1;33m\u001b[0m\u001b[1;33m\u001b[0m\u001b[0m\n\u001b[0;32m   2253\u001b[0m             \u001b[1;32mexcept\u001b[0m \u001b[0mTraitError\u001b[0m\u001b[1;33m:\u001b[0m\u001b[1;33m\u001b[0m\u001b[1;33m\u001b[0m\u001b[0m\n\u001b[1;32m-> 2254\u001b[1;33m                 \u001b[0mself\u001b[0m\u001b[1;33m.\u001b[0m\u001b[0melement_error\u001b[0m\u001b[1;33m(\u001b[0m\u001b[0mobj\u001b[0m\u001b[1;33m,\u001b[0m \u001b[0mv\u001b[0m\u001b[1;33m,\u001b[0m \u001b[0mself\u001b[0m\u001b[1;33m.\u001b[0m\u001b[0m_trait\u001b[0m\u001b[1;33m)\u001b[0m\u001b[1;33m\u001b[0m\u001b[1;33m\u001b[0m\u001b[0m\n\u001b[0m\u001b[0;32m   2255\u001b[0m             \u001b[1;32melse\u001b[0m\u001b[1;33m:\u001b[0m\u001b[1;33m\u001b[0m\u001b[1;33m\u001b[0m\u001b[0m\n\u001b[0;32m   2256\u001b[0m                 \u001b[0mvalidated\u001b[0m\u001b[1;33m.\u001b[0m\u001b[0mappend\u001b[0m\u001b[1;33m(\u001b[0m\u001b[0mv\u001b[0m\u001b[1;33m)\u001b[0m\u001b[1;33m\u001b[0m\u001b[1;33m\u001b[0m\u001b[0m\n",
      "\u001b[1;32m~\\anaconda3\\lib\\site-packages\\traitlets\\traitlets.py\u001b[0m in \u001b[0;36melement_error\u001b[1;34m(self, obj, element, validator)\u001b[0m\n\u001b[0;32m   2231\u001b[0m         \u001b[0me\u001b[0m \u001b[1;33m=\u001b[0m \u001b[1;34m\"Element of the '%s' trait of %s instance must be %s, but a value of %s was specified.\"\u001b[0m\u001b[0;31m \u001b[0m\u001b[0;31m\\\u001b[0m\u001b[1;33m\u001b[0m\u001b[1;33m\u001b[0m\u001b[0m\n\u001b[0;32m   2232\u001b[0m             \u001b[1;33m%\u001b[0m \u001b[1;33m(\u001b[0m\u001b[0mself\u001b[0m\u001b[1;33m.\u001b[0m\u001b[0mname\u001b[0m\u001b[1;33m,\u001b[0m \u001b[0mclass_of\u001b[0m\u001b[1;33m(\u001b[0m\u001b[0mobj\u001b[0m\u001b[1;33m)\u001b[0m\u001b[1;33m,\u001b[0m \u001b[0mvalidator\u001b[0m\u001b[1;33m.\u001b[0m\u001b[0minfo\u001b[0m\u001b[1;33m(\u001b[0m\u001b[1;33m)\u001b[0m\u001b[1;33m,\u001b[0m \u001b[0mrepr_type\u001b[0m\u001b[1;33m(\u001b[0m\u001b[0melement\u001b[0m\u001b[1;33m)\u001b[0m\u001b[1;33m)\u001b[0m\u001b[1;33m\u001b[0m\u001b[1;33m\u001b[0m\u001b[0m\n\u001b[1;32m-> 2233\u001b[1;33m         \u001b[1;32mraise\u001b[0m \u001b[0mTraitError\u001b[0m\u001b[1;33m(\u001b[0m\u001b[0me\u001b[0m\u001b[1;33m)\u001b[0m\u001b[1;33m\u001b[0m\u001b[1;33m\u001b[0m\u001b[0m\n\u001b[0m\u001b[0;32m   2234\u001b[0m \u001b[1;33m\u001b[0m\u001b[0m\n\u001b[0;32m   2235\u001b[0m     \u001b[1;32mdef\u001b[0m \u001b[0mvalidate\u001b[0m\u001b[1;33m(\u001b[0m\u001b[0mself\u001b[0m\u001b[1;33m,\u001b[0m \u001b[0mobj\u001b[0m\u001b[1;33m,\u001b[0m \u001b[0mvalue\u001b[0m\u001b[1;33m)\u001b[0m\u001b[1;33m:\u001b[0m\u001b[1;33m\u001b[0m\u001b[1;33m\u001b[0m\u001b[0m\n",
      "\u001b[1;31mTraitError\u001b[0m: Element of the 'children' trait of a VBox instance must be a Widget, but a value of Figure({\n    'data': [{'autocolorscale': False,\n              'colorbar': {'title': {'text': 'Mortality'}},\n              'colorscale': [[0.0, 'rgb(247,251,255)'], [0.125,\n                             'rgb(222,235,247)'], [0.25, 'rgb(198,219,239)'],\n                             [0.375, 'rgb(158,202,225)'], [0.5,\n                             'rgb(107,174,214)'], [0.625, 'rgb(66,146,198)'],\n                             [0.75, 'rgb(33,113,181)'], [0.875, 'rgb(8,81,156)'],\n                             [1.0, 'rgb(8,48,107)']],\n              'hoverinfo': 'location+z',\n              'locationmode': 'country names',\n              'locations': array(['US', 'Russia', 'United Kingdom', 'Brazil', 'Spain', 'Italy', 'France',\n                                  'Germany', 'Turkey', 'Iran', 'India', 'Peru', 'China', 'Canada',\n                                  'Belgium', 'Saudi Arabia', 'Mexico', 'Netherlands', 'Chile', 'Pakistan',\n                                  'Ecuador', 'Qatar', 'Switzerland', 'Sweden', 'Belarus', 'Portugal',\n                                  'Singapore', 'Ireland', 'Bangladesh', 'United Arab Emirates', 'Poland',\n                                  'Ukraine', 'Indonesia', 'Romania', 'Israel', 'Japan', 'Austria',\n                                  'Colombia', 'South Africa', 'Kuwait', 'Philippines',\n                                  'Dominican Republic', 'Egypt', 'Denmark', 'Korea, South', 'Serbia',\n                                  'Panama', 'Czechia', 'Norway', 'Argentina', 'Australia', 'Algeria',\n                                  'Bahrain', 'Malaysia', 'Morocco', 'Afghanistan', 'Kazakhstan',\n                                  'Finland', 'Moldova', 'Nigeria', 'Ghana', 'Oman', 'Armenia', 'Bolivia',\n                                  'Luxembourg', 'Hungary', 'Iraq', 'Azerbaijan', 'Cameroon', 'Thailand',\n                                  'Greece', 'Uzbekistan', 'Guinea', 'Honduras', 'Sudan', 'Senegal',\n                                  'Bosnia and Herzegovina', 'Bulgaria', 'Croatia', \"Cote d'Ivoire\",\n                                  'Guatemala', 'Cuba', 'Iceland', 'North Macedonia', 'Estonia',\n                                  'Lithuania', 'Tajikistan', 'New Zealand', 'Slovakia', 'Slovenia',\n                                  'Congo (Kinshasa)', 'Somalia', 'El Salvador', 'Djibouti', 'Gabon',\n                                  'Kyrgyzstan', 'Maldives', 'Tunisia', 'Latvia', 'Guinea-Bissau',\n                                  'Sri Lanka', 'Kosovo', 'Albania', 'Cyprus', 'Lebanon', 'Niger', 'Kenya',\n                                  'Costa Rica', 'Mali', 'Burkina Faso', 'Paraguay', 'Andorra', 'Zambia',\n                                  'Uruguay', 'Diamond Princess', 'Georgia', 'San Marino', 'Jordan',\n                                  'Equatorial Guinea', 'Malta', 'Venezuela', 'Jamaica', 'Tanzania',\n                                  'Sierra Leone', 'Chad', 'Haiti', 'Taiwan*', 'Congo (Brazzaville)',\n                                  'West Bank and Gaza', 'Benin', 'Mauritius', 'Cabo Verde',\n                                  'Central African Republic', 'Montenegro', 'Vietnam', 'Ethiopia',\n                                  'Madagascar', 'Nepal', 'Togo', 'Rwanda', 'South Sudan', 'Uganda',\n                                  'Sao Tome and Principe', 'Liberia', 'Eswatini', 'Burma', 'Brunei',\n                                  'Mongolia', 'Mozambique', 'Yemen', 'Cambodia', 'Guyana',\n                                  'Trinidad and Tobago', 'Bahamas', 'Monaco', 'Barbados', 'Liechtenstein',\n                                  'Malawi', 'Libya', 'Mauritania', 'Syria', 'Angola', 'Zimbabwe',\n                                  'Burundi', 'Eritrea', 'Nicaragua', 'Botswana', 'Antigua and Barbuda',\n                                  'Timor-Leste', 'Gambia', 'Grenada', 'Bhutan', 'Laos', 'Saint Lucia',\n                                  'Belize', 'Fiji', 'Saint Vincent and the Grenadines', 'Dominica',\n                                  'Namibia', 'Saint Kitts and Nevis', 'Holy See', 'Comoros', 'Seychelles',\n                                  'Suriname', 'MS Zaandam', 'Papua New Guinea', 'Western Sahara',\n                                  'Lesotho'], dtype=object),\n              'marker': {'line': {'color': 'darkgray', 'width': 0.5}},\n              'reversescale': True,\n              'text': array(['US', 'Russia', 'United Kingdom', 'Brazil', 'Spain', 'Italy', 'France',\n                             'Germany', 'Turkey', 'Iran', 'India', 'Peru', 'China', 'Canada',\n                             'Belgium', 'Saudi Arabia', 'Mexico', 'Netherlands', 'Chile', 'Pakistan',\n                             'Ecuador', 'Qatar', 'Switzerland', 'Sweden', 'Belarus', 'Portugal',\n                             'Singapore', 'Ireland', 'Bangladesh', 'United Arab Emirates', 'Poland',\n                             'Ukraine', 'Indonesia', 'Romania', 'Israel', 'Japan', 'Austria',\n                             'Colombia', 'South Africa', 'Kuwait', 'Philippines',\n                             'Dominican Republic', 'Egypt', 'Denmark', 'Korea, South', 'Serbia',\n                             'Panama', 'Czechia', 'Norway', 'Argentina', 'Australia', 'Algeria',\n                             'Bahrain', 'Malaysia', 'Morocco', 'Afghanistan', 'Kazakhstan',\n                             'Finland', 'Moldova', 'Nigeria', 'Ghana', 'Oman', 'Armenia', 'Bolivia',\n                             'Luxembourg', 'Hungary', 'Iraq', 'Azerbaijan', 'Cameroon', 'Thailand',\n                             'Greece', 'Uzbekistan', 'Guinea', 'Honduras', 'Sudan', 'Senegal',\n                             'Bosnia and Herzegovina', 'Bulgaria', 'Croatia', \"Cote d'Ivoire\",\n                             'Guatemala', 'Cuba', 'Iceland', 'North Macedonia', 'Estonia',\n                             'Lithuania', 'Tajikistan', 'New Zealand', 'Slovakia', 'Slovenia',\n                             'Congo (Kinshasa)', 'Somalia', 'El Salvador', 'Djibouti', 'Gabon',\n                             'Kyrgyzstan', 'Maldives', 'Tunisia', 'Latvia', 'Guinea-Bissau',\n                             'Sri Lanka', 'Kosovo', 'Albania', 'Cyprus', 'Lebanon', 'Niger', 'Kenya',\n                             'Costa Rica', 'Mali', 'Burkina Faso', 'Paraguay', 'Andorra', 'Zambia',\n                             'Uruguay', 'Diamond Princess', 'Georgia', 'San Marino', 'Jordan',\n                             'Equatorial Guinea', 'Malta', 'Venezuela', 'Jamaica', 'Tanzania',\n                             'Sierra Leone', 'Chad', 'Haiti', 'Taiwan*', 'Congo (Brazzaville)',\n                             'West Bank and Gaza', 'Benin', 'Mauritius', 'Cabo Verde',\n                             'Central African Republic', 'Montenegro', 'Vietnam', 'Ethiopia',\n                             'Madagascar', 'Nepal', 'Togo', 'Rwanda', 'South Sudan', 'Uganda',\n                             'Sao Tome and Principe', 'Liberia', 'Eswatini', 'Burma', 'Brunei',\n                             'Mongolia', 'Mozambique', 'Yemen', 'Cambodia', 'Guyana',\n                             'Trinidad and Tobago', 'Bahamas', 'Monaco', 'Barbados', 'Liechtenstein',\n                             'Malawi', 'Libya', 'Mauritania', 'Syria', 'Angola', 'Zimbabwe',\n                             'Burundi', 'Eritrea', 'Nicaragua', 'Botswana', 'Antigua and Barbuda',\n                             'Timor-Leste', 'Gambia', 'Grenada', 'Bhutan', 'Laos', 'Saint Lucia',\n                             'Belize', 'Fiji', 'Saint Vincent and the Grenadines', 'Dominica',\n                             'Namibia', 'Saint Kitts and Nevis', 'Holy See', 'Comoros', 'Seychelles',\n                             'Suriname', 'MS Zaandam', 'Papua New Guinea', 'Western Sahara',\n                             'Lesotho'], dtype=object),\n              'type': 'choropleth',\n              'z': array([ 6.02417904,  0.93643138, 14.1700851 ,  6.68740667, 11.94765451,\n                          14.15396899, 15.64390377,  4.51710837,  2.77043531,  5.81374066,\n                           3.14966361,  2.86974521,  5.51788136,  7.53587295, 16.34298673,\n                           0.5698422 , 10.51829578, 12.89512388,  1.02784313,  2.14362018,\n                           8.24543427,  0.04600662,  6.14967143, 12.20515543,  0.55649241,\n                           4.19479267,  0.07762058,  6.39930325,  1.4620863 ,  0.94186146,\n                           4.95572389,  2.87387194,  6.61299278,  6.56155533,  1.63648397,\n                           4.56862143,  3.86624869,  3.6856299 ,  1.70157912,  0.75420875,\n                           6.53404623,  3.47571869,  5.15168861,  4.89879993,  2.37686399,\n                           2.16776626,  2.86279409,  3.51415094,  2.81246212,  4.62320278,\n                           1.40226629,  7.80737997,  0.17251294,  1.62800749,  2.79475983,\n                           2.53601441,  0.52795031,  4.67084639,  3.48184818,  3.05420373,\n                           0.50566696,  0.42758877,  1.26477296,  4.13405088,  2.71229404,\n                          13.06930693,  3.613396  ,  1.19120342,  4.50885668,  1.84757506,\n                           5.75158786,  0.43446778,  0.60195636,  5.36659108,  4.05248939,\n                           1.00806452,  5.80786026,  4.92170022,  4.26774483,  1.2802276 ,\n                           1.83054393,  4.22008547,  0.55493896,  5.63616071,  3.58744395,\n                           3.81383323,  2.55905512,  1.40093396,  1.8729097 ,  7.0941337 ,\n                           4.19243986,  3.9408867 ,  2.12314225,  0.28551035,  0.83333333,\n                           1.15131579,  0.36563071,  4.33944069,  1.88305253,  0.4040404 ,\n                           0.91743119,  3.03664921,  3.2769556 ,  1.8558952 ,  2.85400659,\n                           5.97345133,  5.63697858,  1.15874855,  6.04651163,  6.40703518,\n                           1.39949109,  6.70170828,  0.92961487,  2.72479564,  1.8258427 ,\n                           1.71184023,  6.26911315,  1.46818923,  1.17845118,  1.08499096,\n                           1.84842884,  1.73076923,  4.12573674,  6.33663366, 10.53677932,\n                           4.38596491,  1.59090909,  3.83631714,  0.52493438,  0.5899705 ,\n                           3.01204819,  0.91463415,  0.        ,  2.77777778,  0.        ,\n                           1.57728707,  0.32894737,  0.65789474,  3.65448505,  0.        ,\n                           1.37931034,  0.        ,  2.9787234 ,  9.2920354 ,  0.98522167,\n                           3.20855615,  0.70921986,  0.        ,  0.        , 15.625     ,\n                           0.        ,  8.54700855,  6.89655172, 11.45833333,  4.16666667,\n                           7.95454545,  1.2195122 ,  4.28571429,  4.61538462,  6.4516129 ,\n                           5.17241379,  4.16666667,  9.09090909,  2.38095238,  0.        ,\n                          32.        ,  4.        , 12.        ,  0.        ,  4.34782609,\n                           0.        ,  0.        ,  0.        ,  0.        , 11.11111111,\n                           0.        ,  0.        ,  0.        ,  0.        ,  0.        ,\n                           0.        ,  9.09090909,  0.        , 10.        , 22.22222222,\n                           0.        ,  0.        ,  0.        ])}],\n    'layout': {'geo': {'projection': {'type': 'orthographic'}, 'showcoastlines': False, 'showframe': False},\n               'template': '...',\n               'title': {'text': '<b>3D View Of World &nbsp;Mortality Rate</b>'}}\n}) <class 'plotly.graph_objs._figure.Figure'> was specified."
     ]
    }
   ],
   "source": [
    "interact(plot_cases_of_a_country, country='World')\n",
    "\n",
    "ipywLayout = widgets.Layout(border='solid 2px green')\n",
    "ipywLayout.display='none' # uncomment this, run cell again - then the graph/figure disappears\n",
    "widgets.VBox([fig], layout=ipywLayout)"
   ]
  },
  {
   "cell_type": "markdown",
   "metadata": {},
   "source": [
    "<font color='Brown'><b> \n",
    "    \n",
    "## Top 20 Countries in terms of number of Patients Recovered"
   ]
  },
  {
   "cell_type": "code",
   "execution_count": 49,
   "metadata": {},
   "outputs": [
    {
     "data": {
      "application/vnd.jupyter.widget-view+json": {
       "model_id": "db0d32d6287d41439e705f73364d8d33",
       "version_major": 2,
       "version_minor": 0
      },
      "text/plain": [
       "FigureWidget({\n",
       "    'data': [{'marker': {'color': [#a3a7e4, #a3a7e4, #a3a7e4, #a3a7e4, #a3a7e4,\n",
       "               â€¦"
      ]
     },
     "metadata": {},
     "output_type": "display_data"
    }
   ],
   "source": [
    "x = sorted_country_df1.head(20)[\"country\"]\n",
    "y = sorted_country_df1.head(20)[\"recovered\"]\n",
    "\n",
    "f = go.FigureWidget([go.Scatter(x=x, y=y, mode='markers')])\n",
    "\n",
    "scatter = f.data[0]\n",
    "colors = ['#a3a7e4'] * 100\n",
    "scatter.marker.color = colors\n",
    "scatter.marker.size = [10] * 100\n",
    "f.layout.hovermode = 'closest'\n",
    "f.update_layout(\n",
    "        title=\"Patient Recovery Report\",\n",
    "        yaxis_title='Recovered Cases',\n",
    "        \n",
    "    );\n",
    "\n",
    "# create our callback function\n",
    "def update_point(trace, points, selector):\n",
    "    c = list(scatter.marker.color)\n",
    "    s = list(scatter.marker.size)\n",
    "    for i in points.point_inds:\n",
    "        c[i] = '#bae2be'\n",
    "        s[i] = 20\n",
    "        with f.batch_update():\n",
    "            scatter.marker.color = c\n",
    "            scatter.marker.size = s\n",
    "\n",
    "\n",
    "scatter.on_click(update_point)\n",
    "f\n"
   ]
  },
  {
   "cell_type": "markdown",
   "metadata": {},
   "source": [
    "<!-- <font color='Brown'><b> \n",
    "  \n",
    "# World View of Covid Spread -->"
   ]
  },
  {
   "cell_type": "code",
   "execution_count": 29,
   "metadata": {
    "scrolled": true
   },
   "outputs": [],
   "source": [
    "# world_map = folium.Map(location=[11,0], tiles=\"cartodbpositron\", zoom_start=2, max_zoom = 6, min_zoom = 2)\n",
    "\n",
    "\n",
    "# for i in range(0,len(confirmed_df)):\n",
    "#     folium.Circle(\n",
    "#         location=[confirmed_df.iloc[i]['lat'], confirmed_df.iloc[i]['long']],\n",
    "#         fill=True,\n",
    "#         radius=(int((np.log(confirmed_df.iloc[i,-1]+1.00001)))+0.2)*50000,\n",
    "#         color='red',\n",
    "#         fill_color='green',\n",
    "#         tooltip = \"<div style='margin: 0; background-color: black; color: white;'>\"+\n",
    "#                     \"<h4 style='text-align:center;font-weight: bold'>\"+confirmed_df.iloc[i]['country'] + \"</h4>\"\n",
    "#                     \"<hr style='margin:10px;color: white;'>\"+\n",
    "#                     \"<ul style='color: white;;list-style-type:circle;align-item:left;padding-left:20px;padding-right:20px'>\"+\n",
    "#                         \"<li>Confirmed: \"+str(confirmed_df.iloc[i,-1])+\"</li>\"+\n",
    "#                         \"<li>Deaths:   \"+str(death_df.iloc[i,-1])+\"</li>\"+\n",
    "#                         \"<li>Death Rate: \"+ str(np.round(death_df.iloc[i,-1]/(confirmed_df.iloc[i,-1]+1.00001)*100,2))+ \"</li>\"+\n",
    "#                     \"</ul></div>\",\n",
    "#         ).add_to(world_map)\n",
    "\n",
    "# world_map\n",
    "\n"
   ]
  },
  {
   "cell_type": "markdown",
   "metadata": {},
   "source": [
    "<font color='Brown'><b> \n",
    "    \n",
    "# A Spatial View of World Mortality Rate"
   ]
  },
  {
   "cell_type": "code",
   "execution_count": 25,
   "metadata": {},
   "outputs": [
    {
     "data": {
      "application/vnd.plotly.v1+json": {
       "config": {
        "plotlyServerURL": "https://plot.ly"
       },
       "data": [
        {
         "autocolorscale": false,
         "colorbar": {
          "title": {
           "text": "Mortality"
          }
         },
         "colorscale": [
          [
           0,
           "rgb(247,251,255)"
          ],
          [
           0.125,
           "rgb(222,235,247)"
          ],
          [
           0.25,
           "rgb(198,219,239)"
          ],
          [
           0.375,
           "rgb(158,202,225)"
          ],
          [
           0.5,
           "rgb(107,174,214)"
          ],
          [
           0.625,
           "rgb(66,146,198)"
          ],
          [
           0.75,
           "rgb(33,113,181)"
          ],
          [
           0.875,
           "rgb(8,81,156)"
          ],
          [
           1,
           "rgb(8,48,107)"
          ]
         ],
         "hoverinfo": "location+z",
         "locationmode": "country names",
         "locations": [
          "US",
          "Russia",
          "United Kingdom",
          "Brazil",
          "Spain",
          "Italy",
          "France",
          "Germany",
          "Turkey",
          "Iran",
          "India",
          "Peru",
          "China",
          "Canada",
          "Belgium",
          "Saudi Arabia",
          "Mexico",
          "Netherlands",
          "Chile",
          "Pakistan",
          "Ecuador",
          "Qatar",
          "Switzerland",
          "Sweden",
          "Belarus",
          "Portugal",
          "Singapore",
          "Ireland",
          "Bangladesh",
          "United Arab Emirates",
          "Poland",
          "Ukraine",
          "Indonesia",
          "Romania",
          "Israel",
          "Japan",
          "Austria",
          "Colombia",
          "South Africa",
          "Kuwait",
          "Philippines",
          "Dominican Republic",
          "Egypt",
          "Denmark",
          "Korea, South",
          "Serbia",
          "Panama",
          "Czechia",
          "Norway",
          "Argentina",
          "Australia",
          "Algeria",
          "Bahrain",
          "Malaysia",
          "Morocco",
          "Afghanistan",
          "Kazakhstan",
          "Finland",
          "Moldova",
          "Nigeria",
          "Ghana",
          "Oman",
          "Armenia",
          "Bolivia",
          "Luxembourg",
          "Hungary",
          "Iraq",
          "Azerbaijan",
          "Cameroon",
          "Thailand",
          "Greece",
          "Uzbekistan",
          "Guinea",
          "Honduras",
          "Sudan",
          "Senegal",
          "Bosnia and Herzegovina",
          "Bulgaria",
          "Croatia",
          "Cote d'Ivoire",
          "Guatemala",
          "Cuba",
          "Iceland",
          "North Macedonia",
          "Estonia",
          "Lithuania",
          "Tajikistan",
          "New Zealand",
          "Slovakia",
          "Slovenia",
          "Congo (Kinshasa)",
          "Somalia",
          "El Salvador",
          "Djibouti",
          "Gabon",
          "Kyrgyzstan",
          "Maldives",
          "Tunisia",
          "Latvia",
          "Guinea-Bissau",
          "Sri Lanka",
          "Kosovo",
          "Albania",
          "Cyprus",
          "Lebanon",
          "Niger",
          "Kenya",
          "Costa Rica",
          "Mali",
          "Burkina Faso",
          "Paraguay",
          "Andorra",
          "Zambia",
          "Uruguay",
          "Diamond Princess",
          "Georgia",
          "San Marino",
          "Jordan",
          "Equatorial Guinea",
          "Malta",
          "Venezuela",
          "Jamaica",
          "Tanzania",
          "Sierra Leone",
          "Chad",
          "Haiti",
          "Taiwan*",
          "Congo (Brazzaville)",
          "West Bank and Gaza",
          "Benin",
          "Mauritius",
          "Cabo Verde",
          "Central African Republic",
          "Montenegro",
          "Vietnam",
          "Ethiopia",
          "Madagascar",
          "Nepal",
          "Togo",
          "Rwanda",
          "South Sudan",
          "Uganda",
          "Sao Tome and Principe",
          "Liberia",
          "Eswatini",
          "Burma",
          "Brunei",
          "Mongolia",
          "Mozambique",
          "Yemen",
          "Cambodia",
          "Guyana",
          "Trinidad and Tobago",
          "Bahamas",
          "Monaco",
          "Barbados",
          "Liechtenstein",
          "Malawi",
          "Libya",
          "Mauritania",
          "Syria",
          "Angola",
          "Zimbabwe",
          "Burundi",
          "Eritrea",
          "Nicaragua",
          "Botswana",
          "Antigua and Barbuda",
          "Timor-Leste",
          "Gambia",
          "Grenada",
          "Bhutan",
          "Laos",
          "Saint Lucia",
          "Belize",
          "Fiji",
          "Saint Vincent and the Grenadines",
          "Dominica",
          "Namibia",
          "Saint Kitts and Nevis",
          "Holy See",
          "Comoros",
          "Seychelles",
          "Suriname",
          "MS Zaandam",
          "Papua New Guinea",
          "Western Sahara",
          "Lesotho"
         ],
         "marker": {
          "line": {
           "color": "darkgray",
           "width": 0.5
          }
         },
         "reversescale": true,
         "text": [
          "US",
          "Russia",
          "United Kingdom",
          "Brazil",
          "Spain",
          "Italy",
          "France",
          "Germany",
          "Turkey",
          "Iran",
          "India",
          "Peru",
          "China",
          "Canada",
          "Belgium",
          "Saudi Arabia",
          "Mexico",
          "Netherlands",
          "Chile",
          "Pakistan",
          "Ecuador",
          "Qatar",
          "Switzerland",
          "Sweden",
          "Belarus",
          "Portugal",
          "Singapore",
          "Ireland",
          "Bangladesh",
          "United Arab Emirates",
          "Poland",
          "Ukraine",
          "Indonesia",
          "Romania",
          "Israel",
          "Japan",
          "Austria",
          "Colombia",
          "South Africa",
          "Kuwait",
          "Philippines",
          "Dominican Republic",
          "Egypt",
          "Denmark",
          "Korea, South",
          "Serbia",
          "Panama",
          "Czechia",
          "Norway",
          "Argentina",
          "Australia",
          "Algeria",
          "Bahrain",
          "Malaysia",
          "Morocco",
          "Afghanistan",
          "Kazakhstan",
          "Finland",
          "Moldova",
          "Nigeria",
          "Ghana",
          "Oman",
          "Armenia",
          "Bolivia",
          "Luxembourg",
          "Hungary",
          "Iraq",
          "Azerbaijan",
          "Cameroon",
          "Thailand",
          "Greece",
          "Uzbekistan",
          "Guinea",
          "Honduras",
          "Sudan",
          "Senegal",
          "Bosnia and Herzegovina",
          "Bulgaria",
          "Croatia",
          "Cote d'Ivoire",
          "Guatemala",
          "Cuba",
          "Iceland",
          "North Macedonia",
          "Estonia",
          "Lithuania",
          "Tajikistan",
          "New Zealand",
          "Slovakia",
          "Slovenia",
          "Congo (Kinshasa)",
          "Somalia",
          "El Salvador",
          "Djibouti",
          "Gabon",
          "Kyrgyzstan",
          "Maldives",
          "Tunisia",
          "Latvia",
          "Guinea-Bissau",
          "Sri Lanka",
          "Kosovo",
          "Albania",
          "Cyprus",
          "Lebanon",
          "Niger",
          "Kenya",
          "Costa Rica",
          "Mali",
          "Burkina Faso",
          "Paraguay",
          "Andorra",
          "Zambia",
          "Uruguay",
          "Diamond Princess",
          "Georgia",
          "San Marino",
          "Jordan",
          "Equatorial Guinea",
          "Malta",
          "Venezuela",
          "Jamaica",
          "Tanzania",
          "Sierra Leone",
          "Chad",
          "Haiti",
          "Taiwan*",
          "Congo (Brazzaville)",
          "West Bank and Gaza",
          "Benin",
          "Mauritius",
          "Cabo Verde",
          "Central African Republic",
          "Montenegro",
          "Vietnam",
          "Ethiopia",
          "Madagascar",
          "Nepal",
          "Togo",
          "Rwanda",
          "South Sudan",
          "Uganda",
          "Sao Tome and Principe",
          "Liberia",
          "Eswatini",
          "Burma",
          "Brunei",
          "Mongolia",
          "Mozambique",
          "Yemen",
          "Cambodia",
          "Guyana",
          "Trinidad and Tobago",
          "Bahamas",
          "Monaco",
          "Barbados",
          "Liechtenstein",
          "Malawi",
          "Libya",
          "Mauritania",
          "Syria",
          "Angola",
          "Zimbabwe",
          "Burundi",
          "Eritrea",
          "Nicaragua",
          "Botswana",
          "Antigua and Barbuda",
          "Timor-Leste",
          "Gambia",
          "Grenada",
          "Bhutan",
          "Laos",
          "Saint Lucia",
          "Belize",
          "Fiji",
          "Saint Vincent and the Grenadines",
          "Dominica",
          "Namibia",
          "Saint Kitts and Nevis",
          "Holy See",
          "Comoros",
          "Seychelles",
          "Suriname",
          "MS Zaandam",
          "Papua New Guinea",
          "Western Sahara",
          "Lesotho"
         ],
         "type": "choropleth",
         "z": [
          6.024179043842173,
          0.9364313776756412,
          14.170085103777629,
          6.687406669985068,
          11.947654509358554,
          14.15396899327966,
          15.643903769206366,
          4.517108370952303,
          2.7704353063204743,
          5.813740661242282,
          3.1496636130145887,
          2.8697452125757263,
          5.5178813619815825,
          7.535872951028954,
          16.342986734822446,
          0.5698421975452952,
          10.518295780084928,
          12.895123882792172,
          1.0278431282976634,
          2.143620178041543,
          8.245434271593032,
          0.046006624953993366,
          6.149671429038481,
          12.205155425803671,
          0.5564924114671164,
          4.194792671166828,
          0.07762057650919098,
          6.399303251493032,
          1.462086300795978,
          0.9418614607415018,
          4.955723887762723,
          2.8738719381177478,
          6.612992781787896,
          6.561555331634165,
          1.6364839660670236,
          4.568621430764507,
          3.8662486938349008,
          3.6856298959804796,
          1.7015791169835643,
          0.7542087542087542,
          6.534046233684544,
          3.475718694169238,
          5.1516886090440765,
          4.898799928353932,
          2.3768639855399907,
          2.1677662582469366,
          2.8627940870289397,
          3.5141509433962264,
          2.8124621166201953,
          4.6232027764005945,
          1.4022662889518414,
          7.807379968656503,
          0.1725129384703853,
          1.6280074917158909,
          2.7947598253275108,
          2.5360144057623053,
          0.5279503105590062,
          4.670846394984326,
          3.4818481848184817,
          3.054203725457292,
          0.5056669572798606,
          0.42758877114705335,
          1.2647729628861704,
          4.134050880626223,
          2.712294043092522,
          13.069306930693068,
          3.613396004700352,
          1.1912034208918754,
          4.508856682769727,
          1.8475750577367205,
          5.751587861679606,
          0.4344677769732078,
          0.6019563581640331,
          5.366591080876796,
          4.052489386337322,
          1.0080645161290325,
          5.807860262008734,
          4.921700223713646,
          4.26774483378257,
          1.2802275960170697,
          1.8305439330543931,
          4.22008547008547,
          0.5549389567147613,
          5.6361607142857135,
          3.5874439461883414,
          3.813833225597932,
          2.559055118110236,
          1.400933955970647,
          1.872909698996656,
          7.094133697135061,
          4.192439862542956,
          3.940886699507389,
          2.123142250530785,
          0.2855103497501785,
          0.8333333333333334,
          1.1513157894736843,
          0.3656307129798903,
          4.339440694310511,
          1.883052527254708,
          0.404040404040404,
          0.9174311926605504,
          3.0366492146596857,
          3.2769556025369977,
          1.8558951965065504,
          2.854006586169045,
          5.9734513274336285,
          5.636978579481398,
          1.1587485515643106,
          6.046511627906978,
          6.407035175879398,
          1.3994910941475829,
          6.7017082785808135,
          0.9296148738379814,
          2.7247956403269757,
          1.8258426966292132,
          1.7118402282453635,
          6.269113149847095,
          1.4681892332789561,
          1.1784511784511784,
          1.08499095840868,
          1.8484288354898335,
          1.7307692307692308,
          4.12573673870334,
          6.336633663366338,
          10.536779324055669,
          4.385964912280701,
          1.5909090909090908,
          3.836317135549872,
          0.5249343832020997,
          0.5899705014749262,
          3.0120481927710845,
          0.9146341463414634,
          0,
          2.7777777777777777,
          0,
          1.5772870662460567,
          0.32894736842105265,
          0.6578947368421053,
          3.6544850498338866,
          0,
          1.3793103448275863,
          0,
          2.9787234042553186,
          9.292035398230091,
          0.9852216748768472,
          3.2085561497326203,
          0.7092198581560284,
          0,
          0,
          15.625,
          0,
          8.547008547008549,
          6.896551724137932,
          11.458333333333336,
          4.166666666666667,
          7.954545454545454,
          1.2195121951219512,
          4.285714285714286,
          4.615384615384615,
          6.451612903225807,
          5.172413793103448,
          4.166666666666667,
          9.090909090909092,
          2.380952380952381,
          0,
          32,
          4,
          12,
          0,
          4.3478260869565215,
          0,
          0,
          0,
          0,
          11.111111111111109,
          0,
          0,
          0,
          0,
          0,
          0,
          9.090909090909092,
          0,
          10,
          22.222222222222218,
          0,
          0,
          0
         ]
        }
       ],
       "layout": {
        "geo": {
         "projection": {
          "type": "orthographic"
         },
         "showcoastlines": false,
         "showframe": false
        },
        "template": {
         "data": {
          "bar": [
           {
            "error_x": {
             "color": "#2a3f5f"
            },
            "error_y": {
             "color": "#2a3f5f"
            },
            "marker": {
             "line": {
              "color": "#E5ECF6",
              "width": 0.5
             }
            },
            "type": "bar"
           }
          ],
          "barpolar": [
           {
            "marker": {
             "line": {
              "color": "#E5ECF6",
              "width": 0.5
             }
            },
            "type": "barpolar"
           }
          ],
          "carpet": [
           {
            "aaxis": {
             "endlinecolor": "#2a3f5f",
             "gridcolor": "white",
             "linecolor": "white",
             "minorgridcolor": "white",
             "startlinecolor": "#2a3f5f"
            },
            "baxis": {
             "endlinecolor": "#2a3f5f",
             "gridcolor": "white",
             "linecolor": "white",
             "minorgridcolor": "white",
             "startlinecolor": "#2a3f5f"
            },
            "type": "carpet"
           }
          ],
          "choropleth": [
           {
            "colorbar": {
             "outlinewidth": 0,
             "ticks": ""
            },
            "type": "choropleth"
           }
          ],
          "contour": [
           {
            "colorbar": {
             "outlinewidth": 0,
             "ticks": ""
            },
            "colorscale": [
             [
              0,
              "#0d0887"
             ],
             [
              0.1111111111111111,
              "#46039f"
             ],
             [
              0.2222222222222222,
              "#7201a8"
             ],
             [
              0.3333333333333333,
              "#9c179e"
             ],
             [
              0.4444444444444444,
              "#bd3786"
             ],
             [
              0.5555555555555556,
              "#d8576b"
             ],
             [
              0.6666666666666666,
              "#ed7953"
             ],
             [
              0.7777777777777778,
              "#fb9f3a"
             ],
             [
              0.8888888888888888,
              "#fdca26"
             ],
             [
              1,
              "#f0f921"
             ]
            ],
            "type": "contour"
           }
          ],
          "contourcarpet": [
           {
            "colorbar": {
             "outlinewidth": 0,
             "ticks": ""
            },
            "type": "contourcarpet"
           }
          ],
          "heatmap": [
           {
            "colorbar": {
             "outlinewidth": 0,
             "ticks": ""
            },
            "colorscale": [
             [
              0,
              "#0d0887"
             ],
             [
              0.1111111111111111,
              "#46039f"
             ],
             [
              0.2222222222222222,
              "#7201a8"
             ],
             [
              0.3333333333333333,
              "#9c179e"
             ],
             [
              0.4444444444444444,
              "#bd3786"
             ],
             [
              0.5555555555555556,
              "#d8576b"
             ],
             [
              0.6666666666666666,
              "#ed7953"
             ],
             [
              0.7777777777777778,
              "#fb9f3a"
             ],
             [
              0.8888888888888888,
              "#fdca26"
             ],
             [
              1,
              "#f0f921"
             ]
            ],
            "type": "heatmap"
           }
          ],
          "heatmapgl": [
           {
            "colorbar": {
             "outlinewidth": 0,
             "ticks": ""
            },
            "colorscale": [
             [
              0,
              "#0d0887"
             ],
             [
              0.1111111111111111,
              "#46039f"
             ],
             [
              0.2222222222222222,
              "#7201a8"
             ],
             [
              0.3333333333333333,
              "#9c179e"
             ],
             [
              0.4444444444444444,
              "#bd3786"
             ],
             [
              0.5555555555555556,
              "#d8576b"
             ],
             [
              0.6666666666666666,
              "#ed7953"
             ],
             [
              0.7777777777777778,
              "#fb9f3a"
             ],
             [
              0.8888888888888888,
              "#fdca26"
             ],
             [
              1,
              "#f0f921"
             ]
            ],
            "type": "heatmapgl"
           }
          ],
          "histogram": [
           {
            "marker": {
             "colorbar": {
              "outlinewidth": 0,
              "ticks": ""
             }
            },
            "type": "histogram"
           }
          ],
          "histogram2d": [
           {
            "colorbar": {
             "outlinewidth": 0,
             "ticks": ""
            },
            "colorscale": [
             [
              0,
              "#0d0887"
             ],
             [
              0.1111111111111111,
              "#46039f"
             ],
             [
              0.2222222222222222,
              "#7201a8"
             ],
             [
              0.3333333333333333,
              "#9c179e"
             ],
             [
              0.4444444444444444,
              "#bd3786"
             ],
             [
              0.5555555555555556,
              "#d8576b"
             ],
             [
              0.6666666666666666,
              "#ed7953"
             ],
             [
              0.7777777777777778,
              "#fb9f3a"
             ],
             [
              0.8888888888888888,
              "#fdca26"
             ],
             [
              1,
              "#f0f921"
             ]
            ],
            "type": "histogram2d"
           }
          ],
          "histogram2dcontour": [
           {
            "colorbar": {
             "outlinewidth": 0,
             "ticks": ""
            },
            "colorscale": [
             [
              0,
              "#0d0887"
             ],
             [
              0.1111111111111111,
              "#46039f"
             ],
             [
              0.2222222222222222,
              "#7201a8"
             ],
             [
              0.3333333333333333,
              "#9c179e"
             ],
             [
              0.4444444444444444,
              "#bd3786"
             ],
             [
              0.5555555555555556,
              "#d8576b"
             ],
             [
              0.6666666666666666,
              "#ed7953"
             ],
             [
              0.7777777777777778,
              "#fb9f3a"
             ],
             [
              0.8888888888888888,
              "#fdca26"
             ],
             [
              1,
              "#f0f921"
             ]
            ],
            "type": "histogram2dcontour"
           }
          ],
          "mesh3d": [
           {
            "colorbar": {
             "outlinewidth": 0,
             "ticks": ""
            },
            "type": "mesh3d"
           }
          ],
          "parcoords": [
           {
            "line": {
             "colorbar": {
              "outlinewidth": 0,
              "ticks": ""
             }
            },
            "type": "parcoords"
           }
          ],
          "pie": [
           {
            "automargin": true,
            "type": "pie"
           }
          ],
          "scatter": [
           {
            "marker": {
             "colorbar": {
              "outlinewidth": 0,
              "ticks": ""
             }
            },
            "type": "scatter"
           }
          ],
          "scatter3d": [
           {
            "line": {
             "colorbar": {
              "outlinewidth": 0,
              "ticks": ""
             }
            },
            "marker": {
             "colorbar": {
              "outlinewidth": 0,
              "ticks": ""
             }
            },
            "type": "scatter3d"
           }
          ],
          "scattercarpet": [
           {
            "marker": {
             "colorbar": {
              "outlinewidth": 0,
              "ticks": ""
             }
            },
            "type": "scattercarpet"
           }
          ],
          "scattergeo": [
           {
            "marker": {
             "colorbar": {
              "outlinewidth": 0,
              "ticks": ""
             }
            },
            "type": "scattergeo"
           }
          ],
          "scattergl": [
           {
            "marker": {
             "colorbar": {
              "outlinewidth": 0,
              "ticks": ""
             }
            },
            "type": "scattergl"
           }
          ],
          "scattermapbox": [
           {
            "marker": {
             "colorbar": {
              "outlinewidth": 0,
              "ticks": ""
             }
            },
            "type": "scattermapbox"
           }
          ],
          "scatterpolar": [
           {
            "marker": {
             "colorbar": {
              "outlinewidth": 0,
              "ticks": ""
             }
            },
            "type": "scatterpolar"
           }
          ],
          "scatterpolargl": [
           {
            "marker": {
             "colorbar": {
              "outlinewidth": 0,
              "ticks": ""
             }
            },
            "type": "scatterpolargl"
           }
          ],
          "scatterternary": [
           {
            "marker": {
             "colorbar": {
              "outlinewidth": 0,
              "ticks": ""
             }
            },
            "type": "scatterternary"
           }
          ],
          "surface": [
           {
            "colorbar": {
             "outlinewidth": 0,
             "ticks": ""
            },
            "colorscale": [
             [
              0,
              "#0d0887"
             ],
             [
              0.1111111111111111,
              "#46039f"
             ],
             [
              0.2222222222222222,
              "#7201a8"
             ],
             [
              0.3333333333333333,
              "#9c179e"
             ],
             [
              0.4444444444444444,
              "#bd3786"
             ],
             [
              0.5555555555555556,
              "#d8576b"
             ],
             [
              0.6666666666666666,
              "#ed7953"
             ],
             [
              0.7777777777777778,
              "#fb9f3a"
             ],
             [
              0.8888888888888888,
              "#fdca26"
             ],
             [
              1,
              "#f0f921"
             ]
            ],
            "type": "surface"
           }
          ],
          "table": [
           {
            "cells": {
             "fill": {
              "color": "#EBF0F8"
             },
             "line": {
              "color": "white"
             }
            },
            "header": {
             "fill": {
              "color": "#C8D4E3"
             },
             "line": {
              "color": "white"
             }
            },
            "type": "table"
           }
          ]
         },
         "layout": {
          "annotationdefaults": {
           "arrowcolor": "#2a3f5f",
           "arrowhead": 0,
           "arrowwidth": 1
          },
          "coloraxis": {
           "colorbar": {
            "outlinewidth": 0,
            "ticks": ""
           }
          },
          "colorscale": {
           "diverging": [
            [
             0,
             "#8e0152"
            ],
            [
             0.1,
             "#c51b7d"
            ],
            [
             0.2,
             "#de77ae"
            ],
            [
             0.3,
             "#f1b6da"
            ],
            [
             0.4,
             "#fde0ef"
            ],
            [
             0.5,
             "#f7f7f7"
            ],
            [
             0.6,
             "#e6f5d0"
            ],
            [
             0.7,
             "#b8e186"
            ],
            [
             0.8,
             "#7fbc41"
            ],
            [
             0.9,
             "#4d9221"
            ],
            [
             1,
             "#276419"
            ]
           ],
           "sequential": [
            [
             0,
             "#0d0887"
            ],
            [
             0.1111111111111111,
             "#46039f"
            ],
            [
             0.2222222222222222,
             "#7201a8"
            ],
            [
             0.3333333333333333,
             "#9c179e"
            ],
            [
             0.4444444444444444,
             "#bd3786"
            ],
            [
             0.5555555555555556,
             "#d8576b"
            ],
            [
             0.6666666666666666,
             "#ed7953"
            ],
            [
             0.7777777777777778,
             "#fb9f3a"
            ],
            [
             0.8888888888888888,
             "#fdca26"
            ],
            [
             1,
             "#f0f921"
            ]
           ],
           "sequentialminus": [
            [
             0,
             "#0d0887"
            ],
            [
             0.1111111111111111,
             "#46039f"
            ],
            [
             0.2222222222222222,
             "#7201a8"
            ],
            [
             0.3333333333333333,
             "#9c179e"
            ],
            [
             0.4444444444444444,
             "#bd3786"
            ],
            [
             0.5555555555555556,
             "#d8576b"
            ],
            [
             0.6666666666666666,
             "#ed7953"
            ],
            [
             0.7777777777777778,
             "#fb9f3a"
            ],
            [
             0.8888888888888888,
             "#fdca26"
            ],
            [
             1,
             "#f0f921"
            ]
           ]
          },
          "colorway": [
           "#636efa",
           "#EF553B",
           "#00cc96",
           "#ab63fa",
           "#FFA15A",
           "#19d3f3",
           "#FF6692",
           "#B6E880",
           "#FF97FF",
           "#FECB52"
          ],
          "font": {
           "color": "#2a3f5f"
          },
          "geo": {
           "bgcolor": "white",
           "lakecolor": "white",
           "landcolor": "#E5ECF6",
           "showlakes": true,
           "showland": true,
           "subunitcolor": "white"
          },
          "hoverlabel": {
           "align": "left"
          },
          "hovermode": "closest",
          "mapbox": {
           "style": "light"
          },
          "paper_bgcolor": "white",
          "plot_bgcolor": "#E5ECF6",
          "polar": {
           "angularaxis": {
            "gridcolor": "white",
            "linecolor": "white",
            "ticks": ""
           },
           "bgcolor": "#E5ECF6",
           "radialaxis": {
            "gridcolor": "white",
            "linecolor": "white",
            "ticks": ""
           }
          },
          "scene": {
           "xaxis": {
            "backgroundcolor": "#E5ECF6",
            "gridcolor": "white",
            "gridwidth": 2,
            "linecolor": "white",
            "showbackground": true,
            "ticks": "",
            "zerolinecolor": "white"
           },
           "yaxis": {
            "backgroundcolor": "#E5ECF6",
            "gridcolor": "white",
            "gridwidth": 2,
            "linecolor": "white",
            "showbackground": true,
            "ticks": "",
            "zerolinecolor": "white"
           },
           "zaxis": {
            "backgroundcolor": "#E5ECF6",
            "gridcolor": "white",
            "gridwidth": 2,
            "linecolor": "white",
            "showbackground": true,
            "ticks": "",
            "zerolinecolor": "white"
           }
          },
          "shapedefaults": {
           "line": {
            "color": "#2a3f5f"
           }
          },
          "ternary": {
           "aaxis": {
            "gridcolor": "white",
            "linecolor": "white",
            "ticks": ""
           },
           "baxis": {
            "gridcolor": "white",
            "linecolor": "white",
            "ticks": ""
           },
           "bgcolor": "#E5ECF6",
           "caxis": {
            "gridcolor": "white",
            "linecolor": "white",
            "ticks": ""
           }
          },
          "title": {
           "x": 0.05
          },
          "xaxis": {
           "automargin": true,
           "gridcolor": "white",
           "linecolor": "white",
           "ticks": "",
           "title": {
            "standoff": 15
           },
           "zerolinecolor": "white",
           "zerolinewidth": 2
          },
          "yaxis": {
           "automargin": true,
           "gridcolor": "white",
           "linecolor": "white",
           "ticks": "",
           "title": {
            "standoff": 15
           },
           "zerolinecolor": "white",
           "zerolinewidth": 2
          }
         }
        },
        "title": {
         "text": "<b>3D View Of World &nbsp;Mortality Rate</b>"
        }
       }
      },
      "text/html": [
       "<div>\n",
       "        \n",
       "        \n",
       "            <div id=\"91239de0-6415-4852-ae71-9ede473ec863\" class=\"plotly-graph-div\" style=\"height:525px; width:100%;\"></div>\n",
       "            <script type=\"text/javascript\">\n",
       "                require([\"plotly\"], function(Plotly) {\n",
       "                    window.PLOTLYENV=window.PLOTLYENV || {};\n",
       "                    \n",
       "                if (document.getElementById(\"91239de0-6415-4852-ae71-9ede473ec863\")) {\n",
       "                    Plotly.newPlot(\n",
       "                        '91239de0-6415-4852-ae71-9ede473ec863',\n",
       "                        [{\"autocolorscale\": false, \"colorbar\": {\"title\": {\"text\": \"Mortality\"}}, \"colorscale\": [[0.0, \"rgb(247,251,255)\"], [0.125, \"rgb(222,235,247)\"], [0.25, \"rgb(198,219,239)\"], [0.375, \"rgb(158,202,225)\"], [0.5, \"rgb(107,174,214)\"], [0.625, \"rgb(66,146,198)\"], [0.75, \"rgb(33,113,181)\"], [0.875, \"rgb(8,81,156)\"], [1.0, \"rgb(8,48,107)\"]], \"hoverinfo\": \"location+z\", \"locationmode\": \"country names\", \"locations\": [\"US\", \"Russia\", \"United Kingdom\", \"Brazil\", \"Spain\", \"Italy\", \"France\", \"Germany\", \"Turkey\", \"Iran\", \"India\", \"Peru\", \"China\", \"Canada\", \"Belgium\", \"Saudi Arabia\", \"Mexico\", \"Netherlands\", \"Chile\", \"Pakistan\", \"Ecuador\", \"Qatar\", \"Switzerland\", \"Sweden\", \"Belarus\", \"Portugal\", \"Singapore\", \"Ireland\", \"Bangladesh\", \"United Arab Emirates\", \"Poland\", \"Ukraine\", \"Indonesia\", \"Romania\", \"Israel\", \"Japan\", \"Austria\", \"Colombia\", \"South Africa\", \"Kuwait\", \"Philippines\", \"Dominican Republic\", \"Egypt\", \"Denmark\", \"Korea, South\", \"Serbia\", \"Panama\", \"Czechia\", \"Norway\", \"Argentina\", \"Australia\", \"Algeria\", \"Bahrain\", \"Malaysia\", \"Morocco\", \"Afghanistan\", \"Kazakhstan\", \"Finland\", \"Moldova\", \"Nigeria\", \"Ghana\", \"Oman\", \"Armenia\", \"Bolivia\", \"Luxembourg\", \"Hungary\", \"Iraq\", \"Azerbaijan\", \"Cameroon\", \"Thailand\", \"Greece\", \"Uzbekistan\", \"Guinea\", \"Honduras\", \"Sudan\", \"Senegal\", \"Bosnia and Herzegovina\", \"Bulgaria\", \"Croatia\", \"Cote d'Ivoire\", \"Guatemala\", \"Cuba\", \"Iceland\", \"North Macedonia\", \"Estonia\", \"Lithuania\", \"Tajikistan\", \"New Zealand\", \"Slovakia\", \"Slovenia\", \"Congo (Kinshasa)\", \"Somalia\", \"El Salvador\", \"Djibouti\", \"Gabon\", \"Kyrgyzstan\", \"Maldives\", \"Tunisia\", \"Latvia\", \"Guinea-Bissau\", \"Sri Lanka\", \"Kosovo\", \"Albania\", \"Cyprus\", \"Lebanon\", \"Niger\", \"Kenya\", \"Costa Rica\", \"Mali\", \"Burkina Faso\", \"Paraguay\", \"Andorra\", \"Zambia\", \"Uruguay\", \"Diamond Princess\", \"Georgia\", \"San Marino\", \"Jordan\", \"Equatorial Guinea\", \"Malta\", \"Venezuela\", \"Jamaica\", \"Tanzania\", \"Sierra Leone\", \"Chad\", \"Haiti\", \"Taiwan*\", \"Congo (Brazzaville)\", \"West Bank and Gaza\", \"Benin\", \"Mauritius\", \"Cabo Verde\", \"Central African Republic\", \"Montenegro\", \"Vietnam\", \"Ethiopia\", \"Madagascar\", \"Nepal\", \"Togo\", \"Rwanda\", \"South Sudan\", \"Uganda\", \"Sao Tome and Principe\", \"Liberia\", \"Eswatini\", \"Burma\", \"Brunei\", \"Mongolia\", \"Mozambique\", \"Yemen\", \"Cambodia\", \"Guyana\", \"Trinidad and Tobago\", \"Bahamas\", \"Monaco\", \"Barbados\", \"Liechtenstein\", \"Malawi\", \"Libya\", \"Mauritania\", \"Syria\", \"Angola\", \"Zimbabwe\", \"Burundi\", \"Eritrea\", \"Nicaragua\", \"Botswana\", \"Antigua and Barbuda\", \"Timor-Leste\", \"Gambia\", \"Grenada\", \"Bhutan\", \"Laos\", \"Saint Lucia\", \"Belize\", \"Fiji\", \"Saint Vincent and the Grenadines\", \"Dominica\", \"Namibia\", \"Saint Kitts and Nevis\", \"Holy See\", \"Comoros\", \"Seychelles\", \"Suriname\", \"MS Zaandam\", \"Papua New Guinea\", \"Western Sahara\", \"Lesotho\"], \"marker\": {\"line\": {\"color\": \"darkgray\", \"width\": 0.5}}, \"reversescale\": true, \"text\": [\"US\", \"Russia\", \"United Kingdom\", \"Brazil\", \"Spain\", \"Italy\", \"France\", \"Germany\", \"Turkey\", \"Iran\", \"India\", \"Peru\", \"China\", \"Canada\", \"Belgium\", \"Saudi Arabia\", \"Mexico\", \"Netherlands\", \"Chile\", \"Pakistan\", \"Ecuador\", \"Qatar\", \"Switzerland\", \"Sweden\", \"Belarus\", \"Portugal\", \"Singapore\", \"Ireland\", \"Bangladesh\", \"United Arab Emirates\", \"Poland\", \"Ukraine\", \"Indonesia\", \"Romania\", \"Israel\", \"Japan\", \"Austria\", \"Colombia\", \"South Africa\", \"Kuwait\", \"Philippines\", \"Dominican Republic\", \"Egypt\", \"Denmark\", \"Korea, South\", \"Serbia\", \"Panama\", \"Czechia\", \"Norway\", \"Argentina\", \"Australia\", \"Algeria\", \"Bahrain\", \"Malaysia\", \"Morocco\", \"Afghanistan\", \"Kazakhstan\", \"Finland\", \"Moldova\", \"Nigeria\", \"Ghana\", \"Oman\", \"Armenia\", \"Bolivia\", \"Luxembourg\", \"Hungary\", \"Iraq\", \"Azerbaijan\", \"Cameroon\", \"Thailand\", \"Greece\", \"Uzbekistan\", \"Guinea\", \"Honduras\", \"Sudan\", \"Senegal\", \"Bosnia and Herzegovina\", \"Bulgaria\", \"Croatia\", \"Cote d'Ivoire\", \"Guatemala\", \"Cuba\", \"Iceland\", \"North Macedonia\", \"Estonia\", \"Lithuania\", \"Tajikistan\", \"New Zealand\", \"Slovakia\", \"Slovenia\", \"Congo (Kinshasa)\", \"Somalia\", \"El Salvador\", \"Djibouti\", \"Gabon\", \"Kyrgyzstan\", \"Maldives\", \"Tunisia\", \"Latvia\", \"Guinea-Bissau\", \"Sri Lanka\", \"Kosovo\", \"Albania\", \"Cyprus\", \"Lebanon\", \"Niger\", \"Kenya\", \"Costa Rica\", \"Mali\", \"Burkina Faso\", \"Paraguay\", \"Andorra\", \"Zambia\", \"Uruguay\", \"Diamond Princess\", \"Georgia\", \"San Marino\", \"Jordan\", \"Equatorial Guinea\", \"Malta\", \"Venezuela\", \"Jamaica\", \"Tanzania\", \"Sierra Leone\", \"Chad\", \"Haiti\", \"Taiwan*\", \"Congo (Brazzaville)\", \"West Bank and Gaza\", \"Benin\", \"Mauritius\", \"Cabo Verde\", \"Central African Republic\", \"Montenegro\", \"Vietnam\", \"Ethiopia\", \"Madagascar\", \"Nepal\", \"Togo\", \"Rwanda\", \"South Sudan\", \"Uganda\", \"Sao Tome and Principe\", \"Liberia\", \"Eswatini\", \"Burma\", \"Brunei\", \"Mongolia\", \"Mozambique\", \"Yemen\", \"Cambodia\", \"Guyana\", \"Trinidad and Tobago\", \"Bahamas\", \"Monaco\", \"Barbados\", \"Liechtenstein\", \"Malawi\", \"Libya\", \"Mauritania\", \"Syria\", \"Angola\", \"Zimbabwe\", \"Burundi\", \"Eritrea\", \"Nicaragua\", \"Botswana\", \"Antigua and Barbuda\", \"Timor-Leste\", \"Gambia\", \"Grenada\", \"Bhutan\", \"Laos\", \"Saint Lucia\", \"Belize\", \"Fiji\", \"Saint Vincent and the Grenadines\", \"Dominica\", \"Namibia\", \"Saint Kitts and Nevis\", \"Holy See\", \"Comoros\", \"Seychelles\", \"Suriname\", \"MS Zaandam\", \"Papua New Guinea\", \"Western Sahara\", \"Lesotho\"], \"type\": \"choropleth\", \"z\": [6.024179043842173, 0.9364313776756412, 14.170085103777629, 6.687406669985068, 11.947654509358554, 14.15396899327966, 15.643903769206366, 4.517108370952303, 2.7704353063204743, 5.813740661242282, 3.1496636130145887, 2.8697452125757263, 5.5178813619815825, 7.535872951028954, 16.342986734822446, 0.5698421975452952, 10.518295780084928, 12.895123882792172, 1.0278431282976634, 2.143620178041543, 8.245434271593032, 0.046006624953993366, 6.149671429038481, 12.205155425803671, 0.5564924114671164, 4.194792671166828, 0.07762057650919098, 6.399303251493032, 1.462086300795978, 0.9418614607415018, 4.955723887762723, 2.8738719381177478, 6.612992781787896, 6.561555331634165, 1.6364839660670236, 4.568621430764507, 3.8662486938349008, 3.6856298959804796, 1.7015791169835643, 0.7542087542087542, 6.534046233684544, 3.475718694169238, 5.1516886090440765, 4.898799928353932, 2.3768639855399907, 2.1677662582469366, 2.8627940870289397, 3.5141509433962264, 2.8124621166201953, 4.6232027764005945, 1.4022662889518414, 7.807379968656503, 0.1725129384703853, 1.6280074917158909, 2.7947598253275108, 2.5360144057623053, 0.5279503105590062, 4.670846394984326, 3.4818481848184817, 3.054203725457292, 0.5056669572798606, 0.42758877114705335, 1.2647729628861704, 4.134050880626223, 2.712294043092522, 13.069306930693068, 3.613396004700352, 1.1912034208918754, 4.508856682769727, 1.8475750577367205, 5.751587861679606, 0.4344677769732078, 0.6019563581640331, 5.366591080876796, 4.052489386337322, 1.0080645161290325, 5.807860262008734, 4.921700223713646, 4.26774483378257, 1.2802275960170697, 1.8305439330543931, 4.22008547008547, 0.5549389567147613, 5.6361607142857135, 3.5874439461883414, 3.813833225597932, 2.559055118110236, 1.400933955970647, 1.872909698996656, 7.094133697135061, 4.192439862542956, 3.940886699507389, 2.123142250530785, 0.2855103497501785, 0.8333333333333334, 1.1513157894736843, 0.3656307129798903, 4.339440694310511, 1.883052527254708, 0.404040404040404, 0.9174311926605504, 3.0366492146596857, 3.2769556025369977, 1.8558951965065504, 2.854006586169045, 5.9734513274336285, 5.636978579481398, 1.1587485515643106, 6.046511627906978, 6.407035175879398, 1.3994910941475829, 6.7017082785808135, 0.9296148738379814, 2.7247956403269757, 1.8258426966292132, 1.7118402282453635, 6.269113149847095, 1.4681892332789561, 1.1784511784511784, 1.08499095840868, 1.8484288354898335, 1.7307692307692308, 4.12573673870334, 6.336633663366338, 10.536779324055669, 4.385964912280701, 1.5909090909090908, 3.836317135549872, 0.5249343832020997, 0.5899705014749262, 3.0120481927710845, 0.9146341463414634, 0.0, 2.7777777777777777, 0.0, 1.5772870662460567, 0.32894736842105265, 0.6578947368421053, 3.6544850498338866, 0.0, 1.3793103448275863, 0.0, 2.9787234042553186, 9.292035398230091, 0.9852216748768472, 3.2085561497326203, 0.7092198581560284, 0.0, 0.0, 15.625, 0.0, 8.547008547008549, 6.896551724137932, 11.458333333333336, 4.166666666666667, 7.954545454545454, 1.2195121951219512, 4.285714285714286, 4.615384615384615, 6.451612903225807, 5.172413793103448, 4.166666666666667, 9.090909090909092, 2.380952380952381, 0.0, 32.0, 4.0, 12.0, 0.0, 4.3478260869565215, 0.0, 0.0, 0.0, 0.0, 11.111111111111109, 0.0, 0.0, 0.0, 0.0, 0.0, 0.0, 9.090909090909092, 0.0, 10.0, 22.222222222222218, 0.0, 0.0, 0.0]}],\n",
       "                        {\"geo\": {\"projection\": {\"type\": \"orthographic\"}, \"showcoastlines\": false, \"showframe\": false}, \"template\": {\"data\": {\"bar\": [{\"error_x\": {\"color\": \"#2a3f5f\"}, \"error_y\": {\"color\": \"#2a3f5f\"}, \"marker\": {\"line\": {\"color\": \"#E5ECF6\", \"width\": 0.5}}, \"type\": \"bar\"}], \"barpolar\": [{\"marker\": {\"line\": {\"color\": \"#E5ECF6\", \"width\": 0.5}}, \"type\": \"barpolar\"}], \"carpet\": [{\"aaxis\": {\"endlinecolor\": \"#2a3f5f\", \"gridcolor\": \"white\", \"linecolor\": \"white\", \"minorgridcolor\": \"white\", \"startlinecolor\": \"#2a3f5f\"}, \"baxis\": {\"endlinecolor\": \"#2a3f5f\", \"gridcolor\": \"white\", \"linecolor\": \"white\", \"minorgridcolor\": \"white\", \"startlinecolor\": \"#2a3f5f\"}, \"type\": \"carpet\"}], \"choropleth\": [{\"colorbar\": {\"outlinewidth\": 0, \"ticks\": \"\"}, \"type\": \"choropleth\"}], \"contour\": [{\"colorbar\": {\"outlinewidth\": 0, \"ticks\": \"\"}, \"colorscale\": [[0.0, \"#0d0887\"], [0.1111111111111111, \"#46039f\"], [0.2222222222222222, \"#7201a8\"], [0.3333333333333333, \"#9c179e\"], [0.4444444444444444, \"#bd3786\"], [0.5555555555555556, \"#d8576b\"], [0.6666666666666666, \"#ed7953\"], [0.7777777777777778, \"#fb9f3a\"], [0.8888888888888888, \"#fdca26\"], [1.0, \"#f0f921\"]], \"type\": \"contour\"}], \"contourcarpet\": [{\"colorbar\": {\"outlinewidth\": 0, \"ticks\": \"\"}, \"type\": \"contourcarpet\"}], \"heatmap\": [{\"colorbar\": {\"outlinewidth\": 0, \"ticks\": \"\"}, \"colorscale\": [[0.0, \"#0d0887\"], [0.1111111111111111, \"#46039f\"], [0.2222222222222222, \"#7201a8\"], [0.3333333333333333, \"#9c179e\"], [0.4444444444444444, \"#bd3786\"], [0.5555555555555556, \"#d8576b\"], [0.6666666666666666, \"#ed7953\"], [0.7777777777777778, \"#fb9f3a\"], [0.8888888888888888, \"#fdca26\"], [1.0, \"#f0f921\"]], \"type\": \"heatmap\"}], \"heatmapgl\": [{\"colorbar\": {\"outlinewidth\": 0, \"ticks\": \"\"}, \"colorscale\": [[0.0, \"#0d0887\"], [0.1111111111111111, \"#46039f\"], [0.2222222222222222, \"#7201a8\"], [0.3333333333333333, \"#9c179e\"], [0.4444444444444444, \"#bd3786\"], [0.5555555555555556, \"#d8576b\"], [0.6666666666666666, \"#ed7953\"], [0.7777777777777778, \"#fb9f3a\"], [0.8888888888888888, \"#fdca26\"], [1.0, \"#f0f921\"]], \"type\": \"heatmapgl\"}], \"histogram\": [{\"marker\": {\"colorbar\": {\"outlinewidth\": 0, \"ticks\": \"\"}}, \"type\": \"histogram\"}], \"histogram2d\": [{\"colorbar\": {\"outlinewidth\": 0, \"ticks\": \"\"}, \"colorscale\": [[0.0, \"#0d0887\"], [0.1111111111111111, \"#46039f\"], [0.2222222222222222, \"#7201a8\"], [0.3333333333333333, \"#9c179e\"], [0.4444444444444444, \"#bd3786\"], [0.5555555555555556, \"#d8576b\"], [0.6666666666666666, \"#ed7953\"], [0.7777777777777778, \"#fb9f3a\"], [0.8888888888888888, \"#fdca26\"], [1.0, \"#f0f921\"]], \"type\": \"histogram2d\"}], \"histogram2dcontour\": [{\"colorbar\": {\"outlinewidth\": 0, \"ticks\": \"\"}, \"colorscale\": [[0.0, \"#0d0887\"], [0.1111111111111111, \"#46039f\"], [0.2222222222222222, \"#7201a8\"], [0.3333333333333333, \"#9c179e\"], [0.4444444444444444, \"#bd3786\"], [0.5555555555555556, \"#d8576b\"], [0.6666666666666666, \"#ed7953\"], [0.7777777777777778, \"#fb9f3a\"], [0.8888888888888888, \"#fdca26\"], [1.0, \"#f0f921\"]], \"type\": \"histogram2dcontour\"}], \"mesh3d\": [{\"colorbar\": {\"outlinewidth\": 0, \"ticks\": \"\"}, \"type\": \"mesh3d\"}], \"parcoords\": [{\"line\": {\"colorbar\": {\"outlinewidth\": 0, \"ticks\": \"\"}}, \"type\": \"parcoords\"}], \"pie\": [{\"automargin\": true, \"type\": \"pie\"}], \"scatter\": [{\"marker\": {\"colorbar\": {\"outlinewidth\": 0, \"ticks\": \"\"}}, \"type\": \"scatter\"}], \"scatter3d\": [{\"line\": {\"colorbar\": {\"outlinewidth\": 0, \"ticks\": \"\"}}, \"marker\": {\"colorbar\": {\"outlinewidth\": 0, \"ticks\": \"\"}}, \"type\": \"scatter3d\"}], \"scattercarpet\": [{\"marker\": {\"colorbar\": {\"outlinewidth\": 0, \"ticks\": \"\"}}, \"type\": \"scattercarpet\"}], \"scattergeo\": [{\"marker\": {\"colorbar\": {\"outlinewidth\": 0, \"ticks\": \"\"}}, \"type\": \"scattergeo\"}], \"scattergl\": [{\"marker\": {\"colorbar\": {\"outlinewidth\": 0, \"ticks\": \"\"}}, \"type\": \"scattergl\"}], \"scattermapbox\": [{\"marker\": {\"colorbar\": {\"outlinewidth\": 0, \"ticks\": \"\"}}, \"type\": \"scattermapbox\"}], \"scatterpolar\": [{\"marker\": {\"colorbar\": {\"outlinewidth\": 0, \"ticks\": \"\"}}, \"type\": \"scatterpolar\"}], \"scatterpolargl\": [{\"marker\": {\"colorbar\": {\"outlinewidth\": 0, \"ticks\": \"\"}}, \"type\": \"scatterpolargl\"}], \"scatterternary\": [{\"marker\": {\"colorbar\": {\"outlinewidth\": 0, \"ticks\": \"\"}}, \"type\": \"scatterternary\"}], \"surface\": [{\"colorbar\": {\"outlinewidth\": 0, \"ticks\": \"\"}, \"colorscale\": [[0.0, \"#0d0887\"], [0.1111111111111111, \"#46039f\"], [0.2222222222222222, \"#7201a8\"], [0.3333333333333333, \"#9c179e\"], [0.4444444444444444, \"#bd3786\"], [0.5555555555555556, \"#d8576b\"], [0.6666666666666666, \"#ed7953\"], [0.7777777777777778, \"#fb9f3a\"], [0.8888888888888888, \"#fdca26\"], [1.0, \"#f0f921\"]], \"type\": \"surface\"}], \"table\": [{\"cells\": {\"fill\": {\"color\": \"#EBF0F8\"}, \"line\": {\"color\": \"white\"}}, \"header\": {\"fill\": {\"color\": \"#C8D4E3\"}, \"line\": {\"color\": \"white\"}}, \"type\": \"table\"}]}, \"layout\": {\"annotationdefaults\": {\"arrowcolor\": \"#2a3f5f\", \"arrowhead\": 0, \"arrowwidth\": 1}, \"coloraxis\": {\"colorbar\": {\"outlinewidth\": 0, \"ticks\": \"\"}}, \"colorscale\": {\"diverging\": [[0, \"#8e0152\"], [0.1, \"#c51b7d\"], [0.2, \"#de77ae\"], [0.3, \"#f1b6da\"], [0.4, \"#fde0ef\"], [0.5, \"#f7f7f7\"], [0.6, \"#e6f5d0\"], [0.7, \"#b8e186\"], [0.8, \"#7fbc41\"], [0.9, \"#4d9221\"], [1, \"#276419\"]], \"sequential\": [[0.0, \"#0d0887\"], [0.1111111111111111, \"#46039f\"], [0.2222222222222222, \"#7201a8\"], [0.3333333333333333, \"#9c179e\"], [0.4444444444444444, \"#bd3786\"], [0.5555555555555556, \"#d8576b\"], [0.6666666666666666, \"#ed7953\"], [0.7777777777777778, \"#fb9f3a\"], [0.8888888888888888, \"#fdca26\"], [1.0, \"#f0f921\"]], \"sequentialminus\": [[0.0, \"#0d0887\"], [0.1111111111111111, \"#46039f\"], [0.2222222222222222, \"#7201a8\"], [0.3333333333333333, \"#9c179e\"], [0.4444444444444444, \"#bd3786\"], [0.5555555555555556, \"#d8576b\"], [0.6666666666666666, \"#ed7953\"], [0.7777777777777778, \"#fb9f3a\"], [0.8888888888888888, \"#fdca26\"], [1.0, \"#f0f921\"]]}, \"colorway\": [\"#636efa\", \"#EF553B\", \"#00cc96\", \"#ab63fa\", \"#FFA15A\", \"#19d3f3\", \"#FF6692\", \"#B6E880\", \"#FF97FF\", \"#FECB52\"], \"font\": {\"color\": \"#2a3f5f\"}, \"geo\": {\"bgcolor\": \"white\", \"lakecolor\": \"white\", \"landcolor\": \"#E5ECF6\", \"showlakes\": true, \"showland\": true, \"subunitcolor\": \"white\"}, \"hoverlabel\": {\"align\": \"left\"}, \"hovermode\": \"closest\", \"mapbox\": {\"style\": \"light\"}, \"paper_bgcolor\": \"white\", \"plot_bgcolor\": \"#E5ECF6\", \"polar\": {\"angularaxis\": {\"gridcolor\": \"white\", \"linecolor\": \"white\", \"ticks\": \"\"}, \"bgcolor\": \"#E5ECF6\", \"radialaxis\": {\"gridcolor\": \"white\", \"linecolor\": \"white\", \"ticks\": \"\"}}, \"scene\": {\"xaxis\": {\"backgroundcolor\": \"#E5ECF6\", \"gridcolor\": \"white\", \"gridwidth\": 2, \"linecolor\": \"white\", \"showbackground\": true, \"ticks\": \"\", \"zerolinecolor\": \"white\"}, \"yaxis\": {\"backgroundcolor\": \"#E5ECF6\", \"gridcolor\": \"white\", \"gridwidth\": 2, \"linecolor\": \"white\", \"showbackground\": true, \"ticks\": \"\", \"zerolinecolor\": \"white\"}, \"zaxis\": {\"backgroundcolor\": \"#E5ECF6\", \"gridcolor\": \"white\", \"gridwidth\": 2, \"linecolor\": \"white\", \"showbackground\": true, \"ticks\": \"\", \"zerolinecolor\": \"white\"}}, \"shapedefaults\": {\"line\": {\"color\": \"#2a3f5f\"}}, \"ternary\": {\"aaxis\": {\"gridcolor\": \"white\", \"linecolor\": \"white\", \"ticks\": \"\"}, \"baxis\": {\"gridcolor\": \"white\", \"linecolor\": \"white\", \"ticks\": \"\"}, \"bgcolor\": \"#E5ECF6\", \"caxis\": {\"gridcolor\": \"white\", \"linecolor\": \"white\", \"ticks\": \"\"}}, \"title\": {\"x\": 0.05}, \"xaxis\": {\"automargin\": true, \"gridcolor\": \"white\", \"linecolor\": \"white\", \"ticks\": \"\", \"title\": {\"standoff\": 15}, \"zerolinecolor\": \"white\", \"zerolinewidth\": 2}, \"yaxis\": {\"automargin\": true, \"gridcolor\": \"white\", \"linecolor\": \"white\", \"ticks\": \"\", \"title\": {\"standoff\": 15}, \"zerolinecolor\": \"white\", \"zerolinewidth\": 2}}}, \"title\": {\"text\": \"<b>3D View Of World &nbsp;Mortality Rate</b>\"}},\n",
       "                        {\"responsive\": true}\n",
       "                    ).then(function(){\n",
       "                            \n",
       "var gd = document.getElementById('91239de0-6415-4852-ae71-9ede473ec863');\n",
       "var x = new MutationObserver(function (mutations, observer) {{\n",
       "        var display = window.getComputedStyle(gd).display;\n",
       "        if (!display || display === 'none') {{\n",
       "            console.log([gd, 'removed!']);\n",
       "            Plotly.purge(gd);\n",
       "            observer.disconnect();\n",
       "        }}\n",
       "}});\n",
       "\n",
       "// Listen for the removal of the full notebook cells\n",
       "var notebookContainer = gd.closest('#notebook-container');\n",
       "if (notebookContainer) {{\n",
       "    x.observe(notebookContainer, {childList: true});\n",
       "}}\n",
       "\n",
       "// Listen for the clearing of the current output cell\n",
       "var outputEl = gd.closest('.output');\n",
       "if (outputEl) {{\n",
       "    x.observe(outputEl, {childList: true});\n",
       "}}\n",
       "\n",
       "                        })\n",
       "                };\n",
       "                });\n",
       "            </script>\n",
       "        </div>"
      ]
     },
     "metadata": {},
     "output_type": "display_data"
    }
   ],
   "source": [
    "import plotly.graph_objects as go\n",
    "\n",
    "df = sorted_country_df1\n",
    "\n",
    "\n",
    "fig = go.Figure(data=go.Choropleth(\n",
    "    locations = df['country'],\n",
    "    z = df['mortality_rate'],\n",
    "    text = df['country'],\n",
    "    colorscale = 'Blues',\n",
    "    autocolorscale=False,\n",
    "    reversescale=True,\n",
    "    marker_line_color='darkgray',\n",
    "    marker_line_width=0.5,\n",
    "    colorbar = {\"title\": {\n",
    "      \"font\": {\"family\": \"Roboto\"}, \n",
    "      \"text\": \"<b>3D View Of World &nbsp;Mortality Rate<br>&nbsp; Rate</b>\"\n",
    "    }}, \n",
    "    colorbar_title = 'Mortality',\n",
    "    hoverinfo= \"location+z\", \n",
    "    locationmode= \"country names\",  \n",
    "    \n",
    "))\n",
    "\n",
    "fig.update_layout(\n",
    "    title_text='<b>3D View Of World &nbsp;Mortality Rate</b>',\n",
    "    geo=dict(\n",
    "        showframe=False,\n",
    "        showcoastlines=False,\n",
    "        projection_type='orthographic'\n",
    "    ),\n",
    "#     annotations = [dict(\n",
    "#         x=0.55,\n",
    "#         y=0.1,\n",
    "#         xref='paper',\n",
    "#         yref='paper',\n",
    "#         text='Source: <a href=\"https://www.cia.gov/library/publications/the-world-factbook/fields/2195.html\">\\\n",
    "#             CIA World Factbook</a>',\n",
    "#         showarrow = False\n",
    "#     )]\n",
    ")\n",
    "\n",
    "fig.show()"
   ]
  },
  {
   "cell_type": "markdown",
   "metadata": {},
   "source": [
    "<font color='Brown'><b> \n",
    "\n",
    "## More Info on COVID-19:\n",
    "\n",
    "### https://www.who.int/health-topics/coronavirus\n",
    "### https://www.mygov.in/covid-19\n",
    "### https://www.who.int/gho/database/en/\n"
   ]
  },
  {
   "cell_type": "markdown",
   "metadata": {},
   "source": [
    "<font color='Brown'><b> \n",
    "\n",
    "## References:\n",
    "\n",
    "### https://github.com/\n",
    "### https://www.arcgis.com/apps/opsdashboard/index.html#/bda7594740fd40299423467b48e9ecf6\n",
    "### https://plotly.com/python/\n",
    "### https://www.who.int/gho/database/en/\n",
    "### https://towardsdatascience.com/building-your-own-covid-19-epidemic-simple-model-using-python-e39788fbda55\n"
   ]
  }
 ],
 "metadata": {
  "kernelspec": {
   "display_name": "Python 3",
   "language": "python",
   "name": "python3"
  },
  "language_info": {
   "codemirror_mode": {
    "name": "ipython",
    "version": 3
   },
   "file_extension": ".py",
   "mimetype": "text/x-python",
   "name": "python",
   "nbconvert_exporter": "python",
   "pygments_lexer": "ipython3",
   "version": "3.7.6"
  }
 },
 "nbformat": 4,
 "nbformat_minor": 4
}
